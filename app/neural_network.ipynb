{
 "cells": [
  {
   "cell_type": "code",
   "execution_count": 2,
   "metadata": {},
   "outputs": [
    {
     "name": "stderr",
     "output_type": "stream",
     "text": [
      "/Users/beesamprajveenkumar/miniconda3/lib/python3.12/site-packages/tqdm/auto.py:21: TqdmWarning: IProgress not found. Please update jupyter and ipywidgets. See https://ipywidgets.readthedocs.io/en/stable/user_install.html\n",
      "  from .autonotebook import tqdm as notebook_tqdm\n"
     ]
    }
   ],
   "source": [
    "from datasets import load_dataset\n",
    "import pandas as pd\n",
    "import numpy as np\n",
    "import torch\n",
    "from torch import nn\n",
    "import torch.optim as optim\n",
    "from torch.utils.data import Dataset, DataLoader\n",
    "from torch.nn.utils.rnn import pad_sequence\n",
    "import torch.nn.functional as F\n",
    "import sentencepiece as spm\n",
    "import gensim\n",
    "from gensim.models import Word2Vec\n",
    "import random\n",
    "from tqdm import tqdm\n",
    "import json\n",
    "import torch\n",
    "import torch.nn as nn\n",
    "import torch.optim as optim\n",
    "import matplotlib.pyplot as plt\n",
    "import numpy as np\n",
    "from torch.utils.data import Dataset, DataLoader\n",
    "from torch.nn.utils.rnn import pad_sequence\n",
    "import torch.nn.functional as F\n",
    "from mlflow import MlflowClient\n",
    "from pprint import pprint\n",
    "from sklearn.ensemble import RandomForestRegressor\n",
    "from two_tower_classes import TwoTowerNN"
   ]
  },
  {
   "cell_type": "code",
   "execution_count": 3,
   "metadata": {},
   "outputs": [
    {
     "data": {
      "text/plain": [
       "<All keys matched successfully>"
      ]
     },
     "execution_count": 3,
     "metadata": {},
     "output_type": "execute_result"
    }
   ],
   "source": [
    "vocab_size = 1000\n",
    "embedding_dim = 100\n",
    "query_hidden_size = 64\n",
    "doc_hidden_size = 64\n",
    "query_num_layers = 2\n",
    "doc_num_layers = 2\n",
    "output_size = 1\n",
    "fine_tune=False\n",
    "\n",
    "eval_model = TwoTowerNN( \n",
    "    sp_model_path='m.model', word2vec_model_path='word2vec.model',\n",
    "    embedding_dim=embedding_dim,\n",
    "    query_hidden_size=query_hidden_size, doc_hidden_size=doc_hidden_size,\n",
    "    query_num_layers=query_num_layers, doc_num_layers=doc_num_layers,\n",
    "    output_size=output_size, vocab_size=vocab_size, fine_tune=fine_tune,\n",
    ")\n",
    "eval_model.load_state_dict(torch.load('two_tower_model.pth'))"
   ]
  },
  {
   "cell_type": "code",
   "execution_count": 4,
   "metadata": {},
   "outputs": [],
   "source": [
    "# Load document embeddings from the file\n",
    "with open(\"document_embeddings.json\", \"r\") as f:\n",
    "    document_embeddings_lists = json.load(f)\n",
    "\n",
    "# Convert lists to tensors\n",
    "document_embeds = {i: torch.tensor(embedding) for i, embedding in enumerate(document_embeddings_lists)}"
   ]
  },
  {
   "cell_type": "code",
   "execution_count": 5,
   "metadata": {},
   "outputs": [],
   "source": [
    "# Load the dictionary from the JSON file\n",
    "with open(\"id_doc_dict.json\", \"r\") as f:\n",
    "    id_doc_dict = json.load(f)"
   ]
  },
  {
   "cell_type": "code",
   "execution_count": 6,
   "metadata": {},
   "outputs": [
    {
     "name": "stderr",
     "output_type": "stream",
     "text": [
      "/Users/beesamprajveenkumar/Documents/Projects/MLX/two_tower/app/model/two_tower_classes.py:140: UserWarning: Creating a tensor from a list of numpy.ndarrays is extremely slow. Please consider converting the list to a single numpy.ndarray with numpy.array() before converting to a tensor. (Triggered internally at /Users/runner/work/pytorch/pytorch/pytorch/torch/csrc/utils/tensor_new.cpp:278.)\n",
      "  query_input = torch.tensor(query_input)  # Convert to tensor if required\n"
     ]
    }
   ],
   "source": [
    "# predict\n",
    "query='What is rba?'\n",
    "candidate_docs_ids=id_doc_dict\n",
    "k=5\n",
    "result = eval_model.predict(\n",
    "    query, candidate_docs_ids, id_doc_dict=id_doc_dict,\n",
    "    doc_emb_dict=document_embeds, k=k,\n",
    ")\n",
    "\n",
    "\n",
    "\n",
    "def predict_passages(query):\n",
    "    candidate_docs_ids=id_doc_dict\n",
    "    k=5\n",
    "    result = eval_model.predict(query, candidate_docs_ids, id_doc_dict=id_doc_dict, doc_emb_dict=document_embeds, k=k)\n",
    "    return result\n",
    "\n"
   ]
  },
  {
   "cell_type": "code",
   "execution_count": 7,
   "metadata": {},
   "outputs": [
    {
     "data": {
      "text/plain": [
       "[(\"Bachelor of science in biology degree holders working as research laboratory technicians earned $28,000 to $38,000 per year, according to a survey of 1,303 biology majors by PayScale.com that was updated in November 2010. Biology majors working as high school teachers made salaries between $36,801 and $48,519 annually. Mid-Career Income. Molecular biology majors with 15 years of experience earned a median salary of $82,900 per year, according to PayScale.com's College Salary Report, while those with a general biology degree earned $72,800 a year, just ahead of microbiology majors, whose median mid-career salary was $72,600.\",\n",
       "  0.14949828386306763),\n",
       " (\"Starting Salaries. The starting median pay for biology majors was $40,600 per year for those who specialized in microbiology, according to PayScale.com's 2010-2011 College Salary Report, while for those with a molecular biology focus it was $40,200 annually. General biology majors had a median starting salary of $38,400. Mid-Career Income. Molecular biology majors with 15 years of experience earned a median salary of $82,900 per year, according to PayScale.com's College Salary Report, while those with a general biology degree earned $72,800 a year, just ahead of microbiology majors, whose median mid-career salary was $72,600.\",\n",
       "  0.1491612046957016),\n",
       " ('© 2014 WebMD, LLC. All rights reserved. The lungs are a pair of spongy, air-filled organs located on either side of the chest (thorax). The trachea (windpipe) conducts inhaled air into the lungs through its tubular branches, called bronchi. The bronchi then divide into smaller and smaller branches (bronchioles), finally becoming microscopic. ',\n",
       "  0.14831441640853882),\n",
       " ('Hummingbird Moth. The hummingbird moth is an enchanting insect. Many mistake it for a hummingbird, it is that charming! On summer evenings, my husband and I sit outside in front of our flower garden watching hummingbirds. Also, we have the pleasure of viewing these moths, a creature that resembles a hummingbird in many ways. There are 2 usual suspects that are categorized as hummingbird moths: 1) The Clearwing Moth (Scientic Name-Hemaris thysbe). The Clearwing moth is a beautiful insect',\n",
       "  0.1451757401227951),\n",
       " ('The most mysterious thing about Guge Kingdom is how a kingdom with such rich and well-developed... Legend has it that it was the Leizu(嫘祖), wife of the Yellow Emperor, ruler of China in about 3000 BC, who discovered silkworms and subsequently invented the silk reel and the silk loom. How Guge Kingdom Disappeared',\n",
       "  0.14368632435798645)]"
      ]
     },
     "execution_count": 7,
     "metadata": {},
     "output_type": "execute_result"
    }
   ],
   "source": [
    "result"
   ]
  },
  {
   "cell_type": "code",
   "execution_count": 8,
   "metadata": {},
   "outputs": [],
   "source": [
    "answer1 = predict_passages('welcome to england')"
   ]
  },
  {
   "cell_type": "code",
   "execution_count": 9,
   "metadata": {},
   "outputs": [
    {
     "data": {
      "text/plain": [
       "[(\"Bachelor of science in biology degree holders working as research laboratory technicians earned $28,000 to $38,000 per year, according to a survey of 1,303 biology majors by PayScale.com that was updated in November 2010. Biology majors working as high school teachers made salaries between $36,801 and $48,519 annually. Mid-Career Income. Molecular biology majors with 15 years of experience earned a median salary of $82,900 per year, according to PayScale.com's College Salary Report, while those with a general biology degree earned $72,800 a year, just ahead of microbiology majors, whose median mid-career salary was $72,600.\",\n",
       "  0.1706259399652481),\n",
       " (\"Starting Salaries. The starting median pay for biology majors was $40,600 per year for those who specialized in microbiology, according to PayScale.com's 2010-2011 College Salary Report, while for those with a molecular biology focus it was $40,200 annually. General biology majors had a median starting salary of $38,400. Mid-Career Income. Molecular biology majors with 15 years of experience earned a median salary of $82,900 per year, according to PayScale.com's College Salary Report, while those with a general biology degree earned $72,800 a year, just ahead of microbiology majors, whose median mid-career salary was $72,600.\",\n",
       "  0.17020022869110107),\n",
       " ('© 2014 WebMD, LLC. All rights reserved. The lungs are a pair of spongy, air-filled organs located on either side of the chest (thorax). The trachea (windpipe) conducts inhaled air into the lungs through its tubular branches, called bronchi. The bronchi then divide into smaller and smaller branches (bronchioles), finally becoming microscopic. ',\n",
       "  0.16853894293308258),\n",
       " ('Hummingbird Moth. The hummingbird moth is an enchanting insect. Many mistake it for a hummingbird, it is that charming! On summer evenings, my husband and I sit outside in front of our flower garden watching hummingbirds. Also, we have the pleasure of viewing these moths, a creature that resembles a hummingbird in many ways. There are 2 usual suspects that are categorized as hummingbird moths: 1) The Clearwing Moth (Scientic Name-Hemaris thysbe). The Clearwing moth is a beautiful insect',\n",
       "  0.16638299822807312),\n",
       " ('The most mysterious thing about Guge Kingdom is how a kingdom with such rich and well-developed... Legend has it that it was the Leizu(嫘祖), wife of the Yellow Emperor, ruler of China in about 3000 BC, who discovered silkworms and subsequently invented the silk reel and the silk loom. How Guge Kingdom Disappeared',\n",
       "  0.1654205620288849)]"
      ]
     },
     "execution_count": 9,
     "metadata": {},
     "output_type": "execute_result"
    }
   ],
   "source": [
    "answer1"
   ]
  },
  {
   "cell_type": "code",
   "execution_count": 11,
   "metadata": {},
   "outputs": [
    {
     "ename": "AttributeError",
     "evalue": "'list' object has no attribute 'type'",
     "output_type": "error",
     "traceback": [
      "\u001b[0;31m---------------------------------------------------------------------------\u001b[0m",
      "\u001b[0;31mAttributeError\u001b[0m                            Traceback (most recent call last)",
      "Cell \u001b[0;32mIn[11], line 1\u001b[0m\n\u001b[0;32m----> 1\u001b[0m \u001b[43manswer1\u001b[49m\u001b[38;5;241;43m.\u001b[39;49m\u001b[43mtype\u001b[49m\n",
      "\u001b[0;31mAttributeError\u001b[0m: 'list' object has no attribute 'type'"
     ]
    }
   ],
   "source": [
    "answer1.type"
   ]
  },
  {
   "cell_type": "code",
   "execution_count": null,
   "metadata": {},
   "outputs": [],
   "source": []
  },
  {
   "cell_type": "code",
   "execution_count": null,
   "metadata": {},
   "outputs": [],
   "source": []
  }
 ],
 "metadata": {
  "kernelspec": {
   "display_name": "Python 3",
   "language": "python",
   "name": "python3"
  },
  "language_info": {
   "codemirror_mode": {
    "name": "ipython",
    "version": 3
   },
   "file_extension": ".py",
   "mimetype": "text/x-python",
   "name": "python",
   "nbconvert_exporter": "python",
   "pygments_lexer": "ipython3",
   "version": "3.12.2"
  }
 },
 "nbformat": 4,
 "nbformat_minor": 2
}
