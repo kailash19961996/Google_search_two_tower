{
  "cells": [
    {
      "cell_type": "code",
      "execution_count": 1,
      "metadata": {
        "colab": {
          "base_uri": "https://localhost:8080/"
        },
        "id": "P-2JpGtM4022",
        "outputId": "2e23b5ba-d429-4e37-a083-15c8a172bfbf"
      },
      "outputs": [
        {
          "name": "stdout",
          "output_type": "stream",
          "text": [
            "Requirement already satisfied: datasets in /Users/beesamprajveenkumar/miniconda3/lib/python3.12/site-packages (2.18.0)\n",
            "Requirement already satisfied: filelock in /Users/beesamprajveenkumar/miniconda3/lib/python3.12/site-packages (from datasets) (3.13.1)\n",
            "Requirement already satisfied: numpy>=1.17 in /Users/beesamprajveenkumar/miniconda3/lib/python3.12/site-packages (from datasets) (1.26.4)\n",
            "Requirement already satisfied: pyarrow>=12.0.0 in /Users/beesamprajveenkumar/miniconda3/lib/python3.12/site-packages (from datasets) (15.0.1)\n",
            "Requirement already satisfied: pyarrow-hotfix in /Users/beesamprajveenkumar/miniconda3/lib/python3.12/site-packages (from datasets) (0.6)\n",
            "Requirement already satisfied: dill<0.3.9,>=0.3.0 in /Users/beesamprajveenkumar/miniconda3/lib/python3.12/site-packages (from datasets) (0.3.8)\n",
            "Requirement already satisfied: pandas in /Users/beesamprajveenkumar/miniconda3/lib/python3.12/site-packages (from datasets) (2.2.1)\n",
            "Requirement already satisfied: requests>=2.19.0 in /Users/beesamprajveenkumar/miniconda3/lib/python3.12/site-packages (from datasets) (2.31.0)\n",
            "Requirement already satisfied: tqdm>=4.62.1 in /Users/beesamprajveenkumar/miniconda3/lib/python3.12/site-packages (from datasets) (4.65.0)\n",
            "Requirement already satisfied: xxhash in /Users/beesamprajveenkumar/miniconda3/lib/python3.12/site-packages (from datasets) (3.4.1)\n",
            "Requirement already satisfied: multiprocess in /Users/beesamprajveenkumar/miniconda3/lib/python3.12/site-packages (from datasets) (0.70.16)\n",
            "Requirement already satisfied: fsspec<=2024.2.0,>=2023.1.0 in /Users/beesamprajveenkumar/miniconda3/lib/python3.12/site-packages (from fsspec[http]<=2024.2.0,>=2023.1.0->datasets) (2024.2.0)\n",
            "Requirement already satisfied: aiohttp in /Users/beesamprajveenkumar/miniconda3/lib/python3.12/site-packages (from datasets) (3.9.3)\n",
            "Requirement already satisfied: huggingface-hub>=0.19.4 in /Users/beesamprajveenkumar/miniconda3/lib/python3.12/site-packages (from datasets) (0.21.4)\n",
            "Requirement already satisfied: packaging in /Users/beesamprajveenkumar/miniconda3/lib/python3.12/site-packages (from datasets) (23.1)\n",
            "Requirement already satisfied: pyyaml>=5.1 in /Users/beesamprajveenkumar/miniconda3/lib/python3.12/site-packages (from datasets) (6.0.1)\n",
            "Requirement already satisfied: aiosignal>=1.1.2 in /Users/beesamprajveenkumar/miniconda3/lib/python3.12/site-packages (from aiohttp->datasets) (1.3.1)\n",
            "Requirement already satisfied: attrs>=17.3.0 in /Users/beesamprajveenkumar/miniconda3/lib/python3.12/site-packages (from aiohttp->datasets) (23.2.0)\n",
            "Requirement already satisfied: frozenlist>=1.1.1 in /Users/beesamprajveenkumar/miniconda3/lib/python3.12/site-packages (from aiohttp->datasets) (1.4.1)\n",
            "Requirement already satisfied: multidict<7.0,>=4.5 in /Users/beesamprajveenkumar/miniconda3/lib/python3.12/site-packages (from aiohttp->datasets) (6.0.5)\n",
            "Requirement already satisfied: yarl<2.0,>=1.0 in /Users/beesamprajveenkumar/miniconda3/lib/python3.12/site-packages (from aiohttp->datasets) (1.9.4)\n",
            "Requirement already satisfied: typing-extensions>=3.7.4.3 in /Users/beesamprajveenkumar/miniconda3/lib/python3.12/site-packages (from huggingface-hub>=0.19.4->datasets) (4.10.0)\n",
            "Requirement already satisfied: charset-normalizer<4,>=2 in /Users/beesamprajveenkumar/miniconda3/lib/python3.12/site-packages (from requests>=2.19.0->datasets) (2.0.4)\n",
            "Requirement already satisfied: idna<4,>=2.5 in /Users/beesamprajveenkumar/miniconda3/lib/python3.12/site-packages (from requests>=2.19.0->datasets) (3.4)\n",
            "Requirement already satisfied: urllib3<3,>=1.21.1 in /Users/beesamprajveenkumar/miniconda3/lib/python3.12/site-packages (from requests>=2.19.0->datasets) (2.1.0)\n",
            "Requirement already satisfied: certifi>=2017.4.17 in /Users/beesamprajveenkumar/miniconda3/lib/python3.12/site-packages (from requests>=2.19.0->datasets) (2024.2.2)\n",
            "Requirement already satisfied: python-dateutil>=2.8.2 in /Users/beesamprajveenkumar/miniconda3/lib/python3.12/site-packages (from pandas->datasets) (2.9.0)\n",
            "Requirement already satisfied: pytz>=2020.1 in /Users/beesamprajveenkumar/miniconda3/lib/python3.12/site-packages (from pandas->datasets) (2024.1)\n",
            "Requirement already satisfied: tzdata>=2022.7 in /Users/beesamprajveenkumar/miniconda3/lib/python3.12/site-packages (from pandas->datasets) (2024.1)\n",
            "Requirement already satisfied: six>=1.5 in /Users/beesamprajveenkumar/miniconda3/lib/python3.12/site-packages (from python-dateutil>=2.8.2->pandas->datasets) (1.16.0)\n",
            "Requirement already satisfied: tqdm in /Users/beesamprajveenkumar/miniconda3/lib/python3.12/site-packages (4.65.0)\n",
            "Requirement already satisfied: sentencepiece in /Users/beesamprajveenkumar/miniconda3/lib/python3.12/site-packages (0.2.0)\n",
            "Requirement already satisfied: word2vec in /Users/beesamprajveenkumar/miniconda3/lib/python3.12/site-packages (0.11.1)\n",
            "Requirement already satisfied: numpy>=1.9.2 in /Users/beesamprajveenkumar/miniconda3/lib/python3.12/site-packages (from word2vec) (1.26.4)\n",
            "Requirement already satisfied: joblib in /Users/beesamprajveenkumar/miniconda3/lib/python3.12/site-packages (from word2vec) (1.3.2)\n",
            "Requirement already satisfied: gensim in /Users/beesamprajveenkumar/miniconda3/lib/python3.12/site-packages (4.3.2)\n",
            "Requirement already satisfied: numpy>=1.18.5 in /Users/beesamprajveenkumar/miniconda3/lib/python3.12/site-packages (from gensim) (1.26.4)\n",
            "Requirement already satisfied: scipy>=1.7.0 in /Users/beesamprajveenkumar/miniconda3/lib/python3.12/site-packages (from gensim) (1.12.0)\n",
            "Requirement already satisfied: smart-open>=1.8.1 in /Users/beesamprajveenkumar/miniconda3/lib/python3.12/site-packages (from gensim) (7.0.1)\n",
            "Requirement already satisfied: wrapt in /Users/beesamprajveenkumar/miniconda3/lib/python3.12/site-packages (from smart-open>=1.8.1->gensim) (1.16.0)\n",
            "Requirement already satisfied: matplotlib in /Users/beesamprajveenkumar/miniconda3/lib/python3.12/site-packages (3.8.3)\n",
            "Requirement already satisfied: contourpy>=1.0.1 in /Users/beesamprajveenkumar/miniconda3/lib/python3.12/site-packages (from matplotlib) (1.2.0)\n",
            "Requirement already satisfied: cycler>=0.10 in /Users/beesamprajveenkumar/miniconda3/lib/python3.12/site-packages (from matplotlib) (0.12.1)\n",
            "Requirement already satisfied: fonttools>=4.22.0 in /Users/beesamprajveenkumar/miniconda3/lib/python3.12/site-packages (from matplotlib) (4.50.0)\n",
            "Requirement already satisfied: kiwisolver>=1.3.1 in /Users/beesamprajveenkumar/miniconda3/lib/python3.12/site-packages (from matplotlib) (1.4.5)\n",
            "Requirement already satisfied: numpy<2,>=1.21 in /Users/beesamprajveenkumar/miniconda3/lib/python3.12/site-packages (from matplotlib) (1.26.4)\n",
            "Requirement already satisfied: packaging>=20.0 in /Users/beesamprajveenkumar/miniconda3/lib/python3.12/site-packages (from matplotlib) (23.1)\n",
            "Requirement already satisfied: pillow>=8 in /Users/beesamprajveenkumar/miniconda3/lib/python3.12/site-packages (from matplotlib) (10.2.0)\n",
            "Requirement already satisfied: pyparsing>=2.3.1 in /Users/beesamprajveenkumar/miniconda3/lib/python3.12/site-packages (from matplotlib) (3.1.2)\n",
            "Requirement already satisfied: python-dateutil>=2.7 in /Users/beesamprajveenkumar/miniconda3/lib/python3.12/site-packages (from matplotlib) (2.9.0)\n",
            "Requirement already satisfied: six>=1.5 in /Users/beesamprajveenkumar/miniconda3/lib/python3.12/site-packages (from python-dateutil>=2.7->matplotlib) (1.16.0)\n"
          ]
        }
      ],
      "source": [
        "!pip install datasets\n",
        "!pip install tqdm\n",
        "!pip install sentencepiece\n",
        "!pip install word2vec\n",
        "!pip install gensim\n",
        "!pip install matplotlib"
      ]
    },
    {
      "cell_type": "code",
      "execution_count": 2,
      "metadata": {
        "id": "9z5j-Rcx5y0t"
      },
      "outputs": [
        {
          "name": "stderr",
          "output_type": "stream",
          "text": [
            "/Users/beesamprajveenkumar/miniconda3/lib/python3.12/site-packages/tqdm/auto.py:21: TqdmWarning: IProgress not found. Please update jupyter and ipywidgets. See https://ipywidgets.readthedocs.io/en/stable/user_install.html\n",
            "  from .autonotebook import tqdm as notebook_tqdm\n"
          ]
        }
      ],
      "source": [
        "from datasets import load_dataset\n",
        "import pandas as pd\n",
        "import numpy as np\n",
        "import torch\n",
        "from torch import nn\n",
        "import torch.optim as optim\n",
        "from torch.utils.data import Dataset, DataLoader\n",
        "from torch.nn.utils.rnn import pad_sequence\n",
        "import torch.nn.functional as F\n",
        "import sentencepiece as spm\n",
        "import gensim\n",
        "from gensim.models import Word2Vec\n",
        "import random\n",
        "from tqdm import tqdm\n",
        "import torch\n",
        "import torch.nn as nn\n",
        "import torch.optim as optim\n",
        "import matplotlib.pyplot as plt\n",
        "import numpy as np\n",
        "from torch.utils.data import Dataset, DataLoader\n",
        "from torch.nn.utils.rnn import pad_sequence\n",
        "import torch.nn.functional as F\n",
        "from mlflow import MlflowClient\n",
        "from pprint import pprint\n",
        "from sklearn.ensemble import RandomForestRegressor"
      ]
    },
    {
      "cell_type": "code",
      "execution_count": 3,
      "metadata": {
        "colab": {
          "base_uri": "https://localhost:8080/",
          "height": 365,
          "referenced_widgets": [
            "46578442a13a4351bc02c52647a5ea3f",
            "e62a5b2e3f7e4debb282672d26bb03c4",
            "ffa609d73ef64fbd83e5e5cabb878997",
            "f3f498bbb8df4e66b9dd3ad5f986e760",
            "6e364c29a35a435282641636ca326b0d",
            "cc4375921cbe43a38932c1103ab9ace5",
            "7c938b4df78f448ba0c0169c3f3985ed",
            "56beabf3a91340e08bdfe5e810352acb",
            "1f7ca49ab3694df7952ce7dc4a80d53b",
            "51a9399251ef41948042674a40e4e942",
            "9da32bf2334d407d87a1d703bbcc9d08",
            "f10853822c3546a5b59d761673279b89",
            "11b32e1956ae4a5f868081f28c88f14f",
            "3f6fe4b42fdc4ba78fade51607667bcb",
            "932e9dc1aa6c4e29b5227dc621fe45ae",
            "7cef35b840374d1db7c53e9555a64109",
            "9a712ec5fbc44ad7ab44433bd6e698c3",
            "0830740d5a174a1db47be8d80f88d0e2",
            "35c7ee7f1f284396a6a19e91aaf1b98a",
            "c5d2e5b99fb64b4d8057ecf90cff416c",
            "2540892046e74849acbcdc2fda643a48",
            "d7a69ddf5dc0493ca2222754acf11f45",
            "57fdb1f0a63048878ccfab84ec0f06b6",
            "c120fc9482674c8fa280cb16758ed3a2",
            "8ce484129c99419aa152aa6dcd5cd512",
            "24b0175b0f7340ee99c42351eff0e764",
            "22a452fe46ab4a17b51ffe2adad08a28",
            "024399a2e4304762a08c1f9c515bdeb5",
            "fe499df3a38142eb83a1056785010bfb",
            "f3c6348062064d6b95244ed1f5d1008c",
            "a4d29b5f12324f769269227e11894835",
            "031d77f1ac684677a2a35e9c538ce25d",
            "4252f3e6b7e647f68bb941e640a67c6c",
            "2d8de6363aca42d9a42e19cc0c4f7bdd",
            "de252f926eee48328a465968d5c0e0a7",
            "54b6f46fb88e4bf78058ffb5e1b803ab",
            "b55bfac02f314157b50bedb4b2617c87",
            "777bb2be288e4da7a0917df56336554b",
            "d3851850f6904890bb14dca3caedb3ad",
            "cfb4e1e36fa04450b6242f3f6465cb00",
            "c2e08fe69f3445afa151d2fa64244986",
            "8ffc91c613db4a4d8772e4915c93d1d9",
            "08a81b84d6d745e09c469b1a917252aa",
            "e23de89b3d71454fbaec44879e3a12e6",
            "6ff875d0dbd146aebb2baf56ef3743f9",
            "8c8c810c7ee944cea7f2c8085adea572",
            "f9a4a08a74334898b8bb87fbd09c9364",
            "ca90af36b02147a29b84faa529376674",
            "229acb77cc804f628d41eab447d31d51",
            "c1ca4e4f77864c1fb5eefcc3ac4acfdb",
            "cdf7cd4471cc4eea98f5bc757da16dbb",
            "650b05084beb475798135fcff1c809b4",
            "40322c34ea8243b0a25fe80ddfef7f12",
            "c3149d6212534a0488d1769d22bbad08",
            "520af3b93f3146a8b64591380d99691e",
            "6301c5c344ea4f13bd592ea226074a7b",
            "11b61b3ade4e46a8814f2bdaf56fa7da",
            "1b989e848c8e4dfc96d2f0fccd85089b",
            "81abee80760d4148a4164bc65210a5fe",
            "985b2e9b6bbf4e748e00d259c3d0a25d",
            "eb14083b5c464ce3b200d3623a304cfb",
            "3b25afdd38614c78a16ebbdfeefd6f3a",
            "fb96b10b754743f9bfebbcc55c76c2ef",
            "394654e0726545c59a76475dcbae6f30",
            "a04acab432ea4b6395c136d2802a45af",
            "1e2daf9a2aaa4b8eb17e4117109338ed",
            "5baec01167df4768a9746dd641d60d85",
            "f9163391469740a3b9a28c04aee62a10",
            "e7d71828cdad4353838c7298954714d6",
            "90b4fcc3eb2e4b02b7720388eee0fbf5",
            "1f154fe9335d49048095e3ad097dc041",
            "c5262217af78493cb0e76ac7db61fe5e",
            "ddf528146aaf42b781a3c0ead5070867",
            "01d39fc474144df49021e576c80aaa6f",
            "632a9f0d52e440b98e340d2eb8aee8d2",
            "7c8b061aa3bd4ddc8074ae6762f7cb1d",
            "5446c1bc7d464ea0bb6dc8f92a38253b"
          ]
        },
        "id": "aIqtBOet6Fwa",
        "outputId": "ae0bd037-e32f-4072-f7f6-50d8b21003e3"
      },
      "outputs": [],
      "source": [
        "dataset = load_dataset('ms_marco', 'v1.1')"
      ]
    },
    {
      "cell_type": "code",
      "execution_count": 4,
      "metadata": {
        "id": "i-UhhVOX6M44"
      },
      "outputs": [],
      "source": [
        "train_data = dataset['train']\n",
        "validation_data = dataset['validation']\n",
        "test_data = dataset['test']"
      ]
    },
    {
      "cell_type": "code",
      "execution_count": 5,
      "metadata": {
        "colab": {
          "base_uri": "https://localhost:8080/"
        },
        "id": "dRoUeps-6Uq8",
        "outputId": "d2a188c5-42f3-4cf9-d8d5-afb29c9378b9"
      },
      "outputs": [
        {
          "name": "stdout",
          "output_type": "stream",
          "text": [
            "train size:  (82326, 6)\n",
            "validation size:  (10047, 6)\n",
            "test size:  (9650, 6)\n"
          ]
        }
      ],
      "source": [
        "print('train size: ', train_data.shape)\n",
        "print('validation size: ', validation_data.shape)\n",
        "print('test size: ', test_data.shape)"
      ]
    },
    {
      "cell_type": "code",
      "execution_count": 6,
      "metadata": {
        "id": "TZdT69zy6g1R"
      },
      "outputs": [],
      "source": [
        "# covert to pandas\n",
        "\n",
        "train_df = train_data.to_pandas()\n",
        "validation_df = validation_data.to_pandas()\n",
        "test_df = test_data.to_pandas()"
      ]
    },
    {
      "cell_type": "code",
      "execution_count": 7,
      "metadata": {
        "colab": {
          "base_uri": "https://localhost:8080/",
          "height": 293
        },
        "id": "2EKqKJKE6n-s",
        "outputId": "e1a20e4a-e253-4db2-b7d9-081a0bdb9aa7"
      },
      "outputs": [
        {
          "data": {
            "text/html": [
              "<div>\n",
              "<style scoped>\n",
              "    .dataframe tbody tr th:only-of-type {\n",
              "        vertical-align: middle;\n",
              "    }\n",
              "\n",
              "    .dataframe tbody tr th {\n",
              "        vertical-align: top;\n",
              "    }\n",
              "\n",
              "    .dataframe thead th {\n",
              "        text-align: right;\n",
              "    }\n",
              "</style>\n",
              "<table border=\"1\" class=\"dataframe\">\n",
              "  <thead>\n",
              "    <tr style=\"text-align: right;\">\n",
              "      <th></th>\n",
              "      <th>answers</th>\n",
              "      <th>passages</th>\n",
              "      <th>query</th>\n",
              "      <th>query_id</th>\n",
              "      <th>query_type</th>\n",
              "      <th>wellFormedAnswers</th>\n",
              "    </tr>\n",
              "  </thead>\n",
              "  <tbody>\n",
              "    <tr>\n",
              "      <th>0</th>\n",
              "      <td>[Results-Based Accountability is a disciplined...</td>\n",
              "      <td>{'is_selected': [0, 0, 0, 0, 0, 1, 0, 0, 0, 0]...</td>\n",
              "      <td>what is rba</td>\n",
              "      <td>19699</td>\n",
              "      <td>description</td>\n",
              "      <td>[]</td>\n",
              "    </tr>\n",
              "    <tr>\n",
              "      <th>1</th>\n",
              "      <td>[Yes]</td>\n",
              "      <td>{'is_selected': [0, 1, 0, 0, 0, 0, 0], 'passag...</td>\n",
              "      <td>was ronald reagan a democrat</td>\n",
              "      <td>19700</td>\n",
              "      <td>description</td>\n",
              "      <td>[]</td>\n",
              "    </tr>\n",
              "    <tr>\n",
              "      <th>2</th>\n",
              "      <td>[20-25 minutes]</td>\n",
              "      <td>{'is_selected': [0, 0, 0, 0, 1, 0, 0, 0, 0, 0]...</td>\n",
              "      <td>how long do you need for sydney and surroundin...</td>\n",
              "      <td>19701</td>\n",
              "      <td>numeric</td>\n",
              "      <td>[]</td>\n",
              "    </tr>\n",
              "    <tr>\n",
              "      <th>3</th>\n",
              "      <td>[$11 to $22 per square foot]</td>\n",
              "      <td>{'is_selected': [0, 0, 0, 0, 0, 0, 0, 0, 1], '...</td>\n",
              "      <td>price to install tile in shower</td>\n",
              "      <td>19702</td>\n",
              "      <td>numeric</td>\n",
              "      <td>[]</td>\n",
              "    </tr>\n",
              "    <tr>\n",
              "      <th>4</th>\n",
              "      <td>[Due to symptoms in the body]</td>\n",
              "      <td>{'is_selected': [0, 0, 1, 0, 0, 0, 0, 0], 'pas...</td>\n",
              "      <td>why conversion observed in body</td>\n",
              "      <td>19703</td>\n",
              "      <td>description</td>\n",
              "      <td>[]</td>\n",
              "    </tr>\n",
              "  </tbody>\n",
              "</table>\n",
              "</div>"
            ],
            "text/plain": [
              "                                             answers  \\\n",
              "0  [Results-Based Accountability is a disciplined...   \n",
              "1                                              [Yes]   \n",
              "2                                    [20-25 minutes]   \n",
              "3                       [$11 to $22 per square foot]   \n",
              "4                      [Due to symptoms in the body]   \n",
              "\n",
              "                                            passages  \\\n",
              "0  {'is_selected': [0, 0, 0, 0, 0, 1, 0, 0, 0, 0]...   \n",
              "1  {'is_selected': [0, 1, 0, 0, 0, 0, 0], 'passag...   \n",
              "2  {'is_selected': [0, 0, 0, 0, 1, 0, 0, 0, 0, 0]...   \n",
              "3  {'is_selected': [0, 0, 0, 0, 0, 0, 0, 0, 1], '...   \n",
              "4  {'is_selected': [0, 0, 1, 0, 0, 0, 0, 0], 'pas...   \n",
              "\n",
              "                                               query  query_id   query_type  \\\n",
              "0                                        what is rba     19699  description   \n",
              "1                       was ronald reagan a democrat     19700  description   \n",
              "2  how long do you need for sydney and surroundin...     19701      numeric   \n",
              "3                    price to install tile in shower     19702      numeric   \n",
              "4                    why conversion observed in body     19703  description   \n",
              "\n",
              "  wellFormedAnswers  \n",
              "0                []  \n",
              "1                []  \n",
              "2                []  \n",
              "3                []  \n",
              "4                []  "
            ]
          },
          "execution_count": 7,
          "metadata": {},
          "output_type": "execute_result"
        }
      ],
      "source": [
        "train_df.head()"
      ]
    },
    {
      "cell_type": "code",
      "execution_count": 8,
      "metadata": {
        "colab": {
          "base_uri": "https://localhost:8080/",
          "height": 293
        },
        "id": "wW2oGLMtZ0mR",
        "outputId": "ec888188-991d-46f7-c4d1-f6f2254de81a"
      },
      "outputs": [
        {
          "data": {
            "text/html": [
              "<div>\n",
              "<style scoped>\n",
              "    .dataframe tbody tr th:only-of-type {\n",
              "        vertical-align: middle;\n",
              "    }\n",
              "\n",
              "    .dataframe tbody tr th {\n",
              "        vertical-align: top;\n",
              "    }\n",
              "\n",
              "    .dataframe thead th {\n",
              "        text-align: right;\n",
              "    }\n",
              "</style>\n",
              "<table border=\"1\" class=\"dataframe\">\n",
              "  <thead>\n",
              "    <tr style=\"text-align: right;\">\n",
              "      <th></th>\n",
              "      <th>answers</th>\n",
              "      <th>passages</th>\n",
              "      <th>query</th>\n",
              "      <th>query_id</th>\n",
              "      <th>query_type</th>\n",
              "      <th>wellFormedAnswers</th>\n",
              "    </tr>\n",
              "  </thead>\n",
              "  <tbody>\n",
              "    <tr>\n",
              "      <th>0</th>\n",
              "      <td>[Yes]</td>\n",
              "      <td>{'is_selected': [0, 0, 1, 0, 0, 0, 0], 'passag...</td>\n",
              "      <td>does human hair stop squirrels</td>\n",
              "      <td>0</td>\n",
              "      <td>description</td>\n",
              "      <td>[]</td>\n",
              "    </tr>\n",
              "    <tr>\n",
              "      <th>1</th>\n",
              "      <td>[Fossil fuels are basically the remains of ani...</td>\n",
              "      <td>{'is_selected': [0, 1, 0, 0, 0, 0, 0, 0, 0], '...</td>\n",
              "      <td>what are the benefits of fossil fuels</td>\n",
              "      <td>1</td>\n",
              "      <td>description</td>\n",
              "      <td>[]</td>\n",
              "    </tr>\n",
              "    <tr>\n",
              "      <th>2</th>\n",
              "      <td>[The apothem of a regular polygon is a line se...</td>\n",
              "      <td>{'is_selected': [0, 0, 0, 0, 0, 1, 0, 0, 0], '...</td>\n",
              "      <td>what is a apothem</td>\n",
              "      <td>2</td>\n",
              "      <td>description</td>\n",
              "      <td>[]</td>\n",
              "    </tr>\n",
              "    <tr>\n",
              "      <th>3</th>\n",
              "      <td>[$45 to $210. 2]</td>\n",
              "      <td>{'is_selected': [0, 0, 0, 0, 0, 1, 0, 0, 0], '...</td>\n",
              "      <td>average cost for custom canopy</td>\n",
              "      <td>3</td>\n",
              "      <td>numeric</td>\n",
              "      <td>[]</td>\n",
              "    </tr>\n",
              "    <tr>\n",
              "      <th>4</th>\n",
              "      <td>[It is the collection of physical elements tha...</td>\n",
              "      <td>{'is_selected': [0, 1, 0, 0, 0, 0, 0, 0, 0, 0]...</td>\n",
              "      <td>what is a hardware in a computer</td>\n",
              "      <td>4</td>\n",
              "      <td>description</td>\n",
              "      <td>[]</td>\n",
              "    </tr>\n",
              "  </tbody>\n",
              "</table>\n",
              "</div>"
            ],
            "text/plain": [
              "                                             answers  \\\n",
              "0                                              [Yes]   \n",
              "1  [Fossil fuels are basically the remains of ani...   \n",
              "2  [The apothem of a regular polygon is a line se...   \n",
              "3                                   [$45 to $210. 2]   \n",
              "4  [It is the collection of physical elements tha...   \n",
              "\n",
              "                                            passages  \\\n",
              "0  {'is_selected': [0, 0, 1, 0, 0, 0, 0], 'passag...   \n",
              "1  {'is_selected': [0, 1, 0, 0, 0, 0, 0, 0, 0], '...   \n",
              "2  {'is_selected': [0, 0, 0, 0, 0, 1, 0, 0, 0], '...   \n",
              "3  {'is_selected': [0, 0, 0, 0, 0, 1, 0, 0, 0], '...   \n",
              "4  {'is_selected': [0, 1, 0, 0, 0, 0, 0, 0, 0, 0]...   \n",
              "\n",
              "                                   query  query_id   query_type  \\\n",
              "0         does human hair stop squirrels         0  description   \n",
              "1  what are the benefits of fossil fuels         1  description   \n",
              "2                      what is a apothem         2  description   \n",
              "3         average cost for custom canopy         3      numeric   \n",
              "4       what is a hardware in a computer         4  description   \n",
              "\n",
              "  wellFormedAnswers  \n",
              "0                []  \n",
              "1                []  \n",
              "2                []  \n",
              "3                []  \n",
              "4                []  "
            ]
          },
          "execution_count": 8,
          "metadata": {},
          "output_type": "execute_result"
        }
      ],
      "source": [
        "test_df.head()"
      ]
    },
    {
      "cell_type": "code",
      "execution_count": 9,
      "metadata": {
        "id": "UENJUNtT6rUU"
      },
      "outputs": [],
      "source": [
        "train_df  = train_df[:100]\n",
        "validation_df = validation_df[:60]\n",
        "test_df = test_df[:10]"
      ]
    },
    {
      "cell_type": "code",
      "execution_count": 10,
      "metadata": {
        "colab": {
          "base_uri": "https://localhost:8080/"
        },
        "id": "GkAy6Dol63TL",
        "outputId": "a794a6c5-debb-4bfa-f638-8f1bda703d55"
      },
      "outputs": [
        {
          "data": {
            "text/plain": [
              "({'is_selected': array([0, 0, 0, 0, 0, 1, 0, 0, 0, 0], dtype=int32),\n",
              "  'passage_text': array([\"Since 2007, the RBA's outstanding reputation has been affected by the 'Securency' or NPA scandal. These RBA subsidiaries were involved in bribing overseas officials so that Australia might win lucrative note-printing contracts. The assets of the bank include the gold and foreign exchange reserves of Australia, which is estimated to have a net worth of A$101 billion. Nearly 94% of the RBA's employees work at its headquarters in Sydney, New South Wales and at the Business Resumption Site.\",\n",
              "         \"The Reserve Bank of Australia (RBA) came into being on 14 January 1960 as Australia 's central bank and banknote issuing authority, when the Reserve Bank Act 1959 removed the central banking functions from the Commonwealth Bank. The assets of the bank include the gold and foreign exchange reserves of Australia, which is estimated to have a net worth of A$101 billion. Nearly 94% of the RBA's employees work at its headquarters in Sydney, New South Wales and at the Business Resumption Site.\",\n",
              "         'RBA Recognized with the 2014 Microsoft US Regional Partner of the ... by PR Newswire. Contract Awarded for supply and support the. Securitisations System used for risk management and analysis. ',\n",
              "         'The inner workings of a rebuildable atomizer are surprisingly simple. The coil inside the RBA is made of some type of resistance wire, normally Kanthal or nichrome. When a current is applied to the coil (resistance wire), it heats up and the heated coil then vaporizes the eliquid. 1 The bottom feed RBA is, perhaps, the easiest of all RBA types to build, maintain, and use. 2  It is filled from below, much like bottom coil clearomizer. 3  Bottom feed RBAs can utilize cotton instead of silica for the wick. 4  The Genesis, or genny, is a top feed RBA that utilizes a short woven mesh wire.',\n",
              "         'Results-Based Accountability® (also known as RBA) is a disciplined way of thinking and taking action that communities can use to improve the lives of children, youth, families, adults and the community as a whole. RBA is also used by organizations to improve the performance of their programs. RBA improves the lives of children, families, and communities and the performance of programs because RBA: 1  Gets from talk to action quickly; 2  Is a simple, common sense process that everyone can understand; 3  Helps groups to surface and challenge assumptions that can be barriers to innovation;',\n",
              "         'Results-Based Accountability® (also known as RBA) is a disciplined way of thinking and taking action that communities can use to improve the lives of children, youth, families, adults and the community as a whole. RBA is also used by organizations to improve the performance of their programs. Creating Community Impact with RBA. Community impact focuses on conditions of well-being for children, families and the community as a whole that a group of leaders is working collectively to improve. For example: “Residents with good jobs,” “Children ready for school,” or “A safe and clean neighborhood”.',\n",
              "         'RBA uses a data-driven, decision-making process to help communities and organizations get beyond talking about problems to taking action to solve problems. It is a simple, common sense framework that everyone can understand. RBA starts with ends and works backward, towards means. The “end” or difference you are trying to make looks slightly different if you are working on a broad community level or are focusing on your specific program or organization. RBA improves the lives of children, families, and communities and the performance of programs because RBA: 1  Gets from talk to action quickly; 2  Is a simple, common sense process that everyone can understand; 3  Helps groups to surface and challenge assumptions that can be barriers to innovation;',\n",
              "         'vs. NetIQ Identity Manager. Risk-based authentication (RBA) is a method of applying varying levels of stringency to authentication processes based on the likelihood that access to a given system could result in its being compromised. Risk-based authentication can be categorized as either user-dependent or transaction-dependent. User-dependent RBA processes employ the same authentication for every session initiated by a given user; the exact credentials that the site demands depend on who the user is.',\n",
              "         'A rebuildable atomizer (RBA), often referred to as simply a “rebuildable,” is just a special type of atomizer used in the Vape Pen and Mod Industry that connects to a personal vaporizer. 1 The bottom feed RBA is, perhaps, the easiest of all RBA types to build, maintain, and use. 2  It is filled from below, much like bottom coil clearomizer. 3  Bottom feed RBAs can utilize cotton instead of silica for the wick. 4  The Genesis, or genny, is a top feed RBA that utilizes a short woven mesh wire.',\n",
              "         'Get To Know Us. RBA is a digital and technology consultancy with roots in strategy, design and technology. Our team of specialists help progressive companies deliver modern digital experiences backed by proven technology engineering. '],\n",
              "        dtype=object),\n",
              "  'url': array(['https://en.wikipedia.org/wiki/Reserve_Bank_of_Australia',\n",
              "         'https://en.wikipedia.org/wiki/Reserve_Bank_of_Australia',\n",
              "         'http://acronyms.thefreedictionary.com/RBA',\n",
              "         'https://www.slimvapepen.com/rebuildable-atomizer-rba/',\n",
              "         'http://rba-africa.com/about/what-is-rba/',\n",
              "         'http://resultsleadership.org/what-is-results-based-accountability-rba/',\n",
              "         'http://rba-africa.com/about/what-is-rba/',\n",
              "         'http://searchsecurity.techtarget.com/definition/risk-based-authentication-RBA',\n",
              "         'https://www.slimvapepen.com/rebuildable-atomizer-rba/',\n",
              "         'http://www.rbaconsulting.com/'], dtype=object)},\n",
              " 'what is rba')"
            ]
          },
          "execution_count": 10,
          "metadata": {},
          "output_type": "execute_result"
        }
      ],
      "source": [
        "train_df['passages'][0], train_df['query'][0]"
      ]
    },
    {
      "cell_type": "markdown",
      "metadata": {
        "id": "UPMigVyB82dh"
      },
      "source": [
        "# Queries and documents"
      ]
    },
    {
      "cell_type": "code",
      "execution_count": 11,
      "metadata": {
        "id": "MdT2ZZXY68pe"
      },
      "outputs": [],
      "source": [
        "# train set\n",
        "train_queries = train_df['query'].values\n",
        "train_docs = train_df['passages'].values\n",
        "train_docs_selected = [query_doc['is_selected'] for query_doc in train_docs]\n",
        "train_docs_text = [query_doc['passage_text'] for query_doc in train_docs]\n",
        "\n",
        "# validation set\n",
        "validation_queries = validation_df['query'].values\n",
        "validation_docs = validation_df['passages'].values\n",
        "validation_docs_selected = [query_doc['is_selected'] for query_doc in validation_docs]\n",
        "validation_docs_text = [query_doc['passage_text'] for query_doc in validation_docs]\n",
        "\n",
        "# test set\n",
        "test_queries = test_df['query'].values\n",
        "test_docs = test_df['passages'].values\n",
        "test_docs_selected = [query_doc['is_selected'] for query_doc in test_docs]\n",
        "test_docs_text = [query_doc['passage_text'] for query_doc in test_docs]\n"
      ]
    },
    {
      "cell_type": "code",
      "execution_count": 12,
      "metadata": {
        "colab": {
          "base_uri": "https://localhost:8080/",
          "height": 35
        },
        "id": "j-34KFJJNiu_",
        "outputId": "b135b2a4-b27a-46b7-81fa-f34ef7350286"
      },
      "outputs": [
        {
          "data": {
            "text/plain": [
              "'what is rba'"
            ]
          },
          "execution_count": 12,
          "metadata": {},
          "output_type": "execute_result"
        }
      ],
      "source": [
        "train_queries[0]"
      ]
    },
    {
      "cell_type": "code",
      "execution_count": 13,
      "metadata": {
        "colab": {
          "base_uri": "https://localhost:8080/"
        },
        "id": "v25mb-AJ7fVN",
        "outputId": "c674ad82-c6b6-4fec-d584-051e87ba2664"
      },
      "outputs": [
        {
          "data": {
            "text/plain": [
              "array([\"Since 2007, the RBA's outstanding reputation has been affected by the 'Securency' or NPA scandal. These RBA subsidiaries were involved in bribing overseas officials so that Australia might win lucrative note-printing contracts. The assets of the bank include the gold and foreign exchange reserves of Australia, which is estimated to have a net worth of A$101 billion. Nearly 94% of the RBA's employees work at its headquarters in Sydney, New South Wales and at the Business Resumption Site.\",\n",
              "       \"The Reserve Bank of Australia (RBA) came into being on 14 January 1960 as Australia 's central bank and banknote issuing authority, when the Reserve Bank Act 1959 removed the central banking functions from the Commonwealth Bank. The assets of the bank include the gold and foreign exchange reserves of Australia, which is estimated to have a net worth of A$101 billion. Nearly 94% of the RBA's employees work at its headquarters in Sydney, New South Wales and at the Business Resumption Site.\",\n",
              "       'RBA Recognized with the 2014 Microsoft US Regional Partner of the ... by PR Newswire. Contract Awarded for supply and support the. Securitisations System used for risk management and analysis. ',\n",
              "       'The inner workings of a rebuildable atomizer are surprisingly simple. The coil inside the RBA is made of some type of resistance wire, normally Kanthal or nichrome. When a current is applied to the coil (resistance wire), it heats up and the heated coil then vaporizes the eliquid. 1 The bottom feed RBA is, perhaps, the easiest of all RBA types to build, maintain, and use. 2  It is filled from below, much like bottom coil clearomizer. 3  Bottom feed RBAs can utilize cotton instead of silica for the wick. 4  The Genesis, or genny, is a top feed RBA that utilizes a short woven mesh wire.',\n",
              "       'Results-Based Accountability® (also known as RBA) is a disciplined way of thinking and taking action that communities can use to improve the lives of children, youth, families, adults and the community as a whole. RBA is also used by organizations to improve the performance of their programs. RBA improves the lives of children, families, and communities and the performance of programs because RBA: 1  Gets from talk to action quickly; 2  Is a simple, common sense process that everyone can understand; 3  Helps groups to surface and challenge assumptions that can be barriers to innovation;',\n",
              "       'Results-Based Accountability® (also known as RBA) is a disciplined way of thinking and taking action that communities can use to improve the lives of children, youth, families, adults and the community as a whole. RBA is also used by organizations to improve the performance of their programs. Creating Community Impact with RBA. Community impact focuses on conditions of well-being for children, families and the community as a whole that a group of leaders is working collectively to improve. For example: “Residents with good jobs,” “Children ready for school,” or “A safe and clean neighborhood”.',\n",
              "       'RBA uses a data-driven, decision-making process to help communities and organizations get beyond talking about problems to taking action to solve problems. It is a simple, common sense framework that everyone can understand. RBA starts with ends and works backward, towards means. The “end” or difference you are trying to make looks slightly different if you are working on a broad community level or are focusing on your specific program or organization. RBA improves the lives of children, families, and communities and the performance of programs because RBA: 1  Gets from talk to action quickly; 2  Is a simple, common sense process that everyone can understand; 3  Helps groups to surface and challenge assumptions that can be barriers to innovation;',\n",
              "       'vs. NetIQ Identity Manager. Risk-based authentication (RBA) is a method of applying varying levels of stringency to authentication processes based on the likelihood that access to a given system could result in its being compromised. Risk-based authentication can be categorized as either user-dependent or transaction-dependent. User-dependent RBA processes employ the same authentication for every session initiated by a given user; the exact credentials that the site demands depend on who the user is.',\n",
              "       'A rebuildable atomizer (RBA), often referred to as simply a “rebuildable,” is just a special type of atomizer used in the Vape Pen and Mod Industry that connects to a personal vaporizer. 1 The bottom feed RBA is, perhaps, the easiest of all RBA types to build, maintain, and use. 2  It is filled from below, much like bottom coil clearomizer. 3  Bottom feed RBAs can utilize cotton instead of silica for the wick. 4  The Genesis, or genny, is a top feed RBA that utilizes a short woven mesh wire.',\n",
              "       'Get To Know Us. RBA is a digital and technology consultancy with roots in strategy, design and technology. Our team of specialists help progressive companies deliver modern digital experiences backed by proven technology engineering. '],\n",
              "      dtype=object)"
            ]
          },
          "execution_count": 13,
          "metadata": {},
          "output_type": "execute_result"
        }
      ],
      "source": [
        "train_docs_text[0]"
      ]
    },
    {
      "cell_type": "code",
      "execution_count": 126,
      "metadata": {
        "colab": {
          "base_uri": "https://localhost:8080/"
        },
        "id": "rX9CE38r7f4u",
        "outputId": "ee9f64b7-c8ec-4709-884d-105acf6d42da"
      },
      "outputs": [
        {
          "name": "stdout",
          "output_type": "stream",
          "text": [
            "Unique docs:  1389\n"
          ]
        }
      ],
      "source": [
        "# get unique docs\n",
        "docs = train_docs_text + validation_docs_text + test_docs_text\n",
        "docs = list(\n",
        "    {\n",
        "        doc_text for passages in docs for doc_text in passages\n",
        "    }\n",
        ")\n",
        "print('Unique docs: ', len(docs))\n",
        "# get document - id dict\n",
        "doc_id_dict = {\n",
        "    docs[i]: i for i in range(0, len(docs))\n",
        "}\n",
        "id_doc_dict = {v: k for k, v in doc_id_dict.items()}\n",
        "\n",
        "# Save the dictionary to a JSON file\n",
        "with open(\"id_doc_dict.json\", \"w\") as f:\n",
        "    json.dump(id_doc_dict, f)\n"
      ]
    },
    {
      "cell_type": "code",
      "execution_count": 15,
      "metadata": {
        "colab": {
          "base_uri": "https://localhost:8080/"
        },
        "id": "S-vfzfl18DOn",
        "outputId": "0ac0879e-1970-4489-c62a-7cc85a855518"
      },
      "outputs": [
        {
          "data": {
            "text/plain": [
              "1389"
            ]
          },
          "execution_count": 15,
          "metadata": {},
          "output_type": "execute_result"
        }
      ],
      "source": [
        "len(doc_id_dict)"
      ]
    },
    {
      "cell_type": "code",
      "execution_count": 16,
      "metadata": {
        "colab": {
          "base_uri": "https://localhost:8080/",
          "height": 70
        },
        "id": "TYb8gchz8H4I",
        "outputId": "4ee5ce88-dec7-4b47-f08c-cae986b205ee"
      },
      "outputs": [
        {
          "data": {
            "text/plain": [
              "'While the data changes a bit from year to year, the 2012 drive-thru study indicated that the average wait time for a Wendy’s order was just 130 seconds, the quickest in the field and more than one minute faster than Burger King. Meanwhile, Chick-fil-A was tops in terms of accuracy, getting 92% of orders correct.'"
            ]
          },
          "execution_count": 16,
          "metadata": {},
          "output_type": "execute_result"
        }
      ],
      "source": [
        "id_doc_dict[811]"
      ]
    },
    {
      "cell_type": "code",
      "execution_count": 17,
      "metadata": {
        "id": "qRZx5yLh9a28"
      },
      "outputs": [],
      "source": [
        "# update selected ids\n",
        "# train\n",
        "train_doc_ids_selected = [\n",
        "    [doc_id_dict[doc_text] for doc_text in passages]\n",
        "    for passages in train_docs_text\n",
        "]\n",
        "\n",
        "# validation\n",
        "validation_doc_ids_selected = [\n",
        "    [doc_id_dict[doc_text] for doc_text in passages]\n",
        "    for passages in validation_docs_text\n",
        "]\n",
        "\n",
        "# test\n",
        "test_doc_ids_selected = [\n",
        "    [doc_id_dict[doc_text] for doc_text in passages]\n",
        "    for passages in test_docs_text\n",
        "]"
      ]
    },
    {
      "cell_type": "markdown",
      "metadata": {
        "id": "uermt03j878W"
      },
      "source": [
        "# Triplets"
      ]
    },
    {
      "cell_type": "code",
      "execution_count": 18,
      "metadata": {
        "id": "zFuTMMuM8a74"
      },
      "outputs": [],
      "source": [
        "# all queries to relevant docs dict\n",
        "all_queries = list(train_queries) + list(validation_queries) + list(test_queries)\n",
        "# train\n",
        "query_rel_doc_ids_train_dict = {\n",
        "    train_queries[i]: train_doc_ids_selected[i]\n",
        "    for i in range(0, len(train_queries))\n",
        "}\n",
        "# validation\n",
        "query_rel_doc_ids_val_dict = {\n",
        "    validation_queries[i]: validation_doc_ids_selected[i]\n",
        "    for i in range(0, len(validation_queries))\n",
        "}\n",
        "# test\n",
        "query_rel_doc_ids_test_dict = {\n",
        "    test_queries[i]: test_doc_ids_selected[i]\n",
        "    for i in range(0, len(test_queries))\n",
        "}\n",
        "# merge all together in single dict\n",
        "query_rel_doc_ids_dict = query_rel_doc_ids_train_dict | query_rel_doc_ids_val_dict\n",
        "query_rel_doc_ids_dict = query_rel_doc_ids_dict | query_rel_doc_ids_test_dict\n",
        "\n",
        "assert len(\n",
        "    query_rel_doc_ids_dict\n",
        ") == train_df.shape[0] + validation_df.shape[0] + test_df.shape[0]"
      ]
    },
    {
      "cell_type": "code",
      "execution_count": 19,
      "metadata": {
        "id": "axk2nMr39uhu"
      },
      "outputs": [],
      "source": [
        "def get_query_triples(queries, doc_ids, query_rel_doc_ids_dict):\n",
        "    triplets = []\n",
        "    for query in queries:\n",
        "        relevant_docs_ids = query_rel_doc_ids_dict.get(query, [])  # Use .get() to handle cases where query is not in the dictionary\n",
        "        irrelevant_docs = list(doc_ids - set(relevant_docs_ids))\n",
        "        n_neg_samples = len(relevant_docs_ids)\n",
        "        negative_docs_ids = random.sample(irrelevant_docs, n_neg_samples)\n",
        "        triplets.extend([(query, relevant_docs_ids[j], negative_docs_ids[j]) for j in range(n_neg_samples)])\n",
        "    return triplets"
      ]
    },
    {
      "cell_type": "code",
      "execution_count": 20,
      "metadata": {
        "id": "drGJ9phJ-Bw6"
      },
      "outputs": [],
      "source": [
        "triples = []\n",
        "doc_ids = set(doc_id_dict.values())\n",
        "triples = get_query_triples(all_queries, doc_ids ,query_rel_doc_ids_dict)"
      ]
    },
    {
      "cell_type": "code",
      "execution_count": 21,
      "metadata": {
        "colab": {
          "base_uri": "https://localhost:8080/"
        },
        "id": "w4DmAwya-y-E",
        "outputId": "6d4e3fda-bb29-448b-e733-0e50178bae53"
      },
      "outputs": [
        {
          "data": {
            "text/plain": [
              "(('what is rba', 995, 648),\n",
              " ('what is rba', 91, 931),\n",
              " ('what is rba', 281, 1219),\n",
              " ('what is rba', 1092, 1119),\n",
              " ('what is rba', 157, 180),\n",
              " ('what is rba', 1057, 637),\n",
              " ('what is rba', 205, 1371),\n",
              " ('what is rba', 1078, 1101),\n",
              " ('what is rba', 369, 311),\n",
              " ('what is rba', 972, 1298))"
            ]
          },
          "execution_count": 21,
          "metadata": {},
          "output_type": "execute_result"
        }
      ],
      "source": [
        "triples[0], triples[1], triples[2], triples[3], triples[4], triples[5], triples[6], triples[7], triples[8], triples[9]"
      ]
    },
    {
      "cell_type": "code",
      "execution_count": 22,
      "metadata": {
        "colab": {
          "base_uri": "https://localhost:8080/",
          "height": 87
        },
        "id": "tWc917GvCuL6",
        "outputId": "2c9af9dd-52f2-4d38-813d-6085a9ca08e8"
      },
      "outputs": [
        {
          "data": {
            "text/plain": [
              "\"The Reserve Bank of Australia (RBA) came into being on 14 January 1960 as Australia 's central bank and banknote issuing authority, when the Reserve Bank Act 1959 removed the central banking functions from the Commonwealth Bank. The assets of the bank include the gold and foreign exchange reserves of Australia, which is estimated to have a net worth of A$101 billion. Nearly 94% of the RBA's employees work at its headquarters in Sydney, New South Wales and at the Business Resumption Site.\""
            ]
          },
          "execution_count": 22,
          "metadata": {},
          "output_type": "execute_result"
        }
      ],
      "source": [
        "id_doc_dict[triples[1][1]]"
      ]
    },
    {
      "cell_type": "markdown",
      "metadata": {
        "id": "PJLp3pbkAAG9"
      },
      "source": [
        "# Tokenization"
      ]
    },
    {
      "cell_type": "code",
      "execution_count": 23,
      "metadata": {
        "id": "je_uxFxG_5N3"
      },
      "outputs": [],
      "source": [
        "# Initialize the corpus with all_queries\n",
        "corpus = all_queries.copy()\n",
        "# Concatenate document texts to the corpus\n",
        "for doc_text in docs:\n",
        "    corpus.append(doc_text)  # Access the 'passage_text' key to get the passage text\n",
        "\n",
        "assert len(corpus) == len(all_queries) + len(docs)\n",
        "\n",
        "corpus_filename = 'corpus.txt'\n",
        "# save corpus as .txt\n",
        "with open(corpus_filename, 'w') as f:\n",
        "    for sentence in corpus:\n",
        "        f.write(sentence + '\\n')"
      ]
    },
    {
      "cell_type": "code",
      "execution_count": 24,
      "metadata": {
        "colab": {
          "base_uri": "https://localhost:8080/"
        },
        "id": "OdYfR9XdASiu",
        "outputId": "adb90661-a3dd-4599-8688-dfe0520f694f"
      },
      "outputs": [
        {
          "name": "stderr",
          "output_type": "stream",
          "text": [
            "sentencepiece_trainer.cc(178) LOG(INFO) Running command: --input=corpus.txt --model_prefix=m --vocab_size=4771 --normalization_rule_name=nfkc_cf\n",
            "sentencepiece_trainer.cc(78) LOG(INFO) Starts training with : \n",
            "trainer_spec {\n",
            "  input: corpus.txt\n",
            "  input_format: \n",
            "  model_prefix: m\n",
            "  model_type: UNIGRAM\n",
            "  vocab_size: 4771\n",
            "  self_test_sample_size: 0\n",
            "  character_coverage: 0.9995\n",
            "  input_sentence_size: 0\n",
            "  shuffle_input_sentence: 1\n",
            "  seed_sentencepiece_size: 1000000\n",
            "  shrinking_factor: 0.75\n",
            "  max_sentence_length: 4192\n",
            "  num_threads: 16\n",
            "  num_sub_iterations: 2\n",
            "  max_sentencepiece_length: 16\n",
            "  split_by_unicode_script: 1\n",
            "  split_by_number: 1\n",
            "  split_by_whitespace: 1\n",
            "  split_digits: 0\n",
            "  pretokenization_delimiter: \n",
            "  treat_whitespace_as_suffix: 0\n",
            "  allow_whitespace_only_pieces: 0\n",
            "  required_chars: \n",
            "  byte_fallback: 0\n",
            "  vocabulary_output_piece_score: 1\n",
            "  train_extremely_large_corpus: 0\n",
            "  seed_sentencepieces_file: \n",
            "  hard_vocab_limit: 1\n",
            "  use_all_vocab: 0\n",
            "  unk_id: 0\n",
            "  bos_id: 1\n",
            "  eos_id: 2\n",
            "  pad_id: -1\n",
            "  unk_piece: <unk>\n",
            "  bos_piece: <s>\n",
            "  eos_piece: </s>\n",
            "  pad_piece: <pad>\n",
            "  unk_surface:  ⁇ \n",
            "  enable_differential_privacy: 0\n",
            "  differential_privacy_noise_level: 0\n",
            "  differential_privacy_clipping_threshold: 0\n",
            "}\n",
            "normalizer_spec {\n",
            "  name: nfkc_cf\n",
            "  add_dummy_prefix: 1\n",
            "  remove_extra_whitespaces: 1\n",
            "  escape_whitespaces: 1\n",
            "  normalization_rule_tsv: \n",
            "}\n",
            "denormalizer_spec {}\n",
            "trainer_interface.cc(353) LOG(INFO) SentenceIterator is not specified. Using MultiFileSentenceIterator.\n",
            "trainer_interface.cc(185) LOG(INFO) Loading corpus: corpus.txt\n",
            "trainer_interface.cc(409) LOG(INFO) Loaded all 1559 sentences\n",
            "trainer_interface.cc(425) LOG(INFO) Adding meta_piece: <unk>\n",
            "trainer_interface.cc(425) LOG(INFO) Adding meta_piece: <s>\n",
            "trainer_interface.cc(425) LOG(INFO) Adding meta_piece: </s>\n",
            "trainer_interface.cc(430) LOG(INFO) Normalizing sentences...\n",
            "trainer_interface.cc(539) LOG(INFO) all chars count=591408\n",
            "trainer_interface.cc(550) LOG(INFO) Done: 99.9511% characters are covered.\n",
            "trainer_interface.cc(560) LOG(INFO) Alphabet size=66\n",
            "trainer_interface.cc(561) LOG(INFO) Final character coverage=0.999511\n",
            "trainer_interface.cc(592) LOG(INFO) Done! preprocessed 1559 sentences.\n",
            "unigram_model_trainer.cc(265) LOG(INFO) Making suffix array...\n",
            "unigram_model_trainer.cc(269) LOG(INFO) Extracting frequent sub strings... node_num=338887\n",
            "unigram_model_trainer.cc(312) LOG(INFO) Initialized 29258 seed sentencepieces\n",
            "trainer_interface.cc(598) LOG(INFO) Tokenizing input sentences with whitespace: 1559\n",
            "trainer_interface.cc(609) LOG(INFO) Done! 16036\n",
            "unigram_model_trainer.cc(602) LOG(INFO) Using 16036 sentences for EM training\n",
            "unigram_model_trainer.cc(618) LOG(INFO) EM sub_iter=0 size=10543 obj=11.2593 num_tokens=32891 num_tokens/piece=3.1197\n",
            "unigram_model_trainer.cc(618) LOG(INFO) EM sub_iter=1 size=9052 obj=9.23271 num_tokens=33104 num_tokens/piece=3.65709\n",
            "unigram_model_trainer.cc(618) LOG(INFO) EM sub_iter=0 size=6787 obj=9.27359 num_tokens=35531 num_tokens/piece=5.23516\n",
            "unigram_model_trainer.cc(618) LOG(INFO) EM sub_iter=1 size=6784 obj=9.22304 num_tokens=35532 num_tokens/piece=5.23762\n",
            "unigram_model_trainer.cc(618) LOG(INFO) EM sub_iter=0 size=5248 obj=9.44053 num_tokens=38914 num_tokens/piece=7.41502\n",
            "unigram_model_trainer.cc(618) LOG(INFO) EM sub_iter=1 size=5248 obj=9.37928 num_tokens=38916 num_tokens/piece=7.4154\n",
            "trainer_interface.cc(687) LOG(INFO) Saving model: m.model\n",
            "trainer_interface.cc(699) LOG(INFO) Saving vocabs: m.vocab\n"
          ]
        },
        {
          "data": {
            "text/plain": [
              "True"
            ]
          },
          "execution_count": 24,
          "metadata": {},
          "output_type": "execute_result"
        }
      ],
      "source": [
        "spm.SentencePieceTrainer.train('--input=corpus.txt --model_prefix=m --vocab_size=4771 --normalization_rule_name=nfkc_cf')\n",
        "sp = spm.SentencePieceProcessor()\n",
        "sp.load('m.model')"
      ]
    },
    {
      "cell_type": "code",
      "execution_count": 25,
      "metadata": {
        "id": "rQgoypj1Akqt"
      },
      "outputs": [],
      "source": [
        "# Tokenized sentences as pieces\n",
        "# In the corpus you have all the data of the queries and also the passages, so the tokenization is done on everything\n",
        "tokenized_sentences = sp.encode_as_pieces(corpus)\n",
        "tokenized_sentences = {\n",
        "    corpus[i]: tokenized_sentences[i]\n",
        "    for i in range(0, len(corpus))\n",
        "}\n",
        "# Tokenized sentences as ids\n",
        "tokenized_sentences_with_ids = sp.encode_as_ids(corpus)\n",
        "tokenized_sentences_with_ids = {\n",
        "    corpus[i]: tokenized_sentences_with_ids[i]\n",
        "    for i in range(0, len(corpus))\n",
        "}"
      ]
    },
    {
      "cell_type": "code",
      "execution_count": 26,
      "metadata": {
        "colab": {
          "base_uri": "https://localhost:8080/"
        },
        "id": "qvxvHPhEAyl8",
        "outputId": "99d3352d-ab9f-4611-b056-cd569495cc7a"
      },
      "outputs": [
        {
          "name": "stdout",
          "output_type": "stream",
          "text": [
            "vocabulary size:  4845\n"
          ]
        }
      ],
      "source": [
        "vocabulary = list(\n",
        "    {\n",
        "        token for token_sent in tokenized_sentences.values()\n",
        "        for token in token_sent\n",
        "    }\n",
        ")\n",
        "print('vocabulary size: ', len(vocabulary))"
      ]
    },
    {
      "cell_type": "markdown",
      "metadata": {
        "id": "kEAMe0wmA-6A"
      },
      "source": [
        "# Word2vec"
      ]
    },
    {
      "cell_type": "code",
      "execution_count": 27,
      "metadata": {
        "colab": {
          "base_uri": "https://localhost:8080/"
        },
        "id": "rHUP0GyMBAXH",
        "outputId": "0fe0f21d-f8e3-4d99-a173-025de0b0e289"
      },
      "outputs": [
        {
          "name": "stdout",
          "output_type": "stream",
          "text": [
            "The length of the embeddings with wv.vectors is 4845\n",
            "The length of the embedding with wv is 4845\n"
          ]
        }
      ],
      "source": [
        "# Train Word2Vec model\n",
        "model = Word2Vec(\n",
        "    tokenized_sentences.values(),\n",
        "    vector_size=100,\n",
        "    window=5,\n",
        "    min_count=1,\n",
        "    workers=4\n",
        "    #sg=1, # 1 for Skip-Gram, default 0 for BGOW\n",
        "    # SG is more computationally costly for bug data BGOW might be as good!\n",
        ")\n",
        "# Save the trained model\n",
        "model.save(\"word2vec.model\")\n",
        "embeddings = model.wv.vectors\n",
        "embeds = model.wv\n",
        "print(f\"The length of the embeddings with wv.vectors is {len(embeddings)}\")\n",
        "print(f\"The length of the embedding with wv is {len(embeds)}\")\n",
        "\n",
        "# Create a dictionary mapping each token to its embedding\n",
        "token_embeddings = {token: embeddings[i] for i, token in enumerate(vocabulary)}\n",
        "token_embeddings_with_ids = {\n",
        "    i: embeddings[i] for i, token in enumerate(vocabulary)\n",
        "}"
      ]
    },
    {
      "cell_type": "code",
      "execution_count": 28,
      "metadata": {
        "id": "zhtfM7EtEU1B"
      },
      "outputs": [],
      "source": [
        "# Get the vocabulary (list of tokens)\n",
        "vocabulary = model.wv.index_to_key"
      ]
    },
    {
      "cell_type": "markdown",
      "metadata": {
        "id": "ke8FbycFGx0Z"
      },
      "source": [
        "# RNN / GRU / LSTM"
      ]
    },
    {
      "cell_type": "code",
      "execution_count": 68,
      "metadata": {
        "id": "rTtdj0HRG08M"
      },
      "outputs": [],
      "source": [
        "\n",
        "# 2-TOWER NN\n",
        "class TwoTowerNN(nn.Module):\n",
        "    \"TwoTower architecture tries to capture the fact that\"\n",
        "    \"queries and documents have different semantic, syntactic structures\"\n",
        "    def __init__(\n",
        "        self, sp_model_path, word2vec_model_path,\n",
        "        embedding_dim,#query_input_dim, doc_input_dim,\n",
        "        query_hidden_size, doc_hidden_size, query_num_layers, doc_num_layers,\n",
        "        output_size, vocab_size, fine_tune,\n",
        "    ):\n",
        "        # setup sentencepiece tokenizer model\n",
        "        self.sp_model = spm.SentencePieceProcessor()\n",
        "        self.sp_model.load(sp_model_path)\n",
        "        # setup word2vec model\n",
        "        self.word2vec_model = Word2Vec.load(word2vec_model_path)\n",
        "        # fine_tune parameter\n",
        "        self.fine_tune = fine_tune\n",
        "        super(TwoTowerNN, self).__init__()\n",
        "\n",
        "        # Fine-tune word embeddings\n",
        "        if self.fine_tune:\n",
        "          # Embedding layers\n",
        "          self.query_embedding = nn.Embedding(vocab_size, embedding_dim)\n",
        "          self.doc_embedding = nn.Embedding(vocab_size, embedding_dim)\n",
        "\n",
        "        # Towers:\n",
        "        # Query tower\n",
        "        self.query_tower = nn.GRU(\n",
        "            embedding_dim, #if not fine_tune else vocab_size, #embedding_dim, #query_input_size,\n",
        "            query_hidden_size,\n",
        "            query_num_layers,\n",
        "            batch_first=True\n",
        "        )\n",
        "        # Document tower\n",
        "        self.doc_tower = nn.GRU(\n",
        "            embedding_dim, #if not fine_tune else vocab_size, #embedding_dim, #doc_input_size,\n",
        "            doc_hidden_size,\n",
        "            doc_num_layers,\n",
        "            batch_first=True,\n",
        "        )\n",
        "\n",
        "    # forward function\n",
        "    def forward(self, query_input, doc_input):\n",
        "        if self.fine_tune:\n",
        "            # Embedding lookup\n",
        "            if query_input is not None:\n",
        "              query_embedded = self.query_embedding(query_input)\n",
        "            if doc_input is not None:\n",
        "              doc_embedded = self.doc_embedding(doc_input)\n",
        "            # RNN forward pass\n",
        "            if query_embedded is not None:\n",
        "              _, query_hidden = self.query_tower(query_embedded)\n",
        "            if doc_embedded is not None:\n",
        "              _, doc_hidden = self.doc_tower(doc_embedded)\n",
        "        else:\n",
        "            # RNN forward pass\n",
        "            if query_input is not None:\n",
        "              _, query_hidden = self.query_tower(query_input)\n",
        "            if doc_input is not None:\n",
        "              _, doc_hidden = self.doc_tower(doc_input)\n",
        "\n",
        "        if query_input is None:\n",
        "          query_embedding = None\n",
        "        else:\n",
        "          query_embedding = query_hidden[-1]\n",
        "\n",
        "        if doc_input is None:\n",
        "          doc_embedding = None\n",
        "        else:\n",
        "          doc_embedding = doc_hidden[-1]\n",
        "\n",
        "        # Return query and document embeddings\n",
        "        return query_embedding, doc_embedding\n",
        "\n",
        "\n",
        "    # Define preprocess_query function\n",
        "    def prepare(self, text):\n",
        "        # Tokenize the text using SentencePiece model\n",
        "        processed_text = self.sp_model.encode_as_ids(text)\n",
        "        # Vectorize the text using Word2Vec model\n",
        "        if not self.fine_tune:\n",
        "          processed_text = [\n",
        "              self.word2vec_model.wv.get_vector(tok)for tok in processed_text\n",
        "          ]\n",
        "        return processed_text\n",
        "\n",
        "\n",
        "    # get document embeddings\n",
        "    def get_document_embeddings(self, documents):\n",
        "        # Preprocess candidate documents\n",
        "        processed_documents = [\n",
        "            self.prepare(doc) for doc in documents\n",
        "        ]\n",
        "\n",
        "        # Encode candidate documents\n",
        "        document_embeddings = []\n",
        "        for doc_input in processed_documents:\n",
        "            doc_input = torch.tensor(doc_input)  # Convert to tensor if required\n",
        "            _, doc_embedding = self.forward(None, doc_input)\n",
        "            document_embeddings.append(doc_embedding)\n",
        "\n",
        "        return document_embeddings\n",
        "\n",
        "\n",
        "    # predict function\n",
        "    def predict(\n",
        "        self, new_query, candidate_docs_ids, doc_emb_dict, id_doc_dict, k,\n",
        "    ):\n",
        "        # Preprocess the new query\n",
        "        query_input = self.prepare(new_query)\n",
        "\n",
        "        # Encode the query\n",
        "        query_input = torch.tensor(query_input)  # Convert to tensor if required\n",
        "        query_embedding, _ = self.forward(query_input, None)\n",
        "\n",
        "        # get document encodings/embeddings\n",
        "        candidate_documents = [\n",
        "            id_doc_dict[doc_id] for doc_id in candidate_docs_ids\n",
        "        ]\n",
        "        docs_in_dict = list(\n",
        "            set(candidate_documents).intersection(set(doc_emb_dict.keys()))\n",
        "        )\n",
        "        docs_not_in_dict = list(\n",
        "            set(candidate_documents) - set(doc_emb_dict.keys())\n",
        "        )\n",
        "\n",
        "        document_embeddings = {}\n",
        "        if len(docs_in_dict) > 0:\n",
        "          document_embeddings.update(\n",
        "              {doc: doc_emb_dict[doc] for doc in docs_in_dict}\n",
        "          )\n",
        "        if len(docs_not_in_dict) > 0:\n",
        "          can_doc_embeddings = self.get_document_embeddings(\n",
        "              docs_not_in_dict\n",
        "          )\n",
        "          document_embeddings.update(\n",
        "              {\n",
        "                  doc: emb for doc, emb in zip(\n",
        "                      docs_not_in_dict, can_doc_embeddings,\n",
        "                  )\n",
        "              }\n",
        "          )\n",
        "\n",
        "        # Calculate cosine similarity scores\n",
        "        similarity_scores = [\n",
        "          F.cosine_similarity(\n",
        "              query_embedding.unsqueeze(0), doc_embedding.unsqueeze(0), dim=1\n",
        "          ).item() for doc_embedding in document_embeddings.values()\n",
        "        ]\n",
        "\n",
        "        # Rank documents by similarity\n",
        "        ranked_documents = sorted(zip(document_embeddings.keys(), similarity_scores),key=lambda x: x[1], reverse=True)\n",
        "\n",
        "        # Retrieve top-K documents\n",
        "        top_k_documents = ranked_documents[:k]\n",
        "\n",
        "        return top_k_documents\n",
        "    \n",
        "   "
      ]
    },
    {
      "cell_type": "code",
      "execution_count": 69,
      "metadata": {
        "id": "pFXtKSqSHMn7"
      },
      "outputs": [],
      "source": [
        "class TwoTowerDataset(Dataset):\n",
        "    def __init__(\n",
        "        self, triples, id_doc_dict,\n",
        "        tokenized_id_sentences, token_id_embeddings, fine_tune,\n",
        "    ):\n",
        "        self.triples = triples\n",
        "        self.doc_dict = id_doc_dict\n",
        "        self.tokenized_id_sentences = tokenized_id_sentences\n",
        "        self.token_id_embeddings = token_id_embeddings\n",
        "        self.fine_tune = fine_tune\n",
        "\n",
        "    def __len__(self):\n",
        "        return len(self.triples)\n",
        "\n",
        "    def __getitem__(self, idx):\n",
        "        query, positive_indx, negative_indx = self.triples[idx]\n",
        "        positive_doc = self.doc_dict[positive_indx]\n",
        "        negative_doc = self.doc_dict[negative_indx]\n",
        "        # if not fine_tune take the collection of token embeddings\n",
        "        if not self.fine_tune:\n",
        "          # query\n",
        "          tok_query = self.tokenized_id_sentences[query]\n",
        "          query = np.array(\n",
        "              [self.token_id_embeddings[tok] for tok in tok_query]\n",
        "          )\n",
        "          # postive doc\n",
        "          tok_pos_doc = self.tokenized_id_sentences[positive_doc]\n",
        "          positive_doc = np.array(\n",
        "              [self.token_id_embeddings[tok] for tok in tok_pos_doc]\n",
        "          )\n",
        "          # negative doc\n",
        "          tok_neg_doc = self.tokenized_id_sentences[negative_doc]\n",
        "          negative_doc = np.array(\n",
        "              [self.token_id_embeddings[tok] for tok in tok_neg_doc]\n",
        "          )\n",
        "\n",
        "        # if fine_tune take the tokenized sentences\n",
        "        else:\n",
        "          query = self.tokenized_id_sentences[query]\n",
        "          positive_doc = self.tokenized_id_sentences[positive_doc]\n",
        "          negative_doc = self.tokenized_id_sentences[negative_doc]\n",
        "\n",
        "        return (\n",
        "            query,\n",
        "            positive_doc,\n",
        "            negative_doc,\n",
        "        )"
      ]
    },
    {
      "cell_type": "code",
      "execution_count": 70,
      "metadata": {
        "id": "F4auzMwyHPES"
      },
      "outputs": [],
      "source": [
        "def collate_fn(batch, fine_tune):\n",
        "    # MAKE ALL SAME SHAPE!!\n",
        "    # if training token embeddings within we need int else float\n",
        "    if fine_tune:\n",
        "      torch_type=torch.int64\n",
        "    else:\n",
        "      torch_type=torch.float32\n",
        "    # Sort batch by sequence length (optional but can improve efficiency)\n",
        "    batch.sort(key=lambda x: len(x[0]), reverse=True)\n",
        "\n",
        "    # Extract context sequences and target indices\n",
        "    queries, pos_docs, neg_docs = zip(*batch)\n",
        "\n",
        "    # Pad context sequences to the length of the longest sequence in the batch\n",
        "    padded_queries = pad_sequence(\n",
        "        [torch.tensor(query, dtype=torch_type) for query in queries],\n",
        "        batch_first=True, padding_value=0,\n",
        "      )\n",
        "    padded_pos_docs = pad_sequence(\n",
        "        [torch.tensor(pos_doc, dtype=torch_type) for pos_doc in pos_docs],\n",
        "        batch_first=True, padding_value=0,\n",
        "    )\n",
        "    padded_neg_docs = pad_sequence(\n",
        "        [torch.tensor(neg_doc, dtype=torch_type) for neg_doc in neg_docs],\n",
        "        batch_first=True, padding_value=0,\n",
        "    )\n",
        "\n",
        "    return padded_queries, padded_pos_docs, padded_neg_docs"
      ]
    },
    {
      "cell_type": "code",
      "execution_count": 71,
      "metadata": {
        "colab": {
          "base_uri": "https://localhost:8080/"
        },
        "id": "slsCcjGnHQ_s",
        "outputId": "41dd2487-49ad-4ad7-f812-8f28da98d16d"
      },
      "outputs": [
        {
          "data": {
            "text/plain": [
              "995"
            ]
          },
          "execution_count": 71,
          "metadata": {},
          "output_type": "execute_result"
        }
      ],
      "source": [
        "# train triples\n",
        "train_triples = [triple for triple in triples if triple[0] in train_queries]\n",
        "# validation triples\n",
        "validation_triples = [\n",
        "    triple for triple in triples if triple[0] in validation_queries\n",
        "]\n",
        "# test triples\n",
        "test_triples = [triple for triple in triples if triple[0] in test_queries]\n",
        "\n",
        "train_triples[0][1]"
      ]
    },
    {
      "cell_type": "code",
      "execution_count": 72,
      "metadata": {
        "id": "ZsR074OHHTdo"
      },
      "outputs": [],
      "source": [
        "# Example values\n",
        "# Training loop\n",
        "num_epochs = 5\n",
        "vocab_size = 10000\n",
        "embedding_dim = 100\n",
        "query_hidden_size = 64\n",
        "doc_hidden_size = 64\n",
        "query_num_layers = 2\n",
        "doc_num_layers = 2\n",
        "output_size = 1\n",
        "fine_tune=False"
      ]
    },
    {
      "cell_type": "code",
      "execution_count": 73,
      "metadata": {
        "id": "OFtK1NTFHi8H"
      },
      "outputs": [],
      "source": [
        "# Create train dataset instance\n",
        "train_dataset = TwoTowerDataset(\n",
        "    train_triples, id_doc_dict,\n",
        "    tokenized_sentences_with_ids, token_embeddings_with_ids, fine_tune,\n",
        "    )\n",
        "# Create validation dataset instance\n",
        "val_dataset = TwoTowerDataset(\n",
        "    validation_triples, id_doc_dict,\n",
        "    tokenized_sentences_with_ids, token_embeddings_with_ids, fine_tune,\n",
        ")\n",
        "\n",
        "# Define batch size\n",
        "batch_size = 32\n",
        "\n",
        "# Create DataLoaders for training and validation\n",
        "train_dataloader = DataLoader(\n",
        "    train_dataset, batch_size=batch_size, shuffle=True,\n",
        "    collate_fn=lambda b: collate_fn(b, fine_tune),\n",
        ")\n",
        "val_dataloader = DataLoader(\n",
        "    val_dataset, batch_size=batch_size,\n",
        "    collate_fn=lambda b: collate_fn(b, fine_tune),\n",
        ")"
      ]
    },
    {
      "cell_type": "code",
      "execution_count": 74,
      "metadata": {
        "colab": {
          "base_uri": "https://localhost:8080/",
          "height": 594
        },
        "id": "3J53xiRnHlny",
        "outputId": "f057eb72-814b-4438-8a99-5dfd6fd34799"
      },
      "outputs": [
        {
          "name": "stderr",
          "output_type": "stream",
          "text": [
            "                                                          \r"
          ]
        },
        {
          "name": "stdout",
          "output_type": "stream",
          "text": [
            "Epoch 1/5, Train Loss: 0.6945, Val Loss: 0.6955\n"
          ]
        },
        {
          "name": "stderr",
          "output_type": "stream",
          "text": [
            "                                                          \r"
          ]
        },
        {
          "name": "stdout",
          "output_type": "stream",
          "text": [
            "Epoch 2/5, Train Loss: 0.6948, Val Loss: 0.6929\n"
          ]
        },
        {
          "name": "stderr",
          "output_type": "stream",
          "text": [
            "                                                          \r"
          ]
        },
        {
          "name": "stdout",
          "output_type": "stream",
          "text": [
            "Epoch 3/5, Train Loss: 0.6934, Val Loss: 0.6932\n"
          ]
        },
        {
          "name": "stderr",
          "output_type": "stream",
          "text": [
            "                                                          \r"
          ]
        },
        {
          "name": "stdout",
          "output_type": "stream",
          "text": [
            "Epoch 4/5, Train Loss: 0.6935, Val Loss: 0.6932\n"
          ]
        },
        {
          "name": "stderr",
          "output_type": "stream",
          "text": [
            "                                                          \r"
          ]
        },
        {
          "name": "stdout",
          "output_type": "stream",
          "text": [
            "Epoch 5/5, Train Loss: 0.6932, Val Loss: 0.6934\n"
          ]
        },
        {
          "data": {
            "image/png": "[encoded data removed]",
            "text/plain": [
              "<Figure size 640x480 with 1 Axes>"
            ]
          },
          "metadata": {},
          "output_type": "display_data"
        },
        {
          "name": "stdout",
          "output_type": "stream",
          "text": [
            "Training finished.\n",
            "Final Train Loss: 0.6939, Final Val Loss: 0.6934\n"
          ]
        }
      ],
      "source": [
        "# Instantiate the model\n",
        "two_tower_model = TwoTowerNN(\n",
        "    sp_model_path='m.model', word2vec_model_path='word2vec.model',\n",
        "    embedding_dim=embedding_dim,\n",
        "    query_hidden_size=query_hidden_size, doc_hidden_size=doc_hidden_size,\n",
        "    query_num_layers=query_num_layers, doc_num_layers=doc_num_layers,\n",
        "    output_size=output_size, vocab_size=vocab_size, fine_tune=fine_tune,\n",
        ")\n",
        "\n",
        "# Define optimizer\n",
        "optimizer = optim.Adam(two_tower_model.parameters(), lr=0.01)\n",
        "\n",
        "# Training loop\n",
        "train_losses = []\n",
        "val_losses = []\n",
        "for epoch in range(num_epochs):\n",
        "    # Iterate over batches of data\n",
        "    for batch in tqdm(\n",
        "        train_dataloader, desc=f'Epoch {epoch+1}/{num_epochs}', leave=False,\n",
        "    ):\n",
        "        # Assuming dataloader yields query_input, doc_input, labels\n",
        "        query_input, pos_doc_input, neg_doc_input = batch\n",
        "\n",
        "        # Forward pass positive sampling\n",
        "        query_embedding, pos_doc_embedding = two_tower_model(\n",
        "            query_input, pos_doc_input,\n",
        "        )\n",
        "\n",
        "        # Negative sampling\n",
        "        _, neg_doc_embedding = two_tower_model(query_input, neg_doc_input)\n",
        "\n",
        "        # Compute cosine similarity\n",
        "        similarity = F.cosine_similarity(\n",
        "            query_embedding, pos_doc_embedding, dim=1,\n",
        "        )\n",
        "\n",
        "        # Compute negative similarity\n",
        "        negative_similarity = F.cosine_similarity(\n",
        "            query_embedding, neg_doc_embedding, dim=1,\n",
        "        )\n",
        "\n",
        "        # Create binary labels\n",
        "        # 1 for all positive / 0 for all negative\n",
        "        binary_labels = torch.ones_like(similarity)  # Positive pairs\n",
        "        binary_labels = torch.where(\n",
        "            binary_labels == 0, torch.zeros_like(binary_labels), binary_labels,\n",
        "        )  # Negative pairs\n",
        "\n",
        "        # Calculate loss\n",
        "        loss = F.binary_cross_entropy_with_logits(\n",
        "            similarity - negative_similarity, binary_labels,\n",
        "        )\n",
        "\n",
        "\n",
        "        # Backpropagation\n",
        "        optimizer.zero_grad()\n",
        "        loss.backward()\n",
        "        optimizer.step()\n",
        "\n",
        "        # Track training loss\n",
        "        train_losses.append(loss.item())\n",
        "\n",
        "    # Validation loop\n",
        "    val_loss = 0.0\n",
        "    with torch.no_grad():\n",
        "        for batch in val_dataloader:\n",
        "            query_input, pos_doc_input, neg_doc_input = batch\n",
        "\n",
        "            # Forward pass positive sampling\n",
        "            query_embedding, pos_doc_embedding = two_tower_model(query_input, pos_doc_input)\n",
        "\n",
        "            # Compute cosine similarity\n",
        "            similarity = F.cosine_similarity(query_embedding, pos_doc_embedding, dim=1)\n",
        "\n",
        "            # Negative sampling\n",
        "            _, neg_doc_embedding = two_tower_model(query_input, neg_doc_input)\n",
        "\n",
        "            # Compute negative similarity\n",
        "            negative_similarity = F.cosine_similarity(query_embedding, neg_doc_embedding, dim=1)\n",
        "\n",
        "            # Create binary labels\n",
        "            binary_labels = torch.ones_like(similarity)  # Positive pairs\n",
        "            binary_labels = torch.where(\n",
        "                binary_labels == 0, torch.zeros_like(binary_labels), binary_labels\n",
        "            )  # Negative pairs\n",
        "\n",
        "            # Calculate loss\n",
        "            loss = F.binary_cross_entropy_with_logits(\n",
        "                similarity - negative_similarity, binary_labels,\n",
        "            )\n",
        "\n",
        "            val_loss += loss.item()\n",
        "            \n",
        "            \n",
        "    # Save the model after training\n",
        "    torch.save(two_tower_model.state_dict(), 'two_tower_model.pth')\n",
        "\n",
        "    # Compute average validation loss\n",
        "    avg_val_loss = val_loss / len(val_dataloader)\n",
        "    val_losses.append(avg_val_loss)\n",
        "    # Print losses for this epoch\n",
        "    print(f\"Epoch {epoch+1}/{num_epochs}, Train Loss: {sum(train_losses[-len(train_dataloader):])/len(train_dataloader):.4f}, Val Loss: {avg_val_loss:.4f}\")\n",
        "\n",
        "# Plotting loss curves\n",
        "plt.plot(train_losses, label='Train Loss')\n",
        "plt.plot(val_losses, label='Validation Loss')\n",
        "plt.xlabel('Epoch')\n",
        "plt.ylabel('Loss')\n",
        "plt.title('Training and Validation Losses')\n",
        "plt.legend()\n",
        "plt.show()\n",
        "\n",
        "# After training loop, print final losses\n",
        "print(\"Training finished.\")\n",
        "print(f\"Final Train Loss: {sum(train_losses)/len(train_losses):.4f}, Final Val Loss: {val_losses[-1]:.4f}\")"
      ]
    },
    {
      "cell_type": "code",
      "execution_count": 75,
      "metadata": {},
      "outputs": [],
      "source": [
        "\n",
        "#two_tower_model.load_state_dict(torch.load('two_tower_model.pth'))\n",
        "# Initialize the device\n",
        "device = torch.device('cuda' if torch.cuda.is_available() else 'cpu')\n",
        "two_tower_model.to(device)\n",
        "#two_tower_model.eval()\n",
        "eval_model = TwoTowerNN( \n",
        "    sp_model_path='m.model', word2vec_model_path='word2vec.model',\n",
        "    embedding_dim=embedding_dim,\n",
        "    query_hidden_size=query_hidden_size, doc_hidden_size=doc_hidden_size,\n",
        "    query_num_layers=query_num_layers, doc_num_layers=doc_num_layers,\n",
        "    output_size=output_size, vocab_size=vocab_size, fine_tune=fine_tune,\n",
        ")\n",
        "eval_model.load_state_dict(torch.load('two_tower_model.pth'))\n",
        "eval_model.to(device)\n",
        "eval_model.eval()\n",
        "\n",
        "for param in eval_model.parameters():\n",
        "    param.requires_grad = False"
      ]
    },
    {
      "cell_type": "code",
      "execution_count": null,
      "metadata": {},
      "outputs": [],
      "source": [
        "def pred(query, model, word2vec_model):\n",
        "    # Tokenize the text using SentencePiece model\n",
        "    query_token = sp.encode_as_ids(query)\n",
        "    # Vectorize the text using Word2Vec model\n",
        "    query_embeddings = [word2vec_model.wv.get_vector(tok) for tok in query_token]\n",
        "    # Convert the embeddings to tensors and stack them\n",
        "    query_embeddings = torch.stack([torch.tensor(embedding) for embedding in query_embeddings])\n",
        "    # Add an extra batch dimension to match the expected input shape of the model\n",
        "    query_embeddings = query_embeddings.unsqueeze(0)\n",
        "    # Since we only have one query, no padding is needed here, and every token is valid (no mask)\n",
        "    query_mask = torch.ones((1, query_embeddings.size(1)), dtype=torch.bool).to(device)\n",
        "    # Get the encoding for the query\n",
        "    model.eval()  # Set the model to evaluation mode\n",
        "    with torch.no_grad():  # Disable gradient calculation\n",
        "        query_encoded, _, _ = model(queries=query_embeddings, queries_mask=query_mask)\n",
        "    \n",
        "    if query_encoded is None:\n",
        "        raise ValueError(\"The model returned None instead of an encoding. Check the model's forward method.\")\n",
        "    \n",
        "    # Squeeze to remove the batch dimension (we only have one query)\n",
        "    return query_encoded.squeeze(0)\n",
        "\n",
        "\n",
        "w2v_model = Word2Vec.load('word2vec.model')\n",
        "\n"
      ]
    },
    {
      "cell_type": "markdown",
      "metadata": {
        "id": "Gc2JXMaLRMUU"
      },
      "source": [
        "# Inference"
      ]
    },
    {
      "cell_type": "code",
      "execution_count": 76,
      "metadata": {
        "colab": {
          "base_uri": "https://localhost:8080/"
        },
        "id": "irkySVC3UhkC",
        "outputId": "08362e22-3ba5-46ac-c3fe-774a7430a51c"
      },
      "outputs": [
        {
          "data": {
            "text/plain": [
              "['Even if you file a return, you will incur a late payment penalty if the full amount of tax owed is not paid on time. This penalty is 0.5% of your unpaid tax; charged each month (or part of a month) that your tax is overdue, up to a maximum of 25%.',\n",
              " 'Mount Pinatubo (Filipino: Bundok Pinatubo) is an active stratovolcano in the Cabusilan Mountains on the island of Luzon, near the tripoint of the Philippine provinces of Zambales, Tarlac, and Pampanga. Before the volcanic activities of 1991, its eruptive history was unknown to most people. It ejected roughly 10,000,000,000 tonnes (1.1 × 10 10 short tons) or 10 km 3 (2.4 cu mi) of magma, and 20,000,000 tonnes (22,000,000 short tons) SO 2, bringing vast quantities of minerals and metals to the surface environment. It injected more particulate into the stratosphere than any eruption since Krakatoa in 1883.',\n",
              " 'EPIDEMIOLOGY. Whereas the prevalence of anorexia nervosa for women in the United States is 0.5% to 1%, the prevalence of bulimia nervosa is 2% to 3% and can be as high as 10% in vulnerable populations, such as college-aged women. Males are affected by eating disorders at a rate one tenth of that of females. Bulimia nervosa is a common and treatable condition that often presents in the primary care setting. The hallmark sign for bulimia nervosa is a distorted view of food and eating. Patients with this condition often maintain a normal or above-normal weight.',\n",
              " 'Convergent evolution creates analogous structures that have similar form or function, but that were not present in the last common ancestor of those groups. The cladistic term for the same phenomenon is homoplasy, from Greek for same form. The recurrent evolution of flight is a classic example of convergent evolution. Functionally similar features arising through convergent evolution are termed analogous, in contrast to homologous structures or traits, which have a common origin, but not necessarily similar function.',\n",
              " \"In my neck of the woods it will cost you $140 - $230 at a vet. This is typical. However if you have a clinic or shelter that does low-cost spay/neuter for rabbits then you may pay as little as $50. This is rare but worth the research to find one. I'd suggesting making sure your male is actually a male and your female is a female. If they are over six weeks old then you should be able to tell\"]"
            ]
          },
          "execution_count": 76,
          "metadata": {},
          "output_type": "execute_result"
        }
      ],
      "source": [
        "docs[:5]"
      ]
    },
    {
      "cell_type": "code",
      "execution_count": 77,
      "metadata": {
        "id": "qhZyNY2KRNbk"
      },
      "outputs": [],
      "source": [
        "# get document embeddings\n",
        "documents = docs\n",
        "document_embeddings = two_tower_model.get_document_embeddings(documents)\n",
        "doc_emb_dict = {\n",
        "    i: document_embeddings[i] for i in id_doc_dict.keys()\n",
        "}\n",
        "\n",
        "# Save document embeddings to a file\n",
        "with open(\"document_embeddings.txt\", \"w\") as f:\n",
        "    for embedding in document_embeddings:\n",
        "        f.write(\" \".join(map(str, embedding)) + \"\\n\")"
      ]
    },
    {
      "cell_type": "code",
      "execution_count": 112,
      "metadata": {},
      "outputs": [],
      "source": [
        "import json\n",
        "\n",
        "# Convert tensors to lists\n",
        "document_embeddings_lists = [embedding.tolist() for embedding in document_embeddings]\n",
        "\n",
        "# Save document embeddings to a file\n",
        "with open(\"document_embeddings.json\", \"w\") as f:\n",
        "    json.dump(document_embeddings_lists, f)\n"
      ]
    },
    {
      "cell_type": "code",
      "execution_count": 101,
      "metadata": {},
      "outputs": [],
      "source": [
        "def load_document_embeddings(file_path):\n",
        "    doc_emb_dict = {}\n",
        "    with open(file_path, \"r\") as f:\n",
        "        for line in f:\n",
        "            # Split the line by space to separate individual values\n",
        "            values = line.strip().split()\n",
        "            # Convert the values to floats if possible\n",
        "            try:\n",
        "                embedding = torch.tensor([float(value) for value in values])\n",
        "                # Add the embedding to the dictionary\n",
        "                doc_emb_dict[len(doc_emb_dict)] = embedding\n",
        "            except ValueError:\n",
        "                # Skip this line if it cannot be converted to floats\n",
        "                continue\n",
        "    return doc_emb_dict"
      ]
    },
    {
      "cell_type": "code",
      "execution_count": 119,
      "metadata": {},
      "outputs": [],
      "source": [
        "# Load document embeddings from the file\n",
        "with open(\"document_embeddings.json\", \"r\") as f:\n",
        "    document_embeddings_lists = json.load(f)\n",
        "\n",
        "# Convert lists to tensors\n",
        "document_embeds = {i: torch.tensor(embedding) for i, embedding in enumerate(document_embeddings_lists)}"
      ]
    },
    {
      "cell_type": "code",
      "execution_count": 102,
      "metadata": {},
      "outputs": [],
      "source": [
        "# Load document embeddings from the file\n",
        "doc_embdict = load_document_embeddings(\"document_embeddings.txt\")"
      ]
    },
    {
      "cell_type": "code",
      "execution_count": 124,
      "metadata": {},
      "outputs": [
        {
          "data": {
            "text/plain": [
              "tensor([ 0.8570, -0.9819, -1.0000,  0.9999, -0.9989, -0.9756, -0.9901,  0.0606,\n",
              "         0.9880, -0.9985,  0.0282,  0.9997, -0.9959, -0.9432,  0.9976,  0.9791,\n",
              "         0.9946,  1.0000, -0.7919,  0.8958, -1.0000, -0.9609, -0.9365, -0.9999,\n",
              "         0.9893, -0.9552,  0.9990, -0.7736, -0.9942,  0.9489, -0.1532, -0.9980,\n",
              "         0.9972,  0.9988, -0.9999, -0.5738,  0.9998,  1.0000, -0.9504,  0.9998,\n",
              "         1.0000, -0.9970,  0.9200,  0.9998, -1.0000,  0.9999,  0.9998, -0.9999,\n",
              "        -0.9916, -0.9826,  0.9997, -0.9984, -0.9937,  0.3856, -0.9999, -0.9970,\n",
              "        -1.0000, -0.9999, -0.9999, -1.0000, -0.9998,  0.9954, -0.9998, -0.9991])"
            ]
          },
          "execution_count": 124,
          "metadata": {},
          "output_type": "execute_result"
        }
      ],
      "source": [
        "document_embeds[0]"
      ]
    },
    {
      "cell_type": "code",
      "execution_count": 122,
      "metadata": {},
      "outputs": [
        {
          "data": {
            "text/plain": [
              "tensor([ 0.8570, -0.9819, -1.0000,  0.9999, -0.9989, -0.9756, -0.9901,  0.0606,\n",
              "         0.9880, -0.9985,  0.0282,  0.9997, -0.9959, -0.9432,  0.9976,  0.9791,\n",
              "         0.9946,  1.0000, -0.7919,  0.8958, -1.0000, -0.9609, -0.9365, -0.9999,\n",
              "         0.9893, -0.9552,  0.9990, -0.7736, -0.9942,  0.9489, -0.1532, -0.9980,\n",
              "         0.9972,  0.9988, -0.9999, -0.5738,  0.9998,  1.0000, -0.9504,  0.9998,\n",
              "         1.0000, -0.9970,  0.9200,  0.9998, -1.0000,  0.9999,  0.9998, -0.9999,\n",
              "        -0.9916, -0.9826,  0.9997, -0.9984, -0.9937,  0.3856, -0.9999, -0.9970,\n",
              "        -1.0000, -0.9999, -0.9999, -1.0000, -0.9998,  0.9954, -0.9998, -0.9991],\n",
              "       grad_fn=<SelectBackward0>)"
            ]
          },
          "execution_count": 122,
          "metadata": {},
          "output_type": "execute_result"
        }
      ],
      "source": [
        "doc_emb_dict[0]"
      ]
    },
    {
      "cell_type": "code",
      "execution_count": 78,
      "metadata": {
        "colab": {
          "base_uri": "https://localhost:8080/",
          "height": 87
        },
        "id": "NF-12UR9Wbc8",
        "outputId": "06ddb6a2-6e78-41ac-8add-db3d78cd8eb4"
      },
      "outputs": [
        {
          "data": {
            "text/plain": [
              "'Even if you file a return, you will incur a late payment penalty if the full amount of tax owed is not paid on time. This penalty is 0.5% of your unpaid tax; charged each month (or part of a month) that your tax is overdue, up to a maximum of 25%.'"
            ]
          },
          "execution_count": 78,
          "metadata": {},
          "output_type": "execute_result"
        }
      ],
      "source": [
        "id_doc_dict[0]"
      ]
    },
    {
      "cell_type": "code",
      "execution_count": null,
      "metadata": {},
      "outputs": [],
      "source": []
    },
    {
      "cell_type": "code",
      "execution_count": 125,
      "metadata": {
        "id": "hYNJRCqkRUtz"
      },
      "outputs": [],
      "source": [
        "# predict\n",
        "query='What is rba?'\n",
        "candidate_docs_ids=id_doc_dict\n",
        "k=5\n",
        "result = eval_model.predict(\n",
        "    query, candidate_docs_ids, id_doc_dict=id_doc_dict,\n",
        "    doc_emb_dict=document_embeds, k=k,\n",
        ")"
      ]
    },
    {
      "cell_type": "code",
      "execution_count": null,
      "metadata": {},
      "outputs": [],
      "source": []
    },
    {
      "cell_type": "code",
      "execution_count": 80,
      "metadata": {
        "colab": {
          "base_uri": "https://localhost:8080/"
        },
        "id": "hKM5dDS_SZvU",
        "outputId": "7ab7b8b8-fa6d-4d50-bfdb-34c7af9018bb"
      },
      "outputs": [
        {
          "data": {
            "text/plain": [
              "[(\"Bachelor of science in biology degree holders working as research laboratory technicians earned $28,000 to $38,000 per year, according to a survey of 1,303 biology majors by PayScale.com that was updated in November 2010. Biology majors working as high school teachers made salaries between $36,801 and $48,519 annually. Mid-Career Income. Molecular biology majors with 15 years of experience earned a median salary of $82,900 per year, according to PayScale.com's College Salary Report, while those with a general biology degree earned $72,800 a year, just ahead of microbiology majors, whose median mid-career salary was $72,600.\",\n",
              "  0.14949828386306763),\n",
              " (\"Starting Salaries. The starting median pay for biology majors was $40,600 per year for those who specialized in microbiology, according to PayScale.com's 2010-2011 College Salary Report, while for those with a molecular biology focus it was $40,200 annually. General biology majors had a median starting salary of $38,400. Mid-Career Income. Molecular biology majors with 15 years of experience earned a median salary of $82,900 per year, according to PayScale.com's College Salary Report, while those with a general biology degree earned $72,800 a year, just ahead of microbiology majors, whose median mid-career salary was $72,600.\",\n",
              "  0.1491612046957016),\n",
              " ('© 2014 WebMD, LLC. All rights reserved. The lungs are a pair of spongy, air-filled organs located on either side of the chest (thorax). The trachea (windpipe) conducts inhaled air into the lungs through its tubular branches, called bronchi. The bronchi then divide into smaller and smaller branches (bronchioles), finally becoming microscopic. ',\n",
              "  0.14831441640853882),\n",
              " ('Hummingbird Moth. The hummingbird moth is an enchanting insect. Many mistake it for a hummingbird, it is that charming! On summer evenings, my husband and I sit outside in front of our flower garden watching hummingbirds. Also, we have the pleasure of viewing these moths, a creature that resembles a hummingbird in many ways. There are 2 usual suspects that are categorized as hummingbird moths: 1) The Clearwing Moth (Scientic Name-Hemaris thysbe). The Clearwing moth is a beautiful insect',\n",
              "  0.1451757401227951),\n",
              " ('The most mysterious thing about Guge Kingdom is how a kingdom with such rich and well-developed... Legend has it that it was the Leizu(嫘祖), wife of the Yellow Emperor, ruler of China in about 3000 BC, who discovered silkworms and subsequently invented the silk reel and the silk loom. How Guge Kingdom Disappeared',\n",
              "  0.14368632435798645)]"
            ]
          },
          "execution_count": 80,
          "metadata": {},
          "output_type": "execute_result"
        }
      ],
      "source": [
        "result"
      ]
    },
    {
      "cell_type": "markdown",
      "metadata": {},
      "source": [
        "# test"
      ]
    },
    {
      "cell_type": "code",
      "execution_count": null,
      "metadata": {
        "id": "HUTsx5iHSdBG"
      },
      "outputs": [],
      "source": [
        "def encode_query(query, model, tokenizer, device, w2v_model):\n",
        "    # Tokenize the query\n",
        "    tokenized_query = sp.encode_as_pieces(query, add_special_tokens=False)\n",
        "    \n",
        "    # Convert token IDs to embeddings\n",
        "    query_embeddings = torch.stack([torch.tensor(get_embedding(token_id, w2v_model), dtype=torch.float32) for token_id in tokenized_query.ids]).to(device)\n",
        "\n",
        "    # Add an extra batch dimension to match the expected input shape of the model\n",
        "    query_embeddings = query_embeddings.unsqueeze(0)  # Shape: (1, seq_len, embed_dim)\n",
        "    \n",
        "    # Since we only have one query, no padding is needed here, and every token is valid (no mask)\n",
        "    query_mask = torch.ones((1, query_embeddings.size(1)), dtype=torch.bool).to(device)\n",
        "    \n",
        "    # Get the encoding for the query\n",
        "    model.eval()  # Set the model to evaluation mode\n",
        "    with torch.no_grad():  # Disable gradient calculation\n",
        "        query_encoded, _, _ = model(queries=query_embeddings, queries_mask=query_mask)\n",
        "    \n",
        "    if query_encoded is None:\n",
        "        raise ValueError(\"The model returned None instead of an encoding. Check the model's forward method.\")\n",
        "    \n",
        "    # Squeeze to remove the batch dimension (we only have one query)\n",
        "    return query_encoded.squeeze(0)"
      ]
    },
    {
      "cell_type": "code",
      "execution_count": null,
      "metadata": {},
      "outputs": [],
      "source": [
        "def find_top_passages(query_encoded, encoded_passages, unique_passages_df, top_k=5):\n",
        "    # Convert things to tensors \n",
        "    passage_encodings_tensors = [torch.tensor(p, dtype=torch.float32) for p in encoded_passages]\n",
        "    \n",
        "    # Stack all passage encoding tensors to create a single tensor\n",
        "    passage_encodings_tensor = torch.stack(passage_encodings_tensors).to(query_encoded.device)\n",
        "    \n",
        "    # Calculate cosine similarity between the query encoding and passage encodings\n",
        "    cos_similarities = cosine_similarity(query_encoded.unsqueeze(0), passage_encodings_tensor)\n",
        "    \n",
        "    # Get the top k values and indices of the highest similarities\n",
        "    top_k_values, top_k_indices = cos_similarities.topk(top_k, largest=True)\n",
        "    \n",
        "    # Retrieve the corresponding passages using the indices\n",
        "    top_passages = unique_passages_df.iloc[top_k_indices.cpu()].reset_index(drop=True)['UniquePassages'].tolist()\n",
        "    \n",
        "    return top_passages, top_k_values.cpu().tolist()"
      ]
    },
    {
      "cell_type": "code",
      "execution_count": null,
      "metadata": {},
      "outputs": [],
      "source": []
    },
    {
      "cell_type": "code",
      "execution_count": null,
      "metadata": {},
      "outputs": [],
      "source": []
    },
    {
      "cell_type": "code",
      "execution_count": null,
      "metadata": {},
      "outputs": [],
      "source": []
    },
    {
      "cell_type": "code",
      "execution_count": null,
      "metadata": {},
      "outputs": [],
      "source": []
    }
  ],
  "metadata": {
    "colab": {
      "provenance": []
    },
    "kernelspec": {
      "display_name": "Python 3",
      "name": "python3"
    },
    "language_info": {
      "codemirror_mode": {
        "name": "ipython",
        "version": 3
      },
      "file_extension": ".py",
      "mimetype": "text/x-python",
      "name": "python",
      "nbconvert_exporter": "python",
      "pygments_lexer": "ipython3",
      "version": "3.12.2"
    },
    "widgets": {
      "application/vnd.jupyter.widget-state+json": {
        "01d39fc474144df49021e576c80aaa6f": {
          "model_module": "@jupyter-widgets/base",
          "model_module_version": "1.2.0",
          "model_name": "LayoutModel",
          "state": {
            "_model_module": "@jupyter-widgets/base",
            "_model_module_version": "1.2.0",
            "_model_name": "LayoutModel",
            "_view_count": null,
            "_view_module": "@jupyter-widgets/base",
            "_view_module_version": "1.2.0",
            "_view_name": "LayoutView",
            "align_content": null,
            "align_items": null,
            "align_self": null,
            "border": null,
            "bottom": null,
            "display": null,
            "flex": null,
            "flex_flow": null,
            "grid_area": null,
            "grid_auto_columns": null,
            "grid_auto_flow": null,
            "grid_auto_rows": null,
            "grid_column": null,
            "grid_gap": null,
            "grid_row": null,
            "grid_template_areas": null,
            "grid_template_columns": null,
            "grid_template_rows": null,
            "height": null,
            "justify_content": null,
            "justify_items": null,
            "left": null,
            "margin": null,
            "max_height": null,
            "max_width": null,
            "min_height": null,
            "min_width": null,
            "object_fit": null,
            "object_position": null,
            "order": null,
            "overflow": null,
            "overflow_x": null,
            "overflow_y": null,
            "padding": null,
            "right": null,
            "top": null,
            "visibility": null,
            "width": null
          }
        },
        "024399a2e4304762a08c1f9c515bdeb5": {
          "model_module": "@jupyter-widgets/base",
          "model_module_version": "1.2.0",
          "model_name": "LayoutModel",
          "state": {
            "_model_module": "@jupyter-widgets/base",
            "_model_module_version": "1.2.0",
            "_model_name": "LayoutModel",
            "_view_count": null,
            "_view_module": "@jupyter-widgets/base",
            "_view_module_version": "1.2.0",
            "_view_name": "LayoutView",
            "align_content": null,
            "align_items": null,
            "align_self": null,
            "border": null,
            "bottom": null,
            "display": null,
            "flex": null,
            "flex_flow": null,
            "grid_area": null,
            "grid_auto_columns": null,
            "grid_auto_flow": null,
            "grid_auto_rows": null,
            "grid_column": null,
            "grid_gap": null,
            "grid_row": null,
            "grid_template_areas": null,
            "grid_template_columns": null,
            "grid_template_rows": null,
            "height": null,
            "justify_content": null,
            "justify_items": null,
            "left": null,
            "margin": null,
            "max_height": null,
            "max_width": null,
            "min_height": null,
            "min_width": null,
            "object_fit": null,
            "object_position": null,
            "order": null,
            "overflow": null,
            "overflow_x": null,
            "overflow_y": null,
            "padding": null,
            "right": null,
            "top": null,
            "visibility": null,
            "width": null
          }
        },
        "031d77f1ac684677a2a35e9c538ce25d": {
          "model_module": "@jupyter-widgets/base",
          "model_module_version": "1.2.0",
          "model_name": "LayoutModel",
          "state": {
            "_model_module": "@jupyter-widgets/base",
            "_model_module_version": "1.2.0",
            "_model_name": "LayoutModel",
            "_view_count": null,
            "_view_module": "@jupyter-widgets/base",
            "_view_module_version": "1.2.0",
            "_view_name": "LayoutView",
            "align_content": null,
            "align_items": null,
            "align_self": null,
            "border": null,
            "bottom": null,
            "display": null,
            "flex": null,
            "flex_flow": null,
            "grid_area": null,
            "grid_auto_columns": null,
            "grid_auto_flow": null,
            "grid_auto_rows": null,
            "grid_column": null,
            "grid_gap": null,
            "grid_row": null,
            "grid_template_areas": null,
            "grid_template_columns": null,
            "grid_template_rows": null,
            "height": null,
            "justify_content": null,
            "justify_items": null,
            "left": null,
            "margin": null,
            "max_height": null,
            "max_width": null,
            "min_height": null,
            "min_width": null,
            "object_fit": null,
            "object_position": null,
            "order": null,
            "overflow": null,
            "overflow_x": null,
            "overflow_y": null,
            "padding": null,
            "right": null,
            "top": null,
            "visibility": null,
            "width": null
          }
        },
        "0830740d5a174a1db47be8d80f88d0e2": {
          "model_module": "@jupyter-widgets/controls",
          "model_module_version": "1.5.0",
          "model_name": "DescriptionStyleModel",
          "state": {
            "_model_module": "@jupyter-widgets/controls",
            "_model_module_version": "1.5.0",
            "_model_name": "DescriptionStyleModel",
            "_view_count": null,
            "_view_module": "@jupyter-widgets/base",
            "_view_module_version": "1.2.0",
            "_view_name": "StyleView",
            "description_width": ""
          }
        },
        "08a81b84d6d745e09c469b1a917252aa": {
          "model_module": "@jupyter-widgets/base",
          "model_module_version": "1.2.0",
          "model_name": "LayoutModel",
          "state": {
            "_model_module": "@jupyter-widgets/base",
            "_model_module_version": "1.2.0",
            "_model_name": "LayoutModel",
            "_view_count": null,
            "_view_module": "@jupyter-widgets/base",
            "_view_module_version": "1.2.0",
            "_view_name": "LayoutView",
            "align_content": null,
            "align_items": null,
            "align_self": null,
            "border": null,
            "bottom": null,
            "display": null,
            "flex": null,
            "flex_flow": null,
            "grid_area": null,
            "grid_auto_columns": null,
            "grid_auto_flow": null,
            "grid_auto_rows": null,
            "grid_column": null,
            "grid_gap": null,
            "grid_row": null,
            "grid_template_areas": null,
            "grid_template_columns": null,
            "grid_template_rows": null,
            "height": null,
            "justify_content": null,
            "justify_items": null,
            "left": null,
            "margin": null,
            "max_height": null,
            "max_width": null,
            "min_height": null,
            "min_width": null,
            "object_fit": null,
            "object_position": null,
            "order": null,
            "overflow": null,
            "overflow_x": null,
            "overflow_y": null,
            "padding": null,
            "right": null,
            "top": null,
            "visibility": null,
            "width": null
          }
        },
        "11b32e1956ae4a5f868081f28c88f14f": {
          "model_module": "@jupyter-widgets/controls",
          "model_module_version": "1.5.0",
          "model_name": "HTMLModel",
          "state": {
            "_dom_classes": [],
            "_model_module": "@jupyter-widgets/controls",
            "_model_module_version": "1.5.0",
            "_model_name": "HTMLModel",
            "_view_count": null,
            "_view_module": "@jupyter-widgets/controls",
            "_view_module_version": "1.5.0",
            "_view_name": "HTMLView",
            "description": "",
            "description_tooltip": null,
            "layout": "IPY_MODEL_9a712ec5fbc44ad7ab44433bd6e698c3",
            "placeholder": "​",
            "style": "IPY_MODEL_0830740d5a174a1db47be8d80f88d0e2",
            "value": "Downloading data: 100%"
          }
        },
        "11b61b3ade4e46a8814f2bdaf56fa7da": {
          "model_module": "@jupyter-widgets/controls",
          "model_module_version": "1.5.0",
          "model_name": "HTMLModel",
          "state": {
            "_dom_classes": [],
            "_model_module": "@jupyter-widgets/controls",
            "_model_module_version": "1.5.0",
            "_model_name": "HTMLModel",
            "_view_count": null,
            "_view_module": "@jupyter-widgets/controls",
            "_view_module_version": "1.5.0",
            "_view_name": "HTMLView",
            "description": "",
            "description_tooltip": null,
            "layout": "IPY_MODEL_eb14083b5c464ce3b200d3623a304cfb",
            "placeholder": "​",
            "style": "IPY_MODEL_3b25afdd38614c78a16ebbdfeefd6f3a",
            "value": "Generating train split: 100%"
          }
        },
        "1b989e848c8e4dfc96d2f0fccd85089b": {
          "model_module": "@jupyter-widgets/controls",
          "model_module_version": "1.5.0",
          "model_name": "FloatProgressModel",
          "state": {
            "_dom_classes": [],
            "_model_module": "@jupyter-widgets/controls",
            "_model_module_version": "1.5.0",
            "_model_name": "FloatProgressModel",
            "_view_count": null,
            "_view_module": "@jupyter-widgets/controls",
            "_view_module_version": "1.5.0",
            "_view_name": "ProgressView",
            "bar_style": "success",
            "description": "",
            "description_tooltip": null,
            "layout": "IPY_MODEL_fb96b10b754743f9bfebbcc55c76c2ef",
            "max": 82326,
            "min": 0,
            "orientation": "horizontal",
            "style": "IPY_MODEL_394654e0726545c59a76475dcbae6f30",
            "value": 82326
          }
        },
        "1e2daf9a2aaa4b8eb17e4117109338ed": {
          "model_module": "@jupyter-widgets/controls",
          "model_module_version": "1.5.0",
          "model_name": "DescriptionStyleModel",
          "state": {
            "_model_module": "@jupyter-widgets/controls",
            "_model_module_version": "1.5.0",
            "_model_name": "DescriptionStyleModel",
            "_view_count": null,
            "_view_module": "@jupyter-widgets/base",
            "_view_module_version": "1.2.0",
            "_view_name": "StyleView",
            "description_width": ""
          }
        },
        "1f154fe9335d49048095e3ad097dc041": {
          "model_module": "@jupyter-widgets/base",
          "model_module_version": "1.2.0",
          "model_name": "LayoutModel",
          "state": {
            "_model_module": "@jupyter-widgets/base",
            "_model_module_version": "1.2.0",
            "_model_name": "LayoutModel",
            "_view_count": null,
            "_view_module": "@jupyter-widgets/base",
            "_view_module_version": "1.2.0",
            "_view_name": "LayoutView",
            "align_content": null,
            "align_items": null,
            "align_self": null,
            "border": null,
            "bottom": null,
            "display": null,
            "flex": null,
            "flex_flow": null,
            "grid_area": null,
            "grid_auto_columns": null,
            "grid_auto_flow": null,
            "grid_auto_rows": null,
            "grid_column": null,
            "grid_gap": null,
            "grid_row": null,
            "grid_template_areas": null,
            "grid_template_columns": null,
            "grid_template_rows": null,
            "height": null,
            "justify_content": null,
            "justify_items": null,
            "left": null,
            "margin": null,
            "max_height": null,
            "max_width": null,
            "min_height": null,
            "min_width": null,
            "object_fit": null,
            "object_position": null,
            "order": null,
            "overflow": null,
            "overflow_x": null,
            "overflow_y": null,
            "padding": null,
            "right": null,
            "top": null,
            "visibility": null,
            "width": null
          }
        },
        "1f7ca49ab3694df7952ce7dc4a80d53b": {
          "model_module": "@jupyter-widgets/controls",
          "model_module_version": "1.5.0",
          "model_name": "ProgressStyleModel",
          "state": {
            "_model_module": "@jupyter-widgets/controls",
            "_model_module_version": "1.5.0",
            "_model_name": "ProgressStyleModel",
            "_view_count": null,
            "_view_module": "@jupyter-widgets/base",
            "_view_module_version": "1.2.0",
            "_view_name": "StyleView",
            "bar_color": null,
            "description_width": ""
          }
        },
        "229acb77cc804f628d41eab447d31d51": {
          "model_module": "@jupyter-widgets/base",
          "model_module_version": "1.2.0",
          "model_name": "LayoutModel",
          "state": {
            "_model_module": "@jupyter-widgets/base",
            "_model_module_version": "1.2.0",
            "_model_name": "LayoutModel",
            "_view_count": null,
            "_view_module": "@jupyter-widgets/base",
            "_view_module_version": "1.2.0",
            "_view_name": "LayoutView",
            "align_content": null,
            "align_items": null,
            "align_self": null,
            "border": null,
            "bottom": null,
            "display": null,
            "flex": null,
            "flex_flow": null,
            "grid_area": null,
            "grid_auto_columns": null,
            "grid_auto_flow": null,
            "grid_auto_rows": null,
            "grid_column": null,
            "grid_gap": null,
            "grid_row": null,
            "grid_template_areas": null,
            "grid_template_columns": null,
            "grid_template_rows": null,
            "height": null,
            "justify_content": null,
            "justify_items": null,
            "left": null,
            "margin": null,
            "max_height": null,
            "max_width": null,
            "min_height": null,
            "min_width": null,
            "object_fit": null,
            "object_position": null,
            "order": null,
            "overflow": null,
            "overflow_x": null,
            "overflow_y": null,
            "padding": null,
            "right": null,
            "top": null,
            "visibility": null,
            "width": null
          }
        },
        "22a452fe46ab4a17b51ffe2adad08a28": {
          "model_module": "@jupyter-widgets/base",
          "model_module_version": "1.2.0",
          "model_name": "LayoutModel",
          "state": {
            "_model_module": "@jupyter-widgets/base",
            "_model_module_version": "1.2.0",
            "_model_name": "LayoutModel",
            "_view_count": null,
            "_view_module": "@jupyter-widgets/base",
            "_view_module_version": "1.2.0",
            "_view_name": "LayoutView",
            "align_content": null,
            "align_items": null,
            "align_self": null,
            "border": null,
            "bottom": null,
            "display": null,
            "flex": null,
            "flex_flow": null,
            "grid_area": null,
            "grid_auto_columns": null,
            "grid_auto_flow": null,
            "grid_auto_rows": null,
            "grid_column": null,
            "grid_gap": null,
            "grid_row": null,
            "grid_template_areas": null,
            "grid_template_columns": null,
            "grid_template_rows": null,
            "height": null,
            "justify_content": null,
            "justify_items": null,
            "left": null,
            "margin": null,
            "max_height": null,
            "max_width": null,
            "min_height": null,
            "min_width": null,
            "object_fit": null,
            "object_position": null,
            "order": null,
            "overflow": null,
            "overflow_x": null,
            "overflow_y": null,
            "padding": null,
            "right": null,
            "top": null,
            "visibility": null,
            "width": null
          }
        },
        "24b0175b0f7340ee99c42351eff0e764": {
          "model_module": "@jupyter-widgets/controls",
          "model_module_version": "1.5.0",
          "model_name": "HTMLModel",
          "state": {
            "_dom_classes": [],
            "_model_module": "@jupyter-widgets/controls",
            "_model_module_version": "1.5.0",
            "_model_name": "HTMLModel",
            "_view_count": null,
            "_view_module": "@jupyter-widgets/controls",
            "_view_module_version": "1.5.0",
            "_view_name": "HTMLView",
            "description": "",
            "description_tooltip": null,
            "layout": "IPY_MODEL_031d77f1ac684677a2a35e9c538ce25d",
            "placeholder": "​",
            "style": "IPY_MODEL_4252f3e6b7e647f68bb941e640a67c6c",
            "value": " 175M/175M [00:06&lt;00:00, 38.1MB/s]"
          }
        },
        "2540892046e74849acbcdc2fda643a48": {
          "model_module": "@jupyter-widgets/base",
          "model_module_version": "1.2.0",
          "model_name": "LayoutModel",
          "state": {
            "_model_module": "@jupyter-widgets/base",
            "_model_module_version": "1.2.0",
            "_model_name": "LayoutModel",
            "_view_count": null,
            "_view_module": "@jupyter-widgets/base",
            "_view_module_version": "1.2.0",
            "_view_name": "LayoutView",
            "align_content": null,
            "align_items": null,
            "align_self": null,
            "border": null,
            "bottom": null,
            "display": null,
            "flex": null,
            "flex_flow": null,
            "grid_area": null,
            "grid_auto_columns": null,
            "grid_auto_flow": null,
            "grid_auto_rows": null,
            "grid_column": null,
            "grid_gap": null,
            "grid_row": null,
            "grid_template_areas": null,
            "grid_template_columns": null,
            "grid_template_rows": null,
            "height": null,
            "justify_content": null,
            "justify_items": null,
            "left": null,
            "margin": null,
            "max_height": null,
            "max_width": null,
            "min_height": null,
            "min_width": null,
            "object_fit": null,
            "object_position": null,
            "order": null,
            "overflow": null,
            "overflow_x": null,
            "overflow_y": null,
            "padding": null,
            "right": null,
            "top": null,
            "visibility": null,
            "width": null
          }
        },
        "2d8de6363aca42d9a42e19cc0c4f7bdd": {
          "model_module": "@jupyter-widgets/controls",
          "model_module_version": "1.5.0",
          "model_name": "HBoxModel",
          "state": {
            "_dom_classes": [],
            "_model_module": "@jupyter-widgets/controls",
            "_model_module_version": "1.5.0",
            "_model_name": "HBoxModel",
            "_view_count": null,
            "_view_module": "@jupyter-widgets/controls",
            "_view_module_version": "1.5.0",
            "_view_name": "HBoxView",
            "box_style": "",
            "children": [
              "IPY_MODEL_de252f926eee48328a465968d5c0e0a7",
              "IPY_MODEL_54b6f46fb88e4bf78058ffb5e1b803ab",
              "IPY_MODEL_b55bfac02f314157b50bedb4b2617c87"
            ],
            "layout": "IPY_MODEL_777bb2be288e4da7a0917df56336554b"
          }
        },
        "35c7ee7f1f284396a6a19e91aaf1b98a": {
          "model_module": "@jupyter-widgets/base",
          "model_module_version": "1.2.0",
          "model_name": "LayoutModel",
          "state": {
            "_model_module": "@jupyter-widgets/base",
            "_model_module_version": "1.2.0",
            "_model_name": "LayoutModel",
            "_view_count": null,
            "_view_module": "@jupyter-widgets/base",
            "_view_module_version": "1.2.0",
            "_view_name": "LayoutView",
            "align_content": null,
            "align_items": null,
            "align_self": null,
            "border": null,
            "bottom": null,
            "display": null,
            "flex": null,
            "flex_flow": null,
            "grid_area": null,
            "grid_auto_columns": null,
            "grid_auto_flow": null,
            "grid_auto_rows": null,
            "grid_column": null,
            "grid_gap": null,
            "grid_row": null,
            "grid_template_areas": null,
            "grid_template_columns": null,
            "grid_template_rows": null,
            "height": null,
            "justify_content": null,
            "justify_items": null,
            "left": null,
            "margin": null,
            "max_height": null,
            "max_width": null,
            "min_height": null,
            "min_width": null,
            "object_fit": null,
            "object_position": null,
            "order": null,
            "overflow": null,
            "overflow_x": null,
            "overflow_y": null,
            "padding": null,
            "right": null,
            "top": null,
            "visibility": null,
            "width": null
          }
        },
        "394654e0726545c59a76475dcbae6f30": {
          "model_module": "@jupyter-widgets/controls",
          "model_module_version": "1.5.0",
          "model_name": "ProgressStyleModel",
          "state": {
            "_model_module": "@jupyter-widgets/controls",
            "_model_module_version": "1.5.0",
            "_model_name": "ProgressStyleModel",
            "_view_count": null,
            "_view_module": "@jupyter-widgets/base",
            "_view_module_version": "1.2.0",
            "_view_name": "StyleView",
            "bar_color": null,
            "description_width": ""
          }
        },
        "3b25afdd38614c78a16ebbdfeefd6f3a": {
          "model_module": "@jupyter-widgets/controls",
          "model_module_version": "1.5.0",
          "model_name": "DescriptionStyleModel",
          "state": {
            "_model_module": "@jupyter-widgets/controls",
            "_model_module_version": "1.5.0",
            "_model_name": "DescriptionStyleModel",
            "_view_count": null,
            "_view_module": "@jupyter-widgets/base",
            "_view_module_version": "1.2.0",
            "_view_name": "StyleView",
            "description_width": ""
          }
        },
        "3f6fe4b42fdc4ba78fade51607667bcb": {
          "model_module": "@jupyter-widgets/controls",
          "model_module_version": "1.5.0",
          "model_name": "FloatProgressModel",
          "state": {
            "_dom_classes": [],
            "_model_module": "@jupyter-widgets/controls",
            "_model_module_version": "1.5.0",
            "_model_name": "FloatProgressModel",
            "_view_count": null,
            "_view_module": "@jupyter-widgets/controls",
            "_view_module_version": "1.5.0",
            "_view_name": "ProgressView",
            "bar_style": "success",
            "description": "",
            "description_tooltip": null,
            "layout": "IPY_MODEL_35c7ee7f1f284396a6a19e91aaf1b98a",
            "max": 21391358,
            "min": 0,
            "orientation": "horizontal",
            "style": "IPY_MODEL_c5d2e5b99fb64b4d8057ecf90cff416c",
            "value": 21391358
          }
        },
        "40322c34ea8243b0a25fe80ddfef7f12": {
          "model_module": "@jupyter-widgets/controls",
          "model_module_version": "1.5.0",
          "model_name": "ProgressStyleModel",
          "state": {
            "_model_module": "@jupyter-widgets/controls",
            "_model_module_version": "1.5.0",
            "_model_name": "ProgressStyleModel",
            "_view_count": null,
            "_view_module": "@jupyter-widgets/base",
            "_view_module_version": "1.2.0",
            "_view_name": "StyleView",
            "bar_color": null,
            "description_width": ""
          }
        },
        "4252f3e6b7e647f68bb941e640a67c6c": {
          "model_module": "@jupyter-widgets/controls",
          "model_module_version": "1.5.0",
          "model_name": "DescriptionStyleModel",
          "state": {
            "_model_module": "@jupyter-widgets/controls",
            "_model_module_version": "1.5.0",
            "_model_name": "DescriptionStyleModel",
            "_view_count": null,
            "_view_module": "@jupyter-widgets/base",
            "_view_module_version": "1.2.0",
            "_view_name": "StyleView",
            "description_width": ""
          }
        },
        "46578442a13a4351bc02c52647a5ea3f": {
          "model_module": "@jupyter-widgets/controls",
          "model_module_version": "1.5.0",
          "model_name": "HBoxModel",
          "state": {
            "_dom_classes": [],
            "_model_module": "@jupyter-widgets/controls",
            "_model_module_version": "1.5.0",
            "_model_name": "HBoxModel",
            "_view_count": null,
            "_view_module": "@jupyter-widgets/controls",
            "_view_module_version": "1.5.0",
            "_view_name": "HBoxView",
            "box_style": "",
            "children": [
              "IPY_MODEL_e62a5b2e3f7e4debb282672d26bb03c4",
              "IPY_MODEL_ffa609d73ef64fbd83e5e5cabb878997",
              "IPY_MODEL_f3f498bbb8df4e66b9dd3ad5f986e760"
            ],
            "layout": "IPY_MODEL_6e364c29a35a435282641636ca326b0d"
          }
        },
        "51a9399251ef41948042674a40e4e942": {
          "model_module": "@jupyter-widgets/base",
          "model_module_version": "1.2.0",
          "model_name": "LayoutModel",
          "state": {
            "_model_module": "@jupyter-widgets/base",
            "_model_module_version": "1.2.0",
            "_model_name": "LayoutModel",
            "_view_count": null,
            "_view_module": "@jupyter-widgets/base",
            "_view_module_version": "1.2.0",
            "_view_name": "LayoutView",
            "align_content": null,
            "align_items": null,
            "align_self": null,
            "border": null,
            "bottom": null,
            "display": null,
            "flex": null,
            "flex_flow": null,
            "grid_area": null,
            "grid_auto_columns": null,
            "grid_auto_flow": null,
            "grid_auto_rows": null,
            "grid_column": null,
            "grid_gap": null,
            "grid_row": null,
            "grid_template_areas": null,
            "grid_template_columns": null,
            "grid_template_rows": null,
            "height": null,
            "justify_content": null,
            "justify_items": null,
            "left": null,
            "margin": null,
            "max_height": null,
            "max_width": null,
            "min_height": null,
            "min_width": null,
            "object_fit": null,
            "object_position": null,
            "order": null,
            "overflow": null,
            "overflow_x": null,
            "overflow_y": null,
            "padding": null,
            "right": null,
            "top": null,
            "visibility": null,
            "width": null
          }
        },
        "520af3b93f3146a8b64591380d99691e": {
          "model_module": "@jupyter-widgets/controls",
          "model_module_version": "1.5.0",
          "model_name": "DescriptionStyleModel",
          "state": {
            "_model_module": "@jupyter-widgets/controls",
            "_model_module_version": "1.5.0",
            "_model_name": "DescriptionStyleModel",
            "_view_count": null,
            "_view_module": "@jupyter-widgets/base",
            "_view_module_version": "1.2.0",
            "_view_name": "StyleView",
            "description_width": ""
          }
        },
        "5446c1bc7d464ea0bb6dc8f92a38253b": {
          "model_module": "@jupyter-widgets/controls",
          "model_module_version": "1.5.0",
          "model_name": "DescriptionStyleModel",
          "state": {
            "_model_module": "@jupyter-widgets/controls",
            "_model_module_version": "1.5.0",
            "_model_name": "DescriptionStyleModel",
            "_view_count": null,
            "_view_module": "@jupyter-widgets/base",
            "_view_module_version": "1.2.0",
            "_view_name": "StyleView",
            "description_width": ""
          }
        },
        "54b6f46fb88e4bf78058ffb5e1b803ab": {
          "model_module": "@jupyter-widgets/controls",
          "model_module_version": "1.5.0",
          "model_name": "FloatProgressModel",
          "state": {
            "_dom_classes": [],
            "_model_module": "@jupyter-widgets/controls",
            "_model_module_version": "1.5.0",
            "_model_name": "FloatProgressModel",
            "_view_count": null,
            "_view_module": "@jupyter-widgets/controls",
            "_view_module_version": "1.5.0",
            "_view_name": "ProgressView",
            "bar_style": "success",
            "description": "",
            "description_tooltip": null,
            "layout": "IPY_MODEL_c2e08fe69f3445afa151d2fa64244986",
            "max": 20484569,
            "min": 0,
            "orientation": "horizontal",
            "style": "IPY_MODEL_8ffc91c613db4a4d8772e4915c93d1d9",
            "value": 20484569
          }
        },
        "56beabf3a91340e08bdfe5e810352acb": {
          "model_module": "@jupyter-widgets/base",
          "model_module_version": "1.2.0",
          "model_name": "LayoutModel",
          "state": {
            "_model_module": "@jupyter-widgets/base",
            "_model_module_version": "1.2.0",
            "_model_name": "LayoutModel",
            "_view_count": null,
            "_view_module": "@jupyter-widgets/base",
            "_view_module_version": "1.2.0",
            "_view_name": "LayoutView",
            "align_content": null,
            "align_items": null,
            "align_self": null,
            "border": null,
            "bottom": null,
            "display": null,
            "flex": null,
            "flex_flow": null,
            "grid_area": null,
            "grid_auto_columns": null,
            "grid_auto_flow": null,
            "grid_auto_rows": null,
            "grid_column": null,
            "grid_gap": null,
            "grid_row": null,
            "grid_template_areas": null,
            "grid_template_columns": null,
            "grid_template_rows": null,
            "height": null,
            "justify_content": null,
            "justify_items": null,
            "left": null,
            "margin": null,
            "max_height": null,
            "max_width": null,
            "min_height": null,
            "min_width": null,
            "object_fit": null,
            "object_position": null,
            "order": null,
            "overflow": null,
            "overflow_x": null,
            "overflow_y": null,
            "padding": null,
            "right": null,
            "top": null,
            "visibility": null,
            "width": null
          }
        },
        "57fdb1f0a63048878ccfab84ec0f06b6": {
          "model_module": "@jupyter-widgets/controls",
          "model_module_version": "1.5.0",
          "model_name": "HBoxModel",
          "state": {
            "_dom_classes": [],
            "_model_module": "@jupyter-widgets/controls",
            "_model_module_version": "1.5.0",
            "_model_name": "HBoxModel",
            "_view_count": null,
            "_view_module": "@jupyter-widgets/controls",
            "_view_module_version": "1.5.0",
            "_view_name": "HBoxView",
            "box_style": "",
            "children": [
              "IPY_MODEL_c120fc9482674c8fa280cb16758ed3a2",
              "IPY_MODEL_8ce484129c99419aa152aa6dcd5cd512",
              "IPY_MODEL_24b0175b0f7340ee99c42351eff0e764"
            ],
            "layout": "IPY_MODEL_22a452fe46ab4a17b51ffe2adad08a28"
          }
        },
        "5baec01167df4768a9746dd641d60d85": {
          "model_module": "@jupyter-widgets/controls",
          "model_module_version": "1.5.0",
          "model_name": "HBoxModel",
          "state": {
            "_dom_classes": [],
            "_model_module": "@jupyter-widgets/controls",
            "_model_module_version": "1.5.0",
            "_model_name": "HBoxModel",
            "_view_count": null,
            "_view_module": "@jupyter-widgets/controls",
            "_view_module_version": "1.5.0",
            "_view_name": "HBoxView",
            "box_style": "",
            "children": [
              "IPY_MODEL_f9163391469740a3b9a28c04aee62a10",
              "IPY_MODEL_e7d71828cdad4353838c7298954714d6",
              "IPY_MODEL_90b4fcc3eb2e4b02b7720388eee0fbf5"
            ],
            "layout": "IPY_MODEL_1f154fe9335d49048095e3ad097dc041"
          }
        },
        "6301c5c344ea4f13bd592ea226074a7b": {
          "model_module": "@jupyter-widgets/controls",
          "model_module_version": "1.5.0",
          "model_name": "HBoxModel",
          "state": {
            "_dom_classes": [],
            "_model_module": "@jupyter-widgets/controls",
            "_model_module_version": "1.5.0",
            "_model_name": "HBoxModel",
            "_view_count": null,
            "_view_module": "@jupyter-widgets/controls",
            "_view_module_version": "1.5.0",
            "_view_name": "HBoxView",
            "box_style": "",
            "children": [
              "IPY_MODEL_11b61b3ade4e46a8814f2bdaf56fa7da",
              "IPY_MODEL_1b989e848c8e4dfc96d2f0fccd85089b",
              "IPY_MODEL_81abee80760d4148a4164bc65210a5fe"
            ],
            "layout": "IPY_MODEL_985b2e9b6bbf4e748e00d259c3d0a25d"
          }
        },
        "632a9f0d52e440b98e340d2eb8aee8d2": {
          "model_module": "@jupyter-widgets/controls",
          "model_module_version": "1.5.0",
          "model_name": "ProgressStyleModel",
          "state": {
            "_model_module": "@jupyter-widgets/controls",
            "_model_module_version": "1.5.0",
            "_model_name": "ProgressStyleModel",
            "_view_count": null,
            "_view_module": "@jupyter-widgets/base",
            "_view_module_version": "1.2.0",
            "_view_name": "StyleView",
            "bar_color": null,
            "description_width": ""
          }
        },
        "650b05084beb475798135fcff1c809b4": {
          "model_module": "@jupyter-widgets/base",
          "model_module_version": "1.2.0",
          "model_name": "LayoutModel",
          "state": {
            "_model_module": "@jupyter-widgets/base",
            "_model_module_version": "1.2.0",
            "_model_name": "LayoutModel",
            "_view_count": null,
            "_view_module": "@jupyter-widgets/base",
            "_view_module_version": "1.2.0",
            "_view_name": "LayoutView",
            "align_content": null,
            "align_items": null,
            "align_self": null,
            "border": null,
            "bottom": null,
            "display": null,
            "flex": null,
            "flex_flow": null,
            "grid_area": null,
            "grid_auto_columns": null,
            "grid_auto_flow": null,
            "grid_auto_rows": null,
            "grid_column": null,
            "grid_gap": null,
            "grid_row": null,
            "grid_template_areas": null,
            "grid_template_columns": null,
            "grid_template_rows": null,
            "height": null,
            "justify_content": null,
            "justify_items": null,
            "left": null,
            "margin": null,
            "max_height": null,
            "max_width": null,
            "min_height": null,
            "min_width": null,
            "object_fit": null,
            "object_position": null,
            "order": null,
            "overflow": null,
            "overflow_x": null,
            "overflow_y": null,
            "padding": null,
            "right": null,
            "top": null,
            "visibility": null,
            "width": null
          }
        },
        "6e364c29a35a435282641636ca326b0d": {
          "model_module": "@jupyter-widgets/base",
          "model_module_version": "1.2.0",
          "model_name": "LayoutModel",
          "state": {
            "_model_module": "@jupyter-widgets/base",
            "_model_module_version": "1.2.0",
            "_model_name": "LayoutModel",
            "_view_count": null,
            "_view_module": "@jupyter-widgets/base",
            "_view_module_version": "1.2.0",
            "_view_name": "LayoutView",
            "align_content": null,
            "align_items": null,
            "align_self": null,
            "border": null,
            "bottom": null,
            "display": null,
            "flex": null,
            "flex_flow": null,
            "grid_area": null,
            "grid_auto_columns": null,
            "grid_auto_flow": null,
            "grid_auto_rows": null,
            "grid_column": null,
            "grid_gap": null,
            "grid_row": null,
            "grid_template_areas": null,
            "grid_template_columns": null,
            "grid_template_rows": null,
            "height": null,
            "justify_content": null,
            "justify_items": null,
            "left": null,
            "margin": null,
            "max_height": null,
            "max_width": null,
            "min_height": null,
            "min_width": null,
            "object_fit": null,
            "object_position": null,
            "order": null,
            "overflow": null,
            "overflow_x": null,
            "overflow_y": null,
            "padding": null,
            "right": null,
            "top": null,
            "visibility": null,
            "width": null
          }
        },
        "6ff875d0dbd146aebb2baf56ef3743f9": {
          "model_module": "@jupyter-widgets/controls",
          "model_module_version": "1.5.0",
          "model_name": "HBoxModel",
          "state": {
            "_dom_classes": [],
            "_model_module": "@jupyter-widgets/controls",
            "_model_module_version": "1.5.0",
            "_model_name": "HBoxModel",
            "_view_count": null,
            "_view_module": "@jupyter-widgets/controls",
            "_view_module_version": "1.5.0",
            "_view_name": "HBoxView",
            "box_style": "",
            "children": [
              "IPY_MODEL_8c8c810c7ee944cea7f2c8085adea572",
              "IPY_MODEL_f9a4a08a74334898b8bb87fbd09c9364",
              "IPY_MODEL_ca90af36b02147a29b84faa529376674"
            ],
            "layout": "IPY_MODEL_229acb77cc804f628d41eab447d31d51"
          }
        },
        "777bb2be288e4da7a0917df56336554b": {
          "model_module": "@jupyter-widgets/base",
          "model_module_version": "1.2.0",
          "model_name": "LayoutModel",
          "state": {
            "_model_module": "@jupyter-widgets/base",
            "_model_module_version": "1.2.0",
            "_model_name": "LayoutModel",
            "_view_count": null,
            "_view_module": "@jupyter-widgets/base",
            "_view_module_version": "1.2.0",
            "_view_name": "LayoutView",
            "align_content": null,
            "align_items": null,
            "align_self": null,
            "border": null,
            "bottom": null,
            "display": null,
            "flex": null,
            "flex_flow": null,
            "grid_area": null,
            "grid_auto_columns": null,
            "grid_auto_flow": null,
            "grid_auto_rows": null,
            "grid_column": null,
            "grid_gap": null,
            "grid_row": null,
            "grid_template_areas": null,
            "grid_template_columns": null,
            "grid_template_rows": null,
            "height": null,
            "justify_content": null,
            "justify_items": null,
            "left": null,
            "margin": null,
            "max_height": null,
            "max_width": null,
            "min_height": null,
            "min_width": null,
            "object_fit": null,
            "object_position": null,
            "order": null,
            "overflow": null,
            "overflow_x": null,
            "overflow_y": null,
            "padding": null,
            "right": null,
            "top": null,
            "visibility": null,
            "width": null
          }
        },
        "7c8b061aa3bd4ddc8074ae6762f7cb1d": {
          "model_module": "@jupyter-widgets/base",
          "model_module_version": "1.2.0",
          "model_name": "LayoutModel",
          "state": {
            "_model_module": "@jupyter-widgets/base",
            "_model_module_version": "1.2.0",
            "_model_name": "LayoutModel",
            "_view_count": null,
            "_view_module": "@jupyter-widgets/base",
            "_view_module_version": "1.2.0",
            "_view_name": "LayoutView",
            "align_content": null,
            "align_items": null,
            "align_self": null,
            "border": null,
            "bottom": null,
            "display": null,
            "flex": null,
            "flex_flow": null,
            "grid_area": null,
            "grid_auto_columns": null,
            "grid_auto_flow": null,
            "grid_auto_rows": null,
            "grid_column": null,
            "grid_gap": null,
            "grid_row": null,
            "grid_template_areas": null,
            "grid_template_columns": null,
            "grid_template_rows": null,
            "height": null,
            "justify_content": null,
            "justify_items": null,
            "left": null,
            "margin": null,
            "max_height": null,
            "max_width": null,
            "min_height": null,
            "min_width": null,
            "object_fit": null,
            "object_position": null,
            "order": null,
            "overflow": null,
            "overflow_x": null,
            "overflow_y": null,
            "padding": null,
            "right": null,
            "top": null,
            "visibility": null,
            "width": null
          }
        },
        "7c938b4df78f448ba0c0169c3f3985ed": {
          "model_module": "@jupyter-widgets/controls",
          "model_module_version": "1.5.0",
          "model_name": "DescriptionStyleModel",
          "state": {
            "_model_module": "@jupyter-widgets/controls",
            "_model_module_version": "1.5.0",
            "_model_name": "DescriptionStyleModel",
            "_view_count": null,
            "_view_module": "@jupyter-widgets/base",
            "_view_module_version": "1.2.0",
            "_view_name": "StyleView",
            "description_width": ""
          }
        },
        "7cef35b840374d1db7c53e9555a64109": {
          "model_module": "@jupyter-widgets/base",
          "model_module_version": "1.2.0",
          "model_name": "LayoutModel",
          "state": {
            "_model_module": "@jupyter-widgets/base",
            "_model_module_version": "1.2.0",
            "_model_name": "LayoutModel",
            "_view_count": null,
            "_view_module": "@jupyter-widgets/base",
            "_view_module_version": "1.2.0",
            "_view_name": "LayoutView",
            "align_content": null,
            "align_items": null,
            "align_self": null,
            "border": null,
            "bottom": null,
            "display": null,
            "flex": null,
            "flex_flow": null,
            "grid_area": null,
            "grid_auto_columns": null,
            "grid_auto_flow": null,
            "grid_auto_rows": null,
            "grid_column": null,
            "grid_gap": null,
            "grid_row": null,
            "grid_template_areas": null,
            "grid_template_columns": null,
            "grid_template_rows": null,
            "height": null,
            "justify_content": null,
            "justify_items": null,
            "left": null,
            "margin": null,
            "max_height": null,
            "max_width": null,
            "min_height": null,
            "min_width": null,
            "object_fit": null,
            "object_position": null,
            "order": null,
            "overflow": null,
            "overflow_x": null,
            "overflow_y": null,
            "padding": null,
            "right": null,
            "top": null,
            "visibility": null,
            "width": null
          }
        },
        "81abee80760d4148a4164bc65210a5fe": {
          "model_module": "@jupyter-widgets/controls",
          "model_module_version": "1.5.0",
          "model_name": "HTMLModel",
          "state": {
            "_dom_classes": [],
            "_model_module": "@jupyter-widgets/controls",
            "_model_module_version": "1.5.0",
            "_model_name": "HTMLModel",
            "_view_count": null,
            "_view_module": "@jupyter-widgets/controls",
            "_view_module_version": "1.5.0",
            "_view_name": "HTMLView",
            "description": "",
            "description_tooltip": null,
            "layout": "IPY_MODEL_a04acab432ea4b6395c136d2802a45af",
            "placeholder": "​",
            "style": "IPY_MODEL_1e2daf9a2aaa4b8eb17e4117109338ed",
            "value": " 82326/82326 [00:02&lt;00:00, 40288.85 examples/s]"
          }
        },
        "8c8c810c7ee944cea7f2c8085adea572": {
          "model_module": "@jupyter-widgets/controls",
          "model_module_version": "1.5.0",
          "model_name": "HTMLModel",
          "state": {
            "_dom_classes": [],
            "_model_module": "@jupyter-widgets/controls",
            "_model_module_version": "1.5.0",
            "_model_name": "HTMLModel",
            "_view_count": null,
            "_view_module": "@jupyter-widgets/controls",
            "_view_module_version": "1.5.0",
            "_view_name": "HTMLView",
            "description": "",
            "description_tooltip": null,
            "layout": "IPY_MODEL_c1ca4e4f77864c1fb5eefcc3ac4acfdb",
            "placeholder": "​",
            "style": "IPY_MODEL_cdf7cd4471cc4eea98f5bc757da16dbb",
            "value": "Generating validation split: 100%"
          }
        },
        "8ce484129c99419aa152aa6dcd5cd512": {
          "model_module": "@jupyter-widgets/controls",
          "model_module_version": "1.5.0",
          "model_name": "FloatProgressModel",
          "state": {
            "_dom_classes": [],
            "_model_module": "@jupyter-widgets/controls",
            "_model_module_version": "1.5.0",
            "_model_name": "FloatProgressModel",
            "_view_count": null,
            "_view_module": "@jupyter-widgets/controls",
            "_view_module_version": "1.5.0",
            "_view_name": "ProgressView",
            "bar_style": "success",
            "description": "",
            "description_tooltip": null,
            "layout": "IPY_MODEL_f3c6348062064d6b95244ed1f5d1008c",
            "max": 175452226,
            "min": 0,
            "orientation": "horizontal",
            "style": "IPY_MODEL_a4d29b5f12324f769269227e11894835",
            "value": 175452226
          }
        },
        "8ffc91c613db4a4d8772e4915c93d1d9": {
          "model_module": "@jupyter-widgets/controls",
          "model_module_version": "1.5.0",
          "model_name": "ProgressStyleModel",
          "state": {
            "_model_module": "@jupyter-widgets/controls",
            "_model_module_version": "1.5.0",
            "_model_name": "ProgressStyleModel",
            "_view_count": null,
            "_view_module": "@jupyter-widgets/base",
            "_view_module_version": "1.2.0",
            "_view_name": "StyleView",
            "bar_color": null,
            "description_width": ""
          }
        },
        "90b4fcc3eb2e4b02b7720388eee0fbf5": {
          "model_module": "@jupyter-widgets/controls",
          "model_module_version": "1.5.0",
          "model_name": "HTMLModel",
          "state": {
            "_dom_classes": [],
            "_model_module": "@jupyter-widgets/controls",
            "_model_module_version": "1.5.0",
            "_model_name": "HTMLModel",
            "_view_count": null,
            "_view_module": "@jupyter-widgets/controls",
            "_view_module_version": "1.5.0",
            "_view_name": "HTMLView",
            "description": "",
            "description_tooltip": null,
            "layout": "IPY_MODEL_7c8b061aa3bd4ddc8074ae6762f7cb1d",
            "placeholder": "​",
            "style": "IPY_MODEL_5446c1bc7d464ea0bb6dc8f92a38253b",
            "value": " 9650/9650 [00:00&lt;00:00, 37233.44 examples/s]"
          }
        },
        "932e9dc1aa6c4e29b5227dc621fe45ae": {
          "model_module": "@jupyter-widgets/controls",
          "model_module_version": "1.5.0",
          "model_name": "HTMLModel",
          "state": {
            "_dom_classes": [],
            "_model_module": "@jupyter-widgets/controls",
            "_model_module_version": "1.5.0",
            "_model_name": "HTMLModel",
            "_view_count": null,
            "_view_module": "@jupyter-widgets/controls",
            "_view_module_version": "1.5.0",
            "_view_name": "HTMLView",
            "description": "",
            "description_tooltip": null,
            "layout": "IPY_MODEL_2540892046e74849acbcdc2fda643a48",
            "placeholder": "​",
            "style": "IPY_MODEL_d7a69ddf5dc0493ca2222754acf11f45",
            "value": " 21.4M/21.4M [00:00&lt;00:00, 32.3MB/s]"
          }
        },
        "985b2e9b6bbf4e748e00d259c3d0a25d": {
          "model_module": "@jupyter-widgets/base",
          "model_module_version": "1.2.0",
          "model_name": "LayoutModel",
          "state": {
            "_model_module": "@jupyter-widgets/base",
            "_model_module_version": "1.2.0",
            "_model_name": "LayoutModel",
            "_view_count": null,
            "_view_module": "@jupyter-widgets/base",
            "_view_module_version": "1.2.0",
            "_view_name": "LayoutView",
            "align_content": null,
            "align_items": null,
            "align_self": null,
            "border": null,
            "bottom": null,
            "display": null,
            "flex": null,
            "flex_flow": null,
            "grid_area": null,
            "grid_auto_columns": null,
            "grid_auto_flow": null,
            "grid_auto_rows": null,
            "grid_column": null,
            "grid_gap": null,
            "grid_row": null,
            "grid_template_areas": null,
            "grid_template_columns": null,
            "grid_template_rows": null,
            "height": null,
            "justify_content": null,
            "justify_items": null,
            "left": null,
            "margin": null,
            "max_height": null,
            "max_width": null,
            "min_height": null,
            "min_width": null,
            "object_fit": null,
            "object_position": null,
            "order": null,
            "overflow": null,
            "overflow_x": null,
            "overflow_y": null,
            "padding": null,
            "right": null,
            "top": null,
            "visibility": null,
            "width": null
          }
        },
        "9a712ec5fbc44ad7ab44433bd6e698c3": {
          "model_module": "@jupyter-widgets/base",
          "model_module_version": "1.2.0",
          "model_name": "LayoutModel",
          "state": {
            "_model_module": "@jupyter-widgets/base",
            "_model_module_version": "1.2.0",
            "_model_name": "LayoutModel",
            "_view_count": null,
            "_view_module": "@jupyter-widgets/base",
            "_view_module_version": "1.2.0",
            "_view_name": "LayoutView",
            "align_content": null,
            "align_items": null,
            "align_self": null,
            "border": null,
            "bottom": null,
            "display": null,
            "flex": null,
            "flex_flow": null,
            "grid_area": null,
            "grid_auto_columns": null,
            "grid_auto_flow": null,
            "grid_auto_rows": null,
            "grid_column": null,
            "grid_gap": null,
            "grid_row": null,
            "grid_template_areas": null,
            "grid_template_columns": null,
            "grid_template_rows": null,
            "height": null,
            "justify_content": null,
            "justify_items": null,
            "left": null,
            "margin": null,
            "max_height": null,
            "max_width": null,
            "min_height": null,
            "min_width": null,
            "object_fit": null,
            "object_position": null,
            "order": null,
            "overflow": null,
            "overflow_x": null,
            "overflow_y": null,
            "padding": null,
            "right": null,
            "top": null,
            "visibility": null,
            "width": null
          }
        },
        "9da32bf2334d407d87a1d703bbcc9d08": {
          "model_module": "@jupyter-widgets/controls",
          "model_module_version": "1.5.0",
          "model_name": "DescriptionStyleModel",
          "state": {
            "_model_module": "@jupyter-widgets/controls",
            "_model_module_version": "1.5.0",
            "_model_name": "DescriptionStyleModel",
            "_view_count": null,
            "_view_module": "@jupyter-widgets/base",
            "_view_module_version": "1.2.0",
            "_view_name": "StyleView",
            "description_width": ""
          }
        },
        "a04acab432ea4b6395c136d2802a45af": {
          "model_module": "@jupyter-widgets/base",
          "model_module_version": "1.2.0",
          "model_name": "LayoutModel",
          "state": {
            "_model_module": "@jupyter-widgets/base",
            "_model_module_version": "1.2.0",
            "_model_name": "LayoutModel",
            "_view_count": null,
            "_view_module": "@jupyter-widgets/base",
            "_view_module_version": "1.2.0",
            "_view_name": "LayoutView",
            "align_content": null,
            "align_items": null,
            "align_self": null,
            "border": null,
            "bottom": null,
            "display": null,
            "flex": null,
            "flex_flow": null,
            "grid_area": null,
            "grid_auto_columns": null,
            "grid_auto_flow": null,
            "grid_auto_rows": null,
            "grid_column": null,
            "grid_gap": null,
            "grid_row": null,
            "grid_template_areas": null,
            "grid_template_columns": null,
            "grid_template_rows": null,
            "height": null,
            "justify_content": null,
            "justify_items": null,
            "left": null,
            "margin": null,
            "max_height": null,
            "max_width": null,
            "min_height": null,
            "min_width": null,
            "object_fit": null,
            "object_position": null,
            "order": null,
            "overflow": null,
            "overflow_x": null,
            "overflow_y": null,
            "padding": null,
            "right": null,
            "top": null,
            "visibility": null,
            "width": null
          }
        },
        "a4d29b5f12324f769269227e11894835": {
          "model_module": "@jupyter-widgets/controls",
          "model_module_version": "1.5.0",
          "model_name": "ProgressStyleModel",
          "state": {
            "_model_module": "@jupyter-widgets/controls",
            "_model_module_version": "1.5.0",
            "_model_name": "ProgressStyleModel",
            "_view_count": null,
            "_view_module": "@jupyter-widgets/base",
            "_view_module_version": "1.2.0",
            "_view_name": "StyleView",
            "bar_color": null,
            "description_width": ""
          }
        },
        "b55bfac02f314157b50bedb4b2617c87": {
          "model_module": "@jupyter-widgets/controls",
          "model_module_version": "1.5.0",
          "model_name": "HTMLModel",
          "state": {
            "_dom_classes": [],
            "_model_module": "@jupyter-widgets/controls",
            "_model_module_version": "1.5.0",
            "_model_name": "HTMLModel",
            "_view_count": null,
            "_view_module": "@jupyter-widgets/controls",
            "_view_module_version": "1.5.0",
            "_view_name": "HTMLView",
            "description": "",
            "description_tooltip": null,
            "layout": "IPY_MODEL_08a81b84d6d745e09c469b1a917252aa",
            "placeholder": "​",
            "style": "IPY_MODEL_e23de89b3d71454fbaec44879e3a12e6",
            "value": " 20.5M/20.5M [00:01&lt;00:00, 22.9MB/s]"
          }
        },
        "c120fc9482674c8fa280cb16758ed3a2": {
          "model_module": "@jupyter-widgets/controls",
          "model_module_version": "1.5.0",
          "model_name": "HTMLModel",
          "state": {
            "_dom_classes": [],
            "_model_module": "@jupyter-widgets/controls",
            "_model_module_version": "1.5.0",
            "_model_name": "HTMLModel",
            "_view_count": null,
            "_view_module": "@jupyter-widgets/controls",
            "_view_module_version": "1.5.0",
            "_view_name": "HTMLView",
            "description": "",
            "description_tooltip": null,
            "layout": "IPY_MODEL_024399a2e4304762a08c1f9c515bdeb5",
            "placeholder": "​",
            "style": "IPY_MODEL_fe499df3a38142eb83a1056785010bfb",
            "value": "Downloading data: 100%"
          }
        },
        "c1ca4e4f77864c1fb5eefcc3ac4acfdb": {
          "model_module": "@jupyter-widgets/base",
          "model_module_version": "1.2.0",
          "model_name": "LayoutModel",
          "state": {
            "_model_module": "@jupyter-widgets/base",
            "_model_module_version": "1.2.0",
            "_model_name": "LayoutModel",
            "_view_count": null,
            "_view_module": "@jupyter-widgets/base",
            "_view_module_version": "1.2.0",
            "_view_name": "LayoutView",
            "align_content": null,
            "align_items": null,
            "align_self": null,
            "border": null,
            "bottom": null,
            "display": null,
            "flex": null,
            "flex_flow": null,
            "grid_area": null,
            "grid_auto_columns": null,
            "grid_auto_flow": null,
            "grid_auto_rows": null,
            "grid_column": null,
            "grid_gap": null,
            "grid_row": null,
            "grid_template_areas": null,
            "grid_template_columns": null,
            "grid_template_rows": null,
            "height": null,
            "justify_content": null,
            "justify_items": null,
            "left": null,
            "margin": null,
            "max_height": null,
            "max_width": null,
            "min_height": null,
            "min_width": null,
            "object_fit": null,
            "object_position": null,
            "order": null,
            "overflow": null,
            "overflow_x": null,
            "overflow_y": null,
            "padding": null,
            "right": null,
            "top": null,
            "visibility": null,
            "width": null
          }
        },
        "c2e08fe69f3445afa151d2fa64244986": {
          "model_module": "@jupyter-widgets/base",
          "model_module_version": "1.2.0",
          "model_name": "LayoutModel",
          "state": {
            "_model_module": "@jupyter-widgets/base",
            "_model_module_version": "1.2.0",
            "_model_name": "LayoutModel",
            "_view_count": null,
            "_view_module": "@jupyter-widgets/base",
            "_view_module_version": "1.2.0",
            "_view_name": "LayoutView",
            "align_content": null,
            "align_items": null,
            "align_self": null,
            "border": null,
            "bottom": null,
            "display": null,
            "flex": null,
            "flex_flow": null,
            "grid_area": null,
            "grid_auto_columns": null,
            "grid_auto_flow": null,
            "grid_auto_rows": null,
            "grid_column": null,
            "grid_gap": null,
            "grid_row": null,
            "grid_template_areas": null,
            "grid_template_columns": null,
            "grid_template_rows": null,
            "height": null,
            "justify_content": null,
            "justify_items": null,
            "left": null,
            "margin": null,
            "max_height": null,
            "max_width": null,
            "min_height": null,
            "min_width": null,
            "object_fit": null,
            "object_position": null,
            "order": null,
            "overflow": null,
            "overflow_x": null,
            "overflow_y": null,
            "padding": null,
            "right": null,
            "top": null,
            "visibility": null,
            "width": null
          }
        },
        "c3149d6212534a0488d1769d22bbad08": {
          "model_module": "@jupyter-widgets/base",
          "model_module_version": "1.2.0",
          "model_name": "LayoutModel",
          "state": {
            "_model_module": "@jupyter-widgets/base",
            "_model_module_version": "1.2.0",
            "_model_name": "LayoutModel",
            "_view_count": null,
            "_view_module": "@jupyter-widgets/base",
            "_view_module_version": "1.2.0",
            "_view_name": "LayoutView",
            "align_content": null,
            "align_items": null,
            "align_self": null,
            "border": null,
            "bottom": null,
            "display": null,
            "flex": null,
            "flex_flow": null,
            "grid_area": null,
            "grid_auto_columns": null,
            "grid_auto_flow": null,
            "grid_auto_rows": null,
            "grid_column": null,
            "grid_gap": null,
            "grid_row": null,
            "grid_template_areas": null,
            "grid_template_columns": null,
            "grid_template_rows": null,
            "height": null,
            "justify_content": null,
            "justify_items": null,
            "left": null,
            "margin": null,
            "max_height": null,
            "max_width": null,
            "min_height": null,
            "min_width": null,
            "object_fit": null,
            "object_position": null,
            "order": null,
            "overflow": null,
            "overflow_x": null,
            "overflow_y": null,
            "padding": null,
            "right": null,
            "top": null,
            "visibility": null,
            "width": null
          }
        },
        "c5262217af78493cb0e76ac7db61fe5e": {
          "model_module": "@jupyter-widgets/base",
          "model_module_version": "1.2.0",
          "model_name": "LayoutModel",
          "state": {
            "_model_module": "@jupyter-widgets/base",
            "_model_module_version": "1.2.0",
            "_model_name": "LayoutModel",
            "_view_count": null,
            "_view_module": "@jupyter-widgets/base",
            "_view_module_version": "1.2.0",
            "_view_name": "LayoutView",
            "align_content": null,
            "align_items": null,
            "align_self": null,
            "border": null,
            "bottom": null,
            "display": null,
            "flex": null,
            "flex_flow": null,
            "grid_area": null,
            "grid_auto_columns": null,
            "grid_auto_flow": null,
            "grid_auto_rows": null,
            "grid_column": null,
            "grid_gap": null,
            "grid_row": null,
            "grid_template_areas": null,
            "grid_template_columns": null,
            "grid_template_rows": null,
            "height": null,
            "justify_content": null,
            "justify_items": null,
            "left": null,
            "margin": null,
            "max_height": null,
            "max_width": null,
            "min_height": null,
            "min_width": null,
            "object_fit": null,
            "object_position": null,
            "order": null,
            "overflow": null,
            "overflow_x": null,
            "overflow_y": null,
            "padding": null,
            "right": null,
            "top": null,
            "visibility": null,
            "width": null
          }
        },
        "c5d2e5b99fb64b4d8057ecf90cff416c": {
          "model_module": "@jupyter-widgets/controls",
          "model_module_version": "1.5.0",
          "model_name": "ProgressStyleModel",
          "state": {
            "_model_module": "@jupyter-widgets/controls",
            "_model_module_version": "1.5.0",
            "_model_name": "ProgressStyleModel",
            "_view_count": null,
            "_view_module": "@jupyter-widgets/base",
            "_view_module_version": "1.2.0",
            "_view_name": "StyleView",
            "bar_color": null,
            "description_width": ""
          }
        },
        "ca90af36b02147a29b84faa529376674": {
          "model_module": "@jupyter-widgets/controls",
          "model_module_version": "1.5.0",
          "model_name": "HTMLModel",
          "state": {
            "_dom_classes": [],
            "_model_module": "@jupyter-widgets/controls",
            "_model_module_version": "1.5.0",
            "_model_name": "HTMLModel",
            "_view_count": null,
            "_view_module": "@jupyter-widgets/controls",
            "_view_module_version": "1.5.0",
            "_view_name": "HTMLView",
            "description": "",
            "description_tooltip": null,
            "layout": "IPY_MODEL_c3149d6212534a0488d1769d22bbad08",
            "placeholder": "​",
            "style": "IPY_MODEL_520af3b93f3146a8b64591380d99691e",
            "value": " 10047/10047 [00:00&lt;00:00, 33903.21 examples/s]"
          }
        },
        "cc4375921cbe43a38932c1103ab9ace5": {
          "model_module": "@jupyter-widgets/base",
          "model_module_version": "1.2.0",
          "model_name": "LayoutModel",
          "state": {
            "_model_module": "@jupyter-widgets/base",
            "_model_module_version": "1.2.0",
            "_model_name": "LayoutModel",
            "_view_count": null,
            "_view_module": "@jupyter-widgets/base",
            "_view_module_version": "1.2.0",
            "_view_name": "LayoutView",
            "align_content": null,
            "align_items": null,
            "align_self": null,
            "border": null,
            "bottom": null,
            "display": null,
            "flex": null,
            "flex_flow": null,
            "grid_area": null,
            "grid_auto_columns": null,
            "grid_auto_flow": null,
            "grid_auto_rows": null,
            "grid_column": null,
            "grid_gap": null,
            "grid_row": null,
            "grid_template_areas": null,
            "grid_template_columns": null,
            "grid_template_rows": null,
            "height": null,
            "justify_content": null,
            "justify_items": null,
            "left": null,
            "margin": null,
            "max_height": null,
            "max_width": null,
            "min_height": null,
            "min_width": null,
            "object_fit": null,
            "object_position": null,
            "order": null,
            "overflow": null,
            "overflow_x": null,
            "overflow_y": null,
            "padding": null,
            "right": null,
            "top": null,
            "visibility": null,
            "width": null
          }
        },
        "cdf7cd4471cc4eea98f5bc757da16dbb": {
          "model_module": "@jupyter-widgets/controls",
          "model_module_version": "1.5.0",
          "model_name": "DescriptionStyleModel",
          "state": {
            "_model_module": "@jupyter-widgets/controls",
            "_model_module_version": "1.5.0",
            "_model_name": "DescriptionStyleModel",
            "_view_count": null,
            "_view_module": "@jupyter-widgets/base",
            "_view_module_version": "1.2.0",
            "_view_name": "StyleView",
            "description_width": ""
          }
        },
        "cfb4e1e36fa04450b6242f3f6465cb00": {
          "model_module": "@jupyter-widgets/controls",
          "model_module_version": "1.5.0",
          "model_name": "DescriptionStyleModel",
          "state": {
            "_model_module": "@jupyter-widgets/controls",
            "_model_module_version": "1.5.0",
            "_model_name": "DescriptionStyleModel",
            "_view_count": null,
            "_view_module": "@jupyter-widgets/base",
            "_view_module_version": "1.2.0",
            "_view_name": "StyleView",
            "description_width": ""
          }
        },
        "d3851850f6904890bb14dca3caedb3ad": {
          "model_module": "@jupyter-widgets/base",
          "model_module_version": "1.2.0",
          "model_name": "LayoutModel",
          "state": {
            "_model_module": "@jupyter-widgets/base",
            "_model_module_version": "1.2.0",
            "_model_name": "LayoutModel",
            "_view_count": null,
            "_view_module": "@jupyter-widgets/base",
            "_view_module_version": "1.2.0",
            "_view_name": "LayoutView",
            "align_content": null,
            "align_items": null,
            "align_self": null,
            "border": null,
            "bottom": null,
            "display": null,
            "flex": null,
            "flex_flow": null,
            "grid_area": null,
            "grid_auto_columns": null,
            "grid_auto_flow": null,
            "grid_auto_rows": null,
            "grid_column": null,
            "grid_gap": null,
            "grid_row": null,
            "grid_template_areas": null,
            "grid_template_columns": null,
            "grid_template_rows": null,
            "height": null,
            "justify_content": null,
            "justify_items": null,
            "left": null,
            "margin": null,
            "max_height": null,
            "max_width": null,
            "min_height": null,
            "min_width": null,
            "object_fit": null,
            "object_position": null,
            "order": null,
            "overflow": null,
            "overflow_x": null,
            "overflow_y": null,
            "padding": null,
            "right": null,
            "top": null,
            "visibility": null,
            "width": null
          }
        },
        "d7a69ddf5dc0493ca2222754acf11f45": {
          "model_module": "@jupyter-widgets/controls",
          "model_module_version": "1.5.0",
          "model_name": "DescriptionStyleModel",
          "state": {
            "_model_module": "@jupyter-widgets/controls",
            "_model_module_version": "1.5.0",
            "_model_name": "DescriptionStyleModel",
            "_view_count": null,
            "_view_module": "@jupyter-widgets/base",
            "_view_module_version": "1.2.0",
            "_view_name": "StyleView",
            "description_width": ""
          }
        },
        "ddf528146aaf42b781a3c0ead5070867": {
          "model_module": "@jupyter-widgets/controls",
          "model_module_version": "1.5.0",
          "model_name": "DescriptionStyleModel",
          "state": {
            "_model_module": "@jupyter-widgets/controls",
            "_model_module_version": "1.5.0",
            "_model_name": "DescriptionStyleModel",
            "_view_count": null,
            "_view_module": "@jupyter-widgets/base",
            "_view_module_version": "1.2.0",
            "_view_name": "StyleView",
            "description_width": ""
          }
        },
        "de252f926eee48328a465968d5c0e0a7": {
          "model_module": "@jupyter-widgets/controls",
          "model_module_version": "1.5.0",
          "model_name": "HTMLModel",
          "state": {
            "_dom_classes": [],
            "_model_module": "@jupyter-widgets/controls",
            "_model_module_version": "1.5.0",
            "_model_name": "HTMLModel",
            "_view_count": null,
            "_view_module": "@jupyter-widgets/controls",
            "_view_module_version": "1.5.0",
            "_view_name": "HTMLView",
            "description": "",
            "description_tooltip": null,
            "layout": "IPY_MODEL_d3851850f6904890bb14dca3caedb3ad",
            "placeholder": "​",
            "style": "IPY_MODEL_cfb4e1e36fa04450b6242f3f6465cb00",
            "value": "Downloading data: 100%"
          }
        },
        "e23de89b3d71454fbaec44879e3a12e6": {
          "model_module": "@jupyter-widgets/controls",
          "model_module_version": "1.5.0",
          "model_name": "DescriptionStyleModel",
          "state": {
            "_model_module": "@jupyter-widgets/controls",
            "_model_module_version": "1.5.0",
            "_model_name": "DescriptionStyleModel",
            "_view_count": null,
            "_view_module": "@jupyter-widgets/base",
            "_view_module_version": "1.2.0",
            "_view_name": "StyleView",
            "description_width": ""
          }
        },
        "e62a5b2e3f7e4debb282672d26bb03c4": {
          "model_module": "@jupyter-widgets/controls",
          "model_module_version": "1.5.0",
          "model_name": "HTMLModel",
          "state": {
            "_dom_classes": [],
            "_model_module": "@jupyter-widgets/controls",
            "_model_module_version": "1.5.0",
            "_model_name": "HTMLModel",
            "_view_count": null,
            "_view_module": "@jupyter-widgets/controls",
            "_view_module_version": "1.5.0",
            "_view_name": "HTMLView",
            "description": "",
            "description_tooltip": null,
            "layout": "IPY_MODEL_cc4375921cbe43a38932c1103ab9ace5",
            "placeholder": "​",
            "style": "IPY_MODEL_7c938b4df78f448ba0c0169c3f3985ed",
            "value": "Downloading readme: 100%"
          }
        },
        "e7d71828cdad4353838c7298954714d6": {
          "model_module": "@jupyter-widgets/controls",
          "model_module_version": "1.5.0",
          "model_name": "FloatProgressModel",
          "state": {
            "_dom_classes": [],
            "_model_module": "@jupyter-widgets/controls",
            "_model_module_version": "1.5.0",
            "_model_name": "FloatProgressModel",
            "_view_count": null,
            "_view_module": "@jupyter-widgets/controls",
            "_view_module_version": "1.5.0",
            "_view_name": "ProgressView",
            "bar_style": "success",
            "description": "",
            "description_tooltip": null,
            "layout": "IPY_MODEL_01d39fc474144df49021e576c80aaa6f",
            "max": 9650,
            "min": 0,
            "orientation": "horizontal",
            "style": "IPY_MODEL_632a9f0d52e440b98e340d2eb8aee8d2",
            "value": 9650
          }
        },
        "eb14083b5c464ce3b200d3623a304cfb": {
          "model_module": "@jupyter-widgets/base",
          "model_module_version": "1.2.0",
          "model_name": "LayoutModel",
          "state": {
            "_model_module": "@jupyter-widgets/base",
            "_model_module_version": "1.2.0",
            "_model_name": "LayoutModel",
            "_view_count": null,
            "_view_module": "@jupyter-widgets/base",
            "_view_module_version": "1.2.0",
            "_view_name": "LayoutView",
            "align_content": null,
            "align_items": null,
            "align_self": null,
            "border": null,
            "bottom": null,
            "display": null,
            "flex": null,
            "flex_flow": null,
            "grid_area": null,
            "grid_auto_columns": null,
            "grid_auto_flow": null,
            "grid_auto_rows": null,
            "grid_column": null,
            "grid_gap": null,
            "grid_row": null,
            "grid_template_areas": null,
            "grid_template_columns": null,
            "grid_template_rows": null,
            "height": null,
            "justify_content": null,
            "justify_items": null,
            "left": null,
            "margin": null,
            "max_height": null,
            "max_width": null,
            "min_height": null,
            "min_width": null,
            "object_fit": null,
            "object_position": null,
            "order": null,
            "overflow": null,
            "overflow_x": null,
            "overflow_y": null,
            "padding": null,
            "right": null,
            "top": null,
            "visibility": null,
            "width": null
          }
        },
        "f10853822c3546a5b59d761673279b89": {
          "model_module": "@jupyter-widgets/controls",
          "model_module_version": "1.5.0",
          "model_name": "HBoxModel",
          "state": {
            "_dom_classes": [],
            "_model_module": "@jupyter-widgets/controls",
            "_model_module_version": "1.5.0",
            "_model_name": "HBoxModel",
            "_view_count": null,
            "_view_module": "@jupyter-widgets/controls",
            "_view_module_version": "1.5.0",
            "_view_name": "HBoxView",
            "box_style": "",
            "children": [
              "IPY_MODEL_11b32e1956ae4a5f868081f28c88f14f",
              "IPY_MODEL_3f6fe4b42fdc4ba78fade51607667bcb",
              "IPY_MODEL_932e9dc1aa6c4e29b5227dc621fe45ae"
            ],
            "layout": "IPY_MODEL_7cef35b840374d1db7c53e9555a64109"
          }
        },
        "f3c6348062064d6b95244ed1f5d1008c": {
          "model_module": "@jupyter-widgets/base",
          "model_module_version": "1.2.0",
          "model_name": "LayoutModel",
          "state": {
            "_model_module": "@jupyter-widgets/base",
            "_model_module_version": "1.2.0",
            "_model_name": "LayoutModel",
            "_view_count": null,
            "_view_module": "@jupyter-widgets/base",
            "_view_module_version": "1.2.0",
            "_view_name": "LayoutView",
            "align_content": null,
            "align_items": null,
            "align_self": null,
            "border": null,
            "bottom": null,
            "display": null,
            "flex": null,
            "flex_flow": null,
            "grid_area": null,
            "grid_auto_columns": null,
            "grid_auto_flow": null,
            "grid_auto_rows": null,
            "grid_column": null,
            "grid_gap": null,
            "grid_row": null,
            "grid_template_areas": null,
            "grid_template_columns": null,
            "grid_template_rows": null,
            "height": null,
            "justify_content": null,
            "justify_items": null,
            "left": null,
            "margin": null,
            "max_height": null,
            "max_width": null,
            "min_height": null,
            "min_width": null,
            "object_fit": null,
            "object_position": null,
            "order": null,
            "overflow": null,
            "overflow_x": null,
            "overflow_y": null,
            "padding": null,
            "right": null,
            "top": null,
            "visibility": null,
            "width": null
          }
        },
        "f3f498bbb8df4e66b9dd3ad5f986e760": {
          "model_module": "@jupyter-widgets/controls",
          "model_module_version": "1.5.0",
          "model_name": "HTMLModel",
          "state": {
            "_dom_classes": [],
            "_model_module": "@jupyter-widgets/controls",
            "_model_module_version": "1.5.0",
            "_model_name": "HTMLModel",
            "_view_count": null,
            "_view_module": "@jupyter-widgets/controls",
            "_view_module_version": "1.5.0",
            "_view_name": "HTMLView",
            "description": "",
            "description_tooltip": null,
            "layout": "IPY_MODEL_51a9399251ef41948042674a40e4e942",
            "placeholder": "​",
            "style": "IPY_MODEL_9da32bf2334d407d87a1d703bbcc9d08",
            "value": " 9.48k/9.48k [00:00&lt;00:00, 382kB/s]"
          }
        },
        "f9163391469740a3b9a28c04aee62a10": {
          "model_module": "@jupyter-widgets/controls",
          "model_module_version": "1.5.0",
          "model_name": "HTMLModel",
          "state": {
            "_dom_classes": [],
            "_model_module": "@jupyter-widgets/controls",
            "_model_module_version": "1.5.0",
            "_model_name": "HTMLModel",
            "_view_count": null,
            "_view_module": "@jupyter-widgets/controls",
            "_view_module_version": "1.5.0",
            "_view_name": "HTMLView",
            "description": "",
            "description_tooltip": null,
            "layout": "IPY_MODEL_c5262217af78493cb0e76ac7db61fe5e",
            "placeholder": "​",
            "style": "IPY_MODEL_ddf528146aaf42b781a3c0ead5070867",
            "value": "Generating test split: 100%"
          }
        },
        "f9a4a08a74334898b8bb87fbd09c9364": {
          "model_module": "@jupyter-widgets/controls",
          "model_module_version": "1.5.0",
          "model_name": "FloatProgressModel",
          "state": {
            "_dom_classes": [],
            "_model_module": "@jupyter-widgets/controls",
            "_model_module_version": "1.5.0",
            "_model_name": "FloatProgressModel",
            "_view_count": null,
            "_view_module": "@jupyter-widgets/controls",
            "_view_module_version": "1.5.0",
            "_view_name": "ProgressView",
            "bar_style": "success",
            "description": "",
            "description_tooltip": null,
            "layout": "IPY_MODEL_650b05084beb475798135fcff1c809b4",
            "max": 10047,
            "min": 0,
            "orientation": "horizontal",
            "style": "IPY_MODEL_40322c34ea8243b0a25fe80ddfef7f12",
            "value": 10047
          }
        },
        "fb96b10b754743f9bfebbcc55c76c2ef": {
          "model_module": "@jupyter-widgets/base",
          "model_module_version": "1.2.0",
          "model_name": "LayoutModel",
          "state": {
            "_model_module": "@jupyter-widgets/base",
            "_model_module_version": "1.2.0",
            "_model_name": "LayoutModel",
            "_view_count": null,
            "_view_module": "@jupyter-widgets/base",
            "_view_module_version": "1.2.0",
            "_view_name": "LayoutView",
            "align_content": null,
            "align_items": null,
            "align_self": null,
            "border": null,
            "bottom": null,
            "display": null,
            "flex": null,
            "flex_flow": null,
            "grid_area": null,
            "grid_auto_columns": null,
            "grid_auto_flow": null,
            "grid_auto_rows": null,
            "grid_column": null,
            "grid_gap": null,
            "grid_row": null,
            "grid_template_areas": null,
            "grid_template_columns": null,
            "grid_template_rows": null,
            "height": null,
            "justify_content": null,
            "justify_items": null,
            "left": null,
            "margin": null,
            "max_height": null,
            "max_width": null,
            "min_height": null,
            "min_width": null,
            "object_fit": null,
            "object_position": null,
            "order": null,
            "overflow": null,
            "overflow_x": null,
            "overflow_y": null,
            "padding": null,
            "right": null,
            "top": null,
            "visibility": null,
            "width": null
          }
        },
        "fe499df3a38142eb83a1056785010bfb": {
          "model_module": "@jupyter-widgets/controls",
          "model_module_version": "1.5.0",
          "model_name": "DescriptionStyleModel",
          "state": {
            "_model_module": "@jupyter-widgets/controls",
            "_model_module_version": "1.5.0",
            "_model_name": "DescriptionStyleModel",
            "_view_count": null,
            "_view_module": "@jupyter-widgets/base",
            "_view_module_version": "1.2.0",
            "_view_name": "StyleView",
            "description_width": ""
          }
        },
        "ffa609d73ef64fbd83e5e5cabb878997": {
          "model_module": "@jupyter-widgets/controls",
          "model_module_version": "1.5.0",
          "model_name": "FloatProgressModel",
          "state": {
            "_dom_classes": [],
            "_model_module": "@jupyter-widgets/controls",
            "_model_module_version": "1.5.0",
            "_model_name": "FloatProgressModel",
            "_view_count": null,
            "_view_module": "@jupyter-widgets/controls",
            "_view_module_version": "1.5.0",
            "_view_name": "ProgressView",
            "bar_style": "success",
            "description": "",
            "description_tooltip": null,
            "layout": "IPY_MODEL_56beabf3a91340e08bdfe5e810352acb",
            "max": 9480,
            "min": 0,
            "orientation": "horizontal",
            "style": "IPY_MODEL_1f7ca49ab3694df7952ce7dc4a80d53b",
            "value": 9480
          }
        }
      }
    }
  },
  "nbformat": 4,
  "nbformat_minor": 0
}
