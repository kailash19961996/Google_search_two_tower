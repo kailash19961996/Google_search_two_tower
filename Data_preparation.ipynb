{
 "cells": [
  {
   "cell_type": "code",
   "execution_count": 1,
   "metadata": {},
   "outputs": [
    {
     "name": "stderr",
     "output_type": "stream",
     "text": [
      "/opt/homebrew/lib/python3.11/site-packages/tqdm/auto.py:21: TqdmWarning: IProgress not found. Please update jupyter and ipywidgets. See https://ipywidgets.readthedocs.io/en/stable/user_install.html\n",
      "  from .autonotebook import tqdm as notebook_tqdm\n"
     ]
    }
   ],
   "source": [
    "from datasets import load_dataset\n",
    "import pandas as pd\n",
    "import numpy as np\n",
    "\n",
    "import random"
   ]
  },
  {
   "cell_type": "code",
   "execution_count": null,
   "metadata": {},
   "outputs": [],
   "source": []
  },
  {
   "cell_type": "code",
   "execution_count": 2,
   "metadata": {},
   "outputs": [],
   "source": [
    "dataset = load_dataset('ms_marco', 'v1.1')"
   ]
  },
  {
   "cell_type": "code",
   "execution_count": 3,
   "metadata": {},
   "outputs": [
    {
     "data": {
      "text/plain": [
       "DatasetDict({\n",
       "    validation: Dataset({\n",
       "        features: ['answers', 'passages', 'query', 'query_id', 'query_type', 'wellFormedAnswers'],\n",
       "        num_rows: 10047\n",
       "    })\n",
       "    train: Dataset({\n",
       "        features: ['answers', 'passages', 'query', 'query_id', 'query_type', 'wellFormedAnswers'],\n",
       "        num_rows: 82326\n",
       "    })\n",
       "    test: Dataset({\n",
       "        features: ['answers', 'passages', 'query', 'query_id', 'query_type', 'wellFormedAnswers'],\n",
       "        num_rows: 9650\n",
       "    })\n",
       "})"
      ]
     },
     "execution_count": 3,
     "metadata": {},
     "output_type": "execute_result"
    }
   ],
   "source": [
    "dataset\n"
   ]
  },
  {
   "cell_type": "code",
   "execution_count": 4,
   "metadata": {},
   "outputs": [],
   "source": [
    "train_data = dataset['train']\n",
    "validation_data = dataset['validation']\n",
    "test_data = dataset['test']"
   ]
  },
  {
   "cell_type": "code",
   "execution_count": 5,
   "metadata": {},
   "outputs": [],
   "source": [
    "train_df = train_data.to_pandas()"
   ]
  },
  {
   "cell_type": "code",
   "execution_count": 6,
   "metadata": {},
   "outputs": [
    {
     "data": {
      "text/html": [
       "<div>\n",
       "<style scoped>\n",
       "    .dataframe tbody tr th:only-of-type {\n",
       "        vertical-align: middle;\n",
       "    }\n",
       "\n",
       "    .dataframe tbody tr th {\n",
       "        vertical-align: top;\n",
       "    }\n",
       "\n",
       "    .dataframe thead th {\n",
       "        text-align: right;\n",
       "    }\n",
       "</style>\n",
       "<table border=\"1\" class=\"dataframe\">\n",
       "  <thead>\n",
       "    <tr style=\"text-align: right;\">\n",
       "      <th></th>\n",
       "      <th>answers</th>\n",
       "      <th>passages</th>\n",
       "      <th>query</th>\n",
       "      <th>query_id</th>\n",
       "      <th>query_type</th>\n",
       "      <th>wellFormedAnswers</th>\n",
       "    </tr>\n",
       "  </thead>\n",
       "  <tbody>\n",
       "    <tr>\n",
       "      <th>0</th>\n",
       "      <td>[Results-Based Accountability is a disciplined...</td>\n",
       "      <td>{'is_selected': [0, 0, 0, 0, 0, 1, 0, 0, 0, 0]...</td>\n",
       "      <td>what is rba</td>\n",
       "      <td>19699</td>\n",
       "      <td>description</td>\n",
       "      <td>[]</td>\n",
       "    </tr>\n",
       "    <tr>\n",
       "      <th>1</th>\n",
       "      <td>[Yes]</td>\n",
       "      <td>{'is_selected': [0, 1, 0, 0, 0, 0, 0], 'passag...</td>\n",
       "      <td>was ronald reagan a democrat</td>\n",
       "      <td>19700</td>\n",
       "      <td>description</td>\n",
       "      <td>[]</td>\n",
       "    </tr>\n",
       "    <tr>\n",
       "      <th>2</th>\n",
       "      <td>[20-25 minutes]</td>\n",
       "      <td>{'is_selected': [0, 0, 0, 0, 1, 0, 0, 0, 0, 0]...</td>\n",
       "      <td>how long do you need for sydney and surroundin...</td>\n",
       "      <td>19701</td>\n",
       "      <td>numeric</td>\n",
       "      <td>[]</td>\n",
       "    </tr>\n",
       "    <tr>\n",
       "      <th>3</th>\n",
       "      <td>[$11 to $22 per square foot]</td>\n",
       "      <td>{'is_selected': [0, 0, 0, 0, 0, 0, 0, 0, 1], '...</td>\n",
       "      <td>price to install tile in shower</td>\n",
       "      <td>19702</td>\n",
       "      <td>numeric</td>\n",
       "      <td>[]</td>\n",
       "    </tr>\n",
       "    <tr>\n",
       "      <th>4</th>\n",
       "      <td>[Due to symptoms in the body]</td>\n",
       "      <td>{'is_selected': [0, 0, 1, 0, 0, 0, 0, 0], 'pas...</td>\n",
       "      <td>why conversion observed in body</td>\n",
       "      <td>19703</td>\n",
       "      <td>description</td>\n",
       "      <td>[]</td>\n",
       "    </tr>\n",
       "    <tr>\n",
       "      <th>...</th>\n",
       "      <td>...</td>\n",
       "      <td>...</td>\n",
       "      <td>...</td>\n",
       "      <td>...</td>\n",
       "      <td>...</td>\n",
       "      <td>...</td>\n",
       "    </tr>\n",
       "    <tr>\n",
       "      <th>82321</th>\n",
       "      <td>[The act or action of propagating as a increas...</td>\n",
       "      <td>{'is_selected': [1, 0, 0], 'passage_text': ['d...</td>\n",
       "      <td>meaning of propagation</td>\n",
       "      <td>102124</td>\n",
       "      <td>description</td>\n",
       "      <td>[]</td>\n",
       "    </tr>\n",
       "    <tr>\n",
       "      <th>82322</th>\n",
       "      <td>[Yes]</td>\n",
       "      <td>{'is_selected': [0, 0, 1, 0, 0, 0, 0, 0, 0], '...</td>\n",
       "      <td>do you have to do a phd to be a clinical psych...</td>\n",
       "      <td>102125</td>\n",
       "      <td>description</td>\n",
       "      <td>[]</td>\n",
       "    </tr>\n",
       "    <tr>\n",
       "      <th>82323</th>\n",
       "      <td>[Chablis]</td>\n",
       "      <td>{'is_selected': [0, 1, 0, 0, 0, 0], 'passage_t...</td>\n",
       "      <td>what wine goes with oysters</td>\n",
       "      <td>102126</td>\n",
       "      <td>entity</td>\n",
       "      <td>[]</td>\n",
       "    </tr>\n",
       "    <tr>\n",
       "      <th>82324</th>\n",
       "      <td>[1 Lithium carbonate 150 mg capsules. Lithium ...</td>\n",
       "      <td>{'is_selected': [0, 0, 0, 1, 0, 0, 0, 0, 0], '...</td>\n",
       "      <td>what strengths does lithium come in</td>\n",
       "      <td>102127</td>\n",
       "      <td>description</td>\n",
       "      <td>[]</td>\n",
       "    </tr>\n",
       "    <tr>\n",
       "      <th>82325</th>\n",
       "      <td>[Burdick &amp; Jackson solvents are arranged in or...</td>\n",
       "      <td>{'is_selected': [1, 0, 0, 0, 0, 0, 0, 0, 0, 0]...</td>\n",
       "      <td>what is polarity index definition</td>\n",
       "      <td>102128</td>\n",
       "      <td>description</td>\n",
       "      <td>[]</td>\n",
       "    </tr>\n",
       "  </tbody>\n",
       "</table>\n",
       "<p>82326 rows × 6 columns</p>\n",
       "</div>"
      ],
      "text/plain": [
       "                                                 answers  \\\n",
       "0      [Results-Based Accountability is a disciplined...   \n",
       "1                                                  [Yes]   \n",
       "2                                        [20-25 minutes]   \n",
       "3                           [$11 to $22 per square foot]   \n",
       "4                          [Due to symptoms in the body]   \n",
       "...                                                  ...   \n",
       "82321  [The act or action of propagating as a increas...   \n",
       "82322                                              [Yes]   \n",
       "82323                                          [Chablis]   \n",
       "82324  [1 Lithium carbonate 150 mg capsules. Lithium ...   \n",
       "82325  [Burdick & Jackson solvents are arranged in or...   \n",
       "\n",
       "                                                passages  \\\n",
       "0      {'is_selected': [0, 0, 0, 0, 0, 1, 0, 0, 0, 0]...   \n",
       "1      {'is_selected': [0, 1, 0, 0, 0, 0, 0], 'passag...   \n",
       "2      {'is_selected': [0, 0, 0, 0, 1, 0, 0, 0, 0, 0]...   \n",
       "3      {'is_selected': [0, 0, 0, 0, 0, 0, 0, 0, 1], '...   \n",
       "4      {'is_selected': [0, 0, 1, 0, 0, 0, 0, 0], 'pas...   \n",
       "...                                                  ...   \n",
       "82321  {'is_selected': [1, 0, 0], 'passage_text': ['d...   \n",
       "82322  {'is_selected': [0, 0, 1, 0, 0, 0, 0, 0, 0], '...   \n",
       "82323  {'is_selected': [0, 1, 0, 0, 0, 0], 'passage_t...   \n",
       "82324  {'is_selected': [0, 0, 0, 1, 0, 0, 0, 0, 0], '...   \n",
       "82325  {'is_selected': [1, 0, 0, 0, 0, 0, 0, 0, 0, 0]...   \n",
       "\n",
       "                                                   query  query_id  \\\n",
       "0                                            what is rba     19699   \n",
       "1                           was ronald reagan a democrat     19700   \n",
       "2      how long do you need for sydney and surroundin...     19701   \n",
       "3                        price to install tile in shower     19702   \n",
       "4                        why conversion observed in body     19703   \n",
       "...                                                  ...       ...   \n",
       "82321                             meaning of propagation    102124   \n",
       "82322  do you have to do a phd to be a clinical psych...    102125   \n",
       "82323                        what wine goes with oysters    102126   \n",
       "82324                what strengths does lithium come in    102127   \n",
       "82325                  what is polarity index definition    102128   \n",
       "\n",
       "        query_type wellFormedAnswers  \n",
       "0      description                []  \n",
       "1      description                []  \n",
       "2          numeric                []  \n",
       "3          numeric                []  \n",
       "4      description                []  \n",
       "...            ...               ...  \n",
       "82321  description                []  \n",
       "82322  description                []  \n",
       "82323       entity                []  \n",
       "82324  description                []  \n",
       "82325  description                []  \n",
       "\n",
       "[82326 rows x 6 columns]"
      ]
     },
     "execution_count": 6,
     "metadata": {},
     "output_type": "execute_result"
    }
   ],
   "source": [
    "train_df"
   ]
  },
  {
   "cell_type": "code",
   "execution_count": 7,
   "metadata": {},
   "outputs": [
    {
     "data": {
      "text/html": [
       "<div>\n",
       "<style scoped>\n",
       "    .dataframe tbody tr th:only-of-type {\n",
       "        vertical-align: middle;\n",
       "    }\n",
       "\n",
       "    .dataframe tbody tr th {\n",
       "        vertical-align: top;\n",
       "    }\n",
       "\n",
       "    .dataframe thead th {\n",
       "        text-align: right;\n",
       "    }\n",
       "</style>\n",
       "<table border=\"1\" class=\"dataframe\">\n",
       "  <thead>\n",
       "    <tr style=\"text-align: right;\">\n",
       "      <th></th>\n",
       "      <th>answers</th>\n",
       "      <th>passages</th>\n",
       "      <th>query</th>\n",
       "      <th>query_id</th>\n",
       "      <th>query_type</th>\n",
       "      <th>wellFormedAnswers</th>\n",
       "    </tr>\n",
       "  </thead>\n",
       "  <tbody>\n",
       "    <tr>\n",
       "      <th>0</th>\n",
       "      <td>[Results-Based Accountability is a disciplined...</td>\n",
       "      <td>{'is_selected': [0, 0, 0, 0, 0, 1, 0, 0, 0, 0]...</td>\n",
       "      <td>what is rba</td>\n",
       "      <td>19699</td>\n",
       "      <td>description</td>\n",
       "      <td>[]</td>\n",
       "    </tr>\n",
       "    <tr>\n",
       "      <th>1</th>\n",
       "      <td>[Yes]</td>\n",
       "      <td>{'is_selected': [0, 1, 0, 0, 0, 0, 0], 'passag...</td>\n",
       "      <td>was ronald reagan a democrat</td>\n",
       "      <td>19700</td>\n",
       "      <td>description</td>\n",
       "      <td>[]</td>\n",
       "    </tr>\n",
       "    <tr>\n",
       "      <th>2</th>\n",
       "      <td>[20-25 minutes]</td>\n",
       "      <td>{'is_selected': [0, 0, 0, 0, 1, 0, 0, 0, 0, 0]...</td>\n",
       "      <td>how long do you need for sydney and surroundin...</td>\n",
       "      <td>19701</td>\n",
       "      <td>numeric</td>\n",
       "      <td>[]</td>\n",
       "    </tr>\n",
       "    <tr>\n",
       "      <th>3</th>\n",
       "      <td>[$11 to $22 per square foot]</td>\n",
       "      <td>{'is_selected': [0, 0, 0, 0, 0, 0, 0, 0, 1], '...</td>\n",
       "      <td>price to install tile in shower</td>\n",
       "      <td>19702</td>\n",
       "      <td>numeric</td>\n",
       "      <td>[]</td>\n",
       "    </tr>\n",
       "    <tr>\n",
       "      <th>4</th>\n",
       "      <td>[Due to symptoms in the body]</td>\n",
       "      <td>{'is_selected': [0, 0, 1, 0, 0, 0, 0, 0], 'pas...</td>\n",
       "      <td>why conversion observed in body</td>\n",
       "      <td>19703</td>\n",
       "      <td>description</td>\n",
       "      <td>[]</td>\n",
       "    </tr>\n",
       "    <tr>\n",
       "      <th>5</th>\n",
       "      <td>[Inside the rib cage.]</td>\n",
       "      <td>{'is_selected': [0, 0, 0, 0, 1, 0, 0, 0, 0, 0]...</td>\n",
       "      <td>where are the lungs located in the back</td>\n",
       "      <td>19704</td>\n",
       "      <td>location</td>\n",
       "      <td>[]</td>\n",
       "    </tr>\n",
       "    <tr>\n",
       "      <th>6</th>\n",
       "      <td>[The most expensive patents are international ...</td>\n",
       "      <td>{'is_selected': [0, 0, 0, 0, 0, 1, 0, 0], 'pas...</td>\n",
       "      <td>cost to get a patent</td>\n",
       "      <td>19705</td>\n",
       "      <td>numeric</td>\n",
       "      <td>[]</td>\n",
       "    </tr>\n",
       "    <tr>\n",
       "      <th>7</th>\n",
       "      <td>[]</td>\n",
       "      <td>{'is_selected': [0, 0, 0, 0, 0, 0, 0, 0, 0], '...</td>\n",
       "      <td>what does a metabolic acidosis need to reverse...</td>\n",
       "      <td>19706</td>\n",
       "      <td>description</td>\n",
       "      <td>[]</td>\n",
       "    </tr>\n",
       "    <tr>\n",
       "      <th>8</th>\n",
       "      <td>[Sophocles, Aeschylus and Euripides]</td>\n",
       "      <td>{'is_selected': [0, 0, 0, 1, 0, 0, 0, 0, 0], '...</td>\n",
       "      <td>best tragedies of ancient greece</td>\n",
       "      <td>19707</td>\n",
       "      <td>entity</td>\n",
       "      <td>[]</td>\n",
       "    </tr>\n",
       "    <tr>\n",
       "      <th>9</th>\n",
       "      <td>[A tree or shrub which produces distinctive co...</td>\n",
       "      <td>{'is_selected': [0, 0, 0, 1, 0, 0, 0, 0, 0], '...</td>\n",
       "      <td>what is a conifer</td>\n",
       "      <td>19708</td>\n",
       "      <td>description</td>\n",
       "      <td>[]</td>\n",
       "    </tr>\n",
       "  </tbody>\n",
       "</table>\n",
       "</div>"
      ],
      "text/plain": [
       "                                             answers  \\\n",
       "0  [Results-Based Accountability is a disciplined...   \n",
       "1                                              [Yes]   \n",
       "2                                    [20-25 minutes]   \n",
       "3                       [$11 to $22 per square foot]   \n",
       "4                      [Due to symptoms in the body]   \n",
       "5                             [Inside the rib cage.]   \n",
       "6  [The most expensive patents are international ...   \n",
       "7                                                 []   \n",
       "8               [Sophocles, Aeschylus and Euripides]   \n",
       "9  [A tree or shrub which produces distinctive co...   \n",
       "\n",
       "                                            passages  \\\n",
       "0  {'is_selected': [0, 0, 0, 0, 0, 1, 0, 0, 0, 0]...   \n",
       "1  {'is_selected': [0, 1, 0, 0, 0, 0, 0], 'passag...   \n",
       "2  {'is_selected': [0, 0, 0, 0, 1, 0, 0, 0, 0, 0]...   \n",
       "3  {'is_selected': [0, 0, 0, 0, 0, 0, 0, 0, 1], '...   \n",
       "4  {'is_selected': [0, 0, 1, 0, 0, 0, 0, 0], 'pas...   \n",
       "5  {'is_selected': [0, 0, 0, 0, 1, 0, 0, 0, 0, 0]...   \n",
       "6  {'is_selected': [0, 0, 0, 0, 0, 1, 0, 0], 'pas...   \n",
       "7  {'is_selected': [0, 0, 0, 0, 0, 0, 0, 0, 0], '...   \n",
       "8  {'is_selected': [0, 0, 0, 1, 0, 0, 0, 0, 0], '...   \n",
       "9  {'is_selected': [0, 0, 0, 1, 0, 0, 0, 0, 0], '...   \n",
       "\n",
       "                                               query  query_id   query_type  \\\n",
       "0                                        what is rba     19699  description   \n",
       "1                       was ronald reagan a democrat     19700  description   \n",
       "2  how long do you need for sydney and surroundin...     19701      numeric   \n",
       "3                    price to install tile in shower     19702      numeric   \n",
       "4                    why conversion observed in body     19703  description   \n",
       "5            where are the lungs located in the back     19704     location   \n",
       "6                               cost to get a patent     19705      numeric   \n",
       "7  what does a metabolic acidosis need to reverse...     19706  description   \n",
       "8                   best tragedies of ancient greece     19707       entity   \n",
       "9                                  what is a conifer     19708  description   \n",
       "\n",
       "  wellFormedAnswers  \n",
       "0                []  \n",
       "1                []  \n",
       "2                []  \n",
       "3                []  \n",
       "4                []  \n",
       "5                []  \n",
       "6                []  \n",
       "7                []  \n",
       "8                []  \n",
       "9                []  "
      ]
     },
     "execution_count": 7,
     "metadata": {},
     "output_type": "execute_result"
    }
   ],
   "source": [
    "t_df  = train_df[:10]\n",
    "t_df"
   ]
  },
  {
   "cell_type": "code",
   "execution_count": 8,
   "metadata": {},
   "outputs": [
    {
     "data": {
      "text/plain": [
       "{'is_selected': array([0, 1, 0, 0, 0, 0, 0], dtype=int32),\n",
       " 'passage_text': array(['In his younger years, Ronald Reagan was a member of the Democratic Party and campaigned for Democratic candidates; however, his views grew more conservative over time, and in the early 1960s he officially became a Republican. In November 1984, Ronald Reagan was reelected in a landslide, defeating Walter Mondale and his running mate Geraldine Ferraro (1935-), the first female vice-presidential candidate from a major U.S. political party.',\n",
       "        \"From Wikipedia, the free encyclopedia. A Reagan Democrat is a traditionally Democratic voter in the United States, especially a white working-class Northerner, who defected from their party to support Republican President Ronald Reagan in either or both the 1980 and 1984 elections. During the 1980 election a dramatic number of voters in the U.S., disillusioned with the economic 'malaise' of the 1970s and the presidency of Jimmy Carter (even more than, four years earlier, Liberal Republican Gerald Ford), supported former California governor (and former Democrat) Ronald Reagan.\",\n",
       "        'Ronald Reagan began his political life in the Democratic Party, but as he became more and more conservative, he ultimately changed to the Republican Party in the early 1960s. Yes, he switched parties in 1962. He said that he did not desert the Democrats but rather they deserted him. Yes, Ronald Reagan was a member of the Democratic Party until he s … witched to the Republican Party in 1962, at the age of 51. 8 people found this useful.',\n",
       "        'Ronald Wilson Reagan (/ˈrɒnəld ˈwɪlsən ˈreɪɡən/ ; February 6, 1911 – June 5, 2004) was an American politician, commentator, and actor, who served as the 40th President of the United States from 1981 to 1989. I think Ronald Reagan changed the trajectory of America in a way that Richard Nixon did not and in a way that Bill Clinton did not. He put us on a fundamentally different path because the country was ready for it.',\n",
       "        \"When Reagan was a 'liberal Democrat'. In 1948, a very different sounding Ronald Reagan campaigned on the radio for Democrat Harry Truman. Listen to the old audio recording. ... more Duration: {{video.duration.momentjs}}. \",\n",
       "        'Ronald Reagan (1911-2004), a former actor and California governor, served as the 40th U.S. president from 1981 to 1989. Raised in small-town Illinois, he became a Hollywood actor in his 20s and later served as the Republican governor of California from 1967 to 1975. In November 1984, Ronald Reagan was reelected in a landslide, defeating Walter Mondale and his running mate Geraldine Ferraro (1935-), the first female vice-presidential candidate from a major U.S. political party.',\n",
       "        '1984 Re-Election. In November 1984, Ronald Reagan was re-elected in a landslide, defeating Democratic challenger Walter Mondale. Reagan carried 49 of the 50 U.S. states in the election, and received 525 of 538 electoral votes—the largest number ever won by an American presidential candidate. '],\n",
       "       dtype=object),\n",
       " 'url': array(['http://www.history.com/topics/us-presidents/ronald-reagan',\n",
       "        'https://en.wikipedia.org/wiki/Reagan_Democrat',\n",
       "        'http://www.answers.com/Q/Was_Ronald_Reagan_a_republican_or_a_democrat',\n",
       "        'https://en.wikipedia.org/wiki/Ronald_Reagan',\n",
       "        'http://www.msnbc.com/the-last-word/watch/when-reagan-was-a-liberal-democrat-219696195576',\n",
       "        'http://www.history.com/topics/us-presidents/ronald-reagan',\n",
       "        'http://www.biography.com/people/ronald-reagan-9453198'],\n",
       "       dtype=object)}"
      ]
     },
     "execution_count": 8,
     "metadata": {},
     "output_type": "execute_result"
    }
   ],
   "source": [
    "t_df['passages'][1]"
   ]
  },
  {
   "cell_type": "code",
   "execution_count": 9,
   "metadata": {},
   "outputs": [
    {
     "name": "stdout",
     "output_type": "stream",
     "text": [
      "length of all_docs 89\n"
     ]
    }
   ],
   "source": [
    "#  Initialize an empty list or dictionary to store combined passages\n",
    "all_docs = []\n",
    "\n",
    "# Iterate over each row in the DataFrame\n",
    "for index, row in t_df.iterrows():\n",
    "    passages = row['passages']['passage_text']\n",
    "    \n",
    "    # Step 3: Store passages and their corresponding indices\n",
    "    for i, passage in enumerate(passages):\n",
    "        all_docs.append({'passage_text': passage, 'index': len(all_docs)})\n",
    "\n",
    "# Function to select irrelevant passages\n",
    "def select_irrelevant_passages(relevant_passages):\n",
    "    # Get the size of relevant passages\n",
    "    size = len(relevant_passages) # 7\n",
    "    \n",
    "    # Filter out passages that are present in relevant_passages\n",
    "    irrelevant_passages_indices = [i for i in range(len(all_docs)) if all_docs[i]['passage_text'] not in relevant_passages]\n",
    "    \n",
    "    # Select irrelevant passages randomly from filtered passages\n",
    "    irrelevant_indices = np.random.choice(irrelevant_passages_indices, size, replace=False)\n",
    "    irrelevant_passages = [all_docs[i]['passage_text'] for i in irrelevant_indices]\n",
    "    \n",
    "    return irrelevant_passages\n",
    "\n",
    "print('length of all_docs',len(all_docs))\n"
   ]
  },
  {
   "cell_type": "code",
   "execution_count": 10,
   "metadata": {},
   "outputs": [
    {
     "data": {
      "text/plain": [
       "\"The Reserve Bank of Australia (RBA) came into being on 14 January 1960 as Australia 's central bank and banknote issuing authority, when the Reserve Bank Act 1959 removed the central banking functions from the Commonwealth Bank. The assets of the bank include the gold and foreign exchange reserves of Australia, which is estimated to have a net worth of A$101 billion. Nearly 94% of the RBA's employees work at its headquarters in Sydney, New South Wales and at the Business Resumption Site.\""
      ]
     },
     "execution_count": 10,
     "metadata": {},
     "output_type": "execute_result"
    }
   ],
   "source": [
    "all_docs[1]['passage_text']"
   ]
  },
  {
   "cell_type": "code",
   "execution_count": 11,
   "metadata": {},
   "outputs": [
    {
     "name": "stdout",
     "output_type": "stream",
     "text": [
      "['In his younger years, Ronald Reagan was a member of the Democratic Party and campaigned for Democratic candidates; however, his views grew more conservative over time, and in the early 1960s he officially became a Republican. In November 1984, Ronald Reagan was reelected in a landslide, defeating Walter Mondale and his running mate Geraldine Ferraro (1935-), the first female vice-presidential candidate from a major U.S. political party.', \"From Wikipedia, the free encyclopedia. A Reagan Democrat is a traditionally Democratic voter in the United States, especially a white working-class Northerner, who defected from their party to support Republican President Ronald Reagan in either or both the 1980 and 1984 elections. During the 1980 election a dramatic number of voters in the U.S., disillusioned with the economic 'malaise' of the 1970s and the presidency of Jimmy Carter (even more than, four years earlier, Liberal Republican Gerald Ford), supported former California governor (and former Democrat) Ronald Reagan.\", 'Ronald Reagan began his political life in the Democratic Party, but as he became more and more conservative, he ultimately changed to the Republican Party in the early 1960s. Yes, he switched parties in 1962. He said that he did not desert the Democrats but rather they deserted him. Yes, Ronald Reagan was a member of the Democratic Party until he s … witched to the Republican Party in 1962, at the age of 51. 8 people found this useful.', 'Ronald Wilson Reagan (/ˈrɒnəld ˈwɪlsən ˈreɪɡən/ ; February 6, 1911 – June 5, 2004) was an American politician, commentator, and actor, who served as the 40th President of the United States from 1981 to 1989. I think Ronald Reagan changed the trajectory of America in a way that Richard Nixon did not and in a way that Bill Clinton did not. He put us on a fundamentally different path because the country was ready for it.', \"When Reagan was a 'liberal Democrat'. In 1948, a very different sounding Ronald Reagan campaigned on the radio for Democrat Harry Truman. Listen to the old audio recording. ... more Duration: {{video.duration.momentjs}}. \", 'Ronald Reagan (1911-2004), a former actor and California governor, served as the 40th U.S. president from 1981 to 1989. Raised in small-town Illinois, he became a Hollywood actor in his 20s and later served as the Republican governor of California from 1967 to 1975. In November 1984, Ronald Reagan was reelected in a landslide, defeating Walter Mondale and his running mate Geraldine Ferraro (1935-), the first female vice-presidential candidate from a major U.S. political party.', '1984 Re-Election. In November 1984, Ronald Reagan was re-elected in a landslide, defeating Democratic challenger Walter Mondale. Reagan carried 49 of the 50 U.S. states in the election, and received 525 of 538 electoral votes—the largest number ever won by an American presidential candidate. ']\n"
     ]
    }
   ],
   "source": [
    "# Example usage:\n",
    "relevant_indices = t_df['passages'][1]['passage_text'].tolist() # Example relevant passage indices\n",
    "print(relevant_indices)"
   ]
  },
  {
   "cell_type": "code",
   "execution_count": 12,
   "metadata": {},
   "outputs": [
    {
     "name": "stdout",
     "output_type": "stream",
     "text": [
      "\n",
      "Irrelevant Passages:\n",
      "Acidosis occurs when your kidneys and lungs can’t keep your body’s pH in balance. There are two types of acidosis--metabolic and respiratory. Metabolic acidosis occurs when your kidneys can’t get rid of acid buildup or when your body gets rid of too much base. Bases neutralize acids, and vice versa. Respiratory acidosis occurs when your lungs do not properly eliminate the carbon dioxide (CO2). 1 This base helps to keep the blood neutral. 2  Both diarrhea and vomiting can cause this type of acidosis. 3  Lactic acidosis occurs when there is too much lactic acid in your body. 4  Many things can cause a buildup of lactic acid.\n",
      "your lungs are just inside your ribcage, from the chest in. there is your heart, stomach, spine, some arm muscles, and big arteries and veins between your lungs and your back … skin. there is just the ribcage and a couple big blood vessels between the lungs and the chest. 4 people found this useful. \n",
      "A rebuildable atomizer (RBA), often referred to as simply a “rebuildable,” is just a special type of atomizer used in the Vape Pen and Mod Industry that connects to a personal vaporizer. 1 The bottom feed RBA is, perhaps, the easiest of all RBA types to build, maintain, and use. 2  It is filled from below, much like bottom coil clearomizer. 3  Bottom feed RBAs can utilize cotton instead of silica for the wick. 4  The Genesis, or genny, is a top feed RBA that utilizes a short woven mesh wire.\n",
      "Three well-known Greek tragedy playwrights of the fifth century are Sophocles, Euripides and Aeschylus. Comedy was also an important part of ancient Greek theatre. Comedy plays were derived from imitation; there are no traces of its origin. Aristophanes wrote most of the comedy plays. \n",
      "Results-Based Accountability® (also known as RBA) is a disciplined way of thinking and taking action that communities can use to improve the lives of children, youth, families, adults and the community as a whole. RBA is also used by organizations to improve the performance of their programs. Creating Community Impact with RBA. Community impact focuses on conditions of well-being for children, families and the community as a whole that a group of leaders is working collectively to improve. For example: “Residents with good jobs,” “Children ready for school,” or “A safe and clean neighborhood”.\n",
      "Conversion disorder is a mental condition in which a person has blindness, paralysis, or other nervous system (neurologic) symptoms that cannot be explained by medical evaluation.\n",
      "RBA Recognized with the 2014 Microsoft US Regional Partner of the ... by PR Newswire. Contract Awarded for supply and support the. Securitisations System used for risk management and analysis. \n"
     ]
    }
   ],
   "source": [
    "irrelevant_passages = select_irrelevant_passages(relevant_indices)\n",
    "print(\"\\nIrrelevant Passages:\")\n",
    "\n",
    "# Print irrelevant passages formatted like relevant ones\n",
    "for passage in irrelevant_passages:\n",
    "    print(passage)"
   ]
  },
  {
   "cell_type": "code",
   "execution_count": 13,
   "metadata": {},
   "outputs": [
    {
     "ename": "TypeError",
     "evalue": "string indices must be integers, not 'str'",
     "output_type": "error",
     "traceback": [
      "\u001b[0;31m---------------------------------------------------------------------------\u001b[0m",
      "\u001b[0;31mTypeError\u001b[0m                                 Traceback (most recent call last)",
      "Cell \u001b[0;32mIn[13], line 1\u001b[0m\n\u001b[0;32m----> 1\u001b[0m \u001b[43mirrelevant_passages\u001b[49m\u001b[43m[\u001b[49m\u001b[38;5;241;43m1\u001b[39;49m\u001b[43m]\u001b[49m\u001b[43m[\u001b[49m\u001b[38;5;124;43m'\u001b[39;49m\u001b[38;5;124;43mpassage_text\u001b[39;49m\u001b[38;5;124;43m'\u001b[39;49m\u001b[43m]\u001b[49m\n",
      "\u001b[0;31mTypeError\u001b[0m: string indices must be integers, not 'str'"
     ]
    }
   ],
   "source": [
    "irrelevant_passages[1]['passage_text']"
   ]
  },
  {
   "cell_type": "markdown",
   "metadata": {},
   "source": [
    "# Making triplets"
   ]
  },
  {
   "cell_type": "code",
   "execution_count": 14,
   "metadata": {},
   "outputs": [],
   "source": [
    "passages = []\n",
    "n_passages = t_df['passages']\n",
    "for i in range(len(n_passages)):\n",
    "  passages.append(n_passages[i]['passage_text'])"
   ]
  },
  {
   "cell_type": "code",
   "execution_count": 15,
   "metadata": {},
   "outputs": [],
   "source": [
    "def generate_triplets(queries, relevant_docs):\n",
    "    triplets = []\n",
    "    for i, query in enumerate(queries):\n",
    "        relevant_doc = relevant_docs[i].tolist()\n",
    "        negative_doc = select_irrelevant_passages(relevant_doc)\n",
    "        triplets.append((query, relevant_doc, negative_doc))\n",
    "    return triplets\n",
    "\n",
    "triplets_train = generate_triplets(t_df['query'], passages)"
   ]
  },
  {
   "cell_type": "code",
   "execution_count": 16,
   "metadata": {},
   "outputs": [
    {
     "data": {
      "text/plain": [
       "('was ronald reagan a democrat',\n",
       " ['In his younger years, Ronald Reagan was a member of the Democratic Party and campaigned for Democratic candidates; however, his views grew more conservative over time, and in the early 1960s he officially became a Republican. In November 1984, Ronald Reagan was reelected in a landslide, defeating Walter Mondale and his running mate Geraldine Ferraro (1935-), the first female vice-presidential candidate from a major U.S. political party.',\n",
       "  \"From Wikipedia, the free encyclopedia. A Reagan Democrat is a traditionally Democratic voter in the United States, especially a white working-class Northerner, who defected from their party to support Republican President Ronald Reagan in either or both the 1980 and 1984 elections. During the 1980 election a dramatic number of voters in the U.S., disillusioned with the economic 'malaise' of the 1970s and the presidency of Jimmy Carter (even more than, four years earlier, Liberal Republican Gerald Ford), supported former California governor (and former Democrat) Ronald Reagan.\",\n",
       "  'Ronald Reagan began his political life in the Democratic Party, but as he became more and more conservative, he ultimately changed to the Republican Party in the early 1960s. Yes, he switched parties in 1962. He said that he did not desert the Democrats but rather they deserted him. Yes, Ronald Reagan was a member of the Democratic Party until he s … witched to the Republican Party in 1962, at the age of 51. 8 people found this useful.',\n",
       "  'Ronald Wilson Reagan (/ˈrɒnəld ˈwɪlsən ˈreɪɡən/ ; February 6, 1911 – June 5, 2004) was an American politician, commentator, and actor, who served as the 40th President of the United States from 1981 to 1989. I think Ronald Reagan changed the trajectory of America in a way that Richard Nixon did not and in a way that Bill Clinton did not. He put us on a fundamentally different path because the country was ready for it.',\n",
       "  \"When Reagan was a 'liberal Democrat'. In 1948, a very different sounding Ronald Reagan campaigned on the radio for Democrat Harry Truman. Listen to the old audio recording. ... more Duration: {{video.duration.momentjs}}. \",\n",
       "  'Ronald Reagan (1911-2004), a former actor and California governor, served as the 40th U.S. president from 1981 to 1989. Raised in small-town Illinois, he became a Hollywood actor in his 20s and later served as the Republican governor of California from 1967 to 1975. In November 1984, Ronald Reagan was reelected in a landslide, defeating Walter Mondale and his running mate Geraldine Ferraro (1935-), the first female vice-presidential candidate from a major U.S. political party.',\n",
       "  '1984 Re-Election. In November 1984, Ronald Reagan was re-elected in a landslide, defeating Democratic challenger Walter Mondale. Reagan carried 49 of the 50 U.S. states in the election, and received 525 of 538 electoral votes—the largest number ever won by an American presidential candidate. '],\n",
       " [\"Sydney lies on a submergent coastline, where the ocean level has risen to flood deep river valleys (rias) carved in the sandstone. There are more than 70 harbour and ocean beaches, including the famous Bondi Beach, in the urban area. Sydney's urban area covers 1,788 km² (690 mi²). The Sydney Statistical Division, used for census data, is the unofficial metropolitan area and covers 12,145 km² (4,689 mi²). This area includes the Central Coast and Blue Mountains as well as broad swathes of national park and other non-urban land.\",\n",
       "  'Glucose. Glucose is a carbohydrate, and is the most important simple sugar in human metabolism. Glucose is called a simple sugar or a monosaccharide because it is one of the smallest units which has the characteristics of this class of carbohydrates. Glucose is also sometimes called dextrose. Corn syrup is primarily glucose.',\n",
       "  'completely unrelated to the lungs. There are many possible causes of upper back pain, but the most common cause is muscle strain. Ligament and tendon strains and sprains may also occur in the upper back. Mechanical back pain or disc herniation is possible. There are also many possible causes of lung or breathing pain, which are not associated with your back or spine. Among these would be a collapsed lung, or an infection of some type, such as pneumonia or an abscess. You may also have pleuritis or pleurisy, an inflammation of the pleura that covers',\n",
       "  'Background. Metabolic acidosis is a clinical disturbance characterized by an increase in plasma acidity. Metabolic acidosis should be considered a sign of an underlying disease process. Identification of this underlying condition is essential to initiate appropriate therapy. Metabolic acidosis is a primary decrease in serum HCO 3. Rarely, metabolic acidosis can be part of a mixed or complex acid-base disturbance in which 2 or more separate metabolic or respiratory derangements occur together. In these instances, pH may not be reduced or the HCO 3 - concentration may not be low.',\n",
       "  'The cost of a patent can vary widely depending on, not only the complexity of the invention, but also the intended market. The most expensive patents are international patents, which can run up to $100,000 or higher. Domestically the costs can be $10,000 or above. Patent applications involve lots of text and drawings, even for simpler inventions. The first step in the patent application process is to file a non provisional patent application, which involves paying attorney fees in the range of $5000 to $15,000 or more, depending on the intricacies of the invention. The amount you spend on a patent application will also depend on the market opportunities',\n",
       "  '(1777-1779, the final lines of Oedipus at Colonnus). Sophocles of Kolōnos (c. 496 - c. 406 BCE) was one of the most famous and celebrated writers of tragedy plays in ancient Greece and his surviving works, written throughout the 5th century BCE, include such classics as Oedipus the King, Antigone, and Women of Trachis. The most famous playwrights of the genre were Aeschylus, Sophocles, and Euripides and many of their works were still performed centuries after their initial premiere. Greek tragedy led to Greek comedy and, together, these... [ continue reading ].',\n",
       "  'Sometimes people with conversion disorder have tremors or symptoms that resemble fainting spells or seizures * . There also may be loss of feeling in various parts of the body, or loss of the sense of smell, and symptoms may occur together.'])"
      ]
     },
     "execution_count": 16,
     "metadata": {},
     "output_type": "execute_result"
    }
   ],
   "source": [
    "triplets_train[1]"
   ]
  },
  {
   "cell_type": "markdown",
   "metadata": {},
   "source": [
    "# Tokenize"
   ]
  },
  {
   "cell_type": "code",
   "execution_count": 17,
   "metadata": {},
   "outputs": [
    {
     "ename": "ModuleNotFoundError",
     "evalue": "No module named 'sentencepiece'",
     "output_type": "error",
     "traceback": [
      "\u001b[0;31m---------------------------------------------------------------------------\u001b[0m",
      "\u001b[0;31mModuleNotFoundError\u001b[0m                       Traceback (most recent call last)",
      "Cell \u001b[0;32mIn[17], line 1\u001b[0m\n\u001b[0;32m----> 1\u001b[0m \u001b[38;5;28;01mimport\u001b[39;00m \u001b[38;5;21;01msentencepiece\u001b[39;00m \u001b[38;5;28;01mas\u001b[39;00m \u001b[38;5;21;01mspm\u001b[39;00m\n",
      "\u001b[0;31mModuleNotFoundError\u001b[0m: No module named 'sentencepiece'"
     ]
    }
   ],
   "source": [
    "import sentencepiece as spm"
   ]
  },
  {
   "cell_type": "code",
   "execution_count": 18,
   "metadata": {},
   "outputs": [
    {
     "ename": "NameError",
     "evalue": "name 'spm' is not defined",
     "output_type": "error",
     "traceback": [
      "\u001b[0;31m---------------------------------------------------------------------------\u001b[0m",
      "\u001b[0;31mNameError\u001b[0m                                 Traceback (most recent call last)",
      "Cell \u001b[0;32mIn[18], line 1\u001b[0m\n\u001b[0;32m----> 1\u001b[0m \u001b[43mspm\u001b[49m\u001b[38;5;241m.\u001b[39mSentencePieceTrainer\u001b[38;5;241m.\u001b[39mtrain(\u001b[38;5;124m'\u001b[39m\u001b[38;5;124m--input=wiki.txt --model_prefix=m --vocab_size=4771 --normalization_rule_name=nfkc_cf\u001b[39m\u001b[38;5;124m'\u001b[39m)\n\u001b[1;32m      2\u001b[0m sp \u001b[38;5;241m=\u001b[39m spm\u001b[38;5;241m.\u001b[39mSentencePieceProcessor()\n\u001b[1;32m      3\u001b[0m sp\u001b[38;5;241m.\u001b[39mload(\u001b[38;5;124m'\u001b[39m\u001b[38;5;124mm.model\u001b[39m\u001b[38;5;124m'\u001b[39m)\n",
      "\u001b[0;31mNameError\u001b[0m: name 'spm' is not defined"
     ]
    }
   ],
   "source": [
    "spm.SentencePieceTrainer.train('--input=wiki.txt --model_prefix=m --vocab_size=4771 --normalization_rule_name=nfkc_cf')\n",
    "sp = spm.SentencePieceProcessor()\n",
    "sp.load('m.model')"
   ]
  },
  {
   "cell_type": "code",
   "execution_count": null,
   "metadata": {},
   "outputs": [
    {
     "ename": "NameError",
     "evalue": "name 'triplets_train' is not defined",
     "output_type": "error",
     "traceback": [
      "\u001b[0;31m---------------------------------------------------------------------------\u001b[0m",
      "\u001b[0;31mNameError\u001b[0m                                 Traceback (most recent call last)",
      "Cell \u001b[0;32mIn[21], line 1\u001b[0m\n\u001b[0;32m----> 1\u001b[0m sp\u001b[38;5;241m.\u001b[39mencode_as_pieces(\u001b[43mtriplets_train\u001b[49m)\n",
      "\u001b[0;31mNameError\u001b[0m: name 'triplets_train' is not defined"
     ]
    }
   ],
   "source": [
    "sp.encode_as_pieces(triplets_train)"
   ]
  },
  {
   "cell_type": "markdown",
   "metadata": {},
   "source": [
    "# prepare embeddings"
   ]
  },
  {
   "cell_type": "code",
   "execution_count": null,
   "metadata": {},
   "outputs": [],
   "source": [
    "# from sentence_transformers import SentenceTransformer\n",
    "from gensim.models import Word2Vec"
   ]
  },
  {
   "cell_type": "code",
   "execution_count": null,
   "metadata": {},
   "outputs": [],
   "source": [
    "def prepare_embeddings(triplets):\n",
    "    # Extract queries, relevant passages, and irrelevant passages from triplets\n",
    "    queries = [triplet[0] for triplet in triplets]\n",
    "    relevant_passages = [triplet[1] for triplet in triplets]\n",
    "    irrelevant_passages = [triplet[2] for triplet in triplets]\n",
    "    \n",
    "    # Train Word2Vec model on combined passages\n",
    "    combined_passages = relevant_passages + irrelevant_passages\n",
    "    model = Word2Vec(combined_passages, min_count=1, workers=4)\n",
    "    \n",
    "    # Generate embeddings for queries, relevant passages, and irrelevant passages\n",
    "    query_embeddings = [model.wv[query] for query in queries]\n",
    "    relevant_embeddings = [model.wv[passage] for passage in relevant_passages]\n",
    "    irrelevant_embeddings = [model.wv[passage] for passage in irrelevant_passages]\n",
    "    \n",
    "    return query_embeddings, relevant_embeddings, irrelevant_embeddings\n"
   ]
  },
  {
   "cell_type": "code",
   "execution_count": null,
   "metadata": {},
   "outputs": [],
   "source": [
    "prepare_embeddings(triplets=)"
   ]
  },
  {
   "cell_type": "code",
   "execution_count": null,
   "metadata": {},
   "outputs": [],
   "source": []
  }
 ],
 "metadata": {
  "kernelspec": {
   "display_name": "Python 3",
   "language": "python",
   "name": "python3"
  },
  "language_info": {
   "codemirror_mode": {
    "name": "ipython",
    "version": 3
   },
   "file_extension": ".py",
   "mimetype": "text/x-python",
   "name": "python",
   "nbconvert_exporter": "python",
   "pygments_lexer": "ipython3",
   "version": "3.11.7"
  }
 },
 "nbformat": 4,
 "nbformat_minor": 2
}
